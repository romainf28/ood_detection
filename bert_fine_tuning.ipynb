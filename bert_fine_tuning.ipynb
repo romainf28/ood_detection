{
 "cells": [
  {
   "cell_type": "code",
   "execution_count": 1,
   "id": "54be9673",
   "metadata": {
    "tags": []
   },
   "outputs": [
    {
     "name": "stderr",
     "output_type": "stream",
     "text": [
      "/usr/local/lib/python3.8/dist-packages/tqdm/auto.py:22: TqdmWarning: IProgress not found. Please update jupyter and ipywidgets. See https://ipywidgets.readthedocs.io/en/stable/user_install.html\n",
      "  from .autonotebook import tqdm as notebook_tqdm\n",
      "Downloading builder script: 4.31kB [00:00, 1.41MB/s]\n",
      "Downloading metadata: 2.17kB [00:00, 806kB/s]\n",
      "Downloading readme: 7.59kB [00:00, 1.64MB/s]\n"
     ]
    },
    {
     "name": "stdout",
     "output_type": "stream",
     "text": [
      "Downloading and preparing dataset imdb/plain_text to /home/upbeat_northcutt/.cache/huggingface/datasets/imdb/plain_text/1.0.0/d613c88cf8fa3bab83b4ded3713f1f74830d1100e171db75bbddb80b3345c9c0...\n"
     ]
    },
    {
     "name": "stderr",
     "output_type": "stream",
     "text": [
      "Downloading data: 100%|██████████| 84.1M/84.1M [00:12<00:00, 6.73MB/s]  \n",
      "                                                                                             \r"
     ]
    },
    {
     "name": "stdout",
     "output_type": "stream",
     "text": [
      "Dataset imdb downloaded and prepared to /home/upbeat_northcutt/.cache/huggingface/datasets/imdb/plain_text/1.0.0/d613c88cf8fa3bab83b4ded3713f1f74830d1100e171db75bbddb80b3345c9c0. Subsequent calls will reuse this data.\n"
     ]
    },
    {
     "name": "stderr",
     "output_type": "stream",
     "text": [
      "100%|██████████| 3/3 [00:00<00:00, 75.94it/s]\n"
     ]
    }
   ],
   "source": [
    "from datasets import load_dataset\n",
    "\n",
    "imdb = load_dataset(\"imdb\")"
   ]
  },
  {
   "cell_type": "code",
   "execution_count": 2,
   "id": "11bab9e5",
   "metadata": {
    "tags": []
   },
   "outputs": [
    {
     "data": {
      "text/plain": [
       "{'text': 'I love sci-fi and am willing to put up with a lot. Sci-fi movies/TV are usually underfunded, under-appreciated and misunderstood. I tried to like this, I really did, but it is to good TV sci-fi as Babylon 5 is to Star Trek (the original). Silly prosthetics, cheap cardboard sets, stilted dialogues, CG that doesn\\'t match the background, and painfully one-dimensional characters cannot be overcome with a \\'sci-fi\\' setting. (I\\'m sure there are those of you out there who think Babylon 5 is good sci-fi TV. It\\'s not. It\\'s clichéd and uninspiring.) While US viewers might like emotion and character development, sci-fi is a genre that does not take itself seriously (cf. Star Trek). It may treat important issues, yet not as a serious philosophy. It\\'s really difficult to care about the characters here as they are not simply foolish, just missing a spark of life. Their actions and reactions are wooden and predictable, often painful to watch. The makers of Earth KNOW it\\'s rubbish as they have to always say \"Gene Roddenberry\\'s Earth...\" otherwise people would not continue watching. Roddenberry\\'s ashes must be turning in their orbit as this dull, cheap, poorly edited (watching it without advert breaks really brings this home) trudging Trabant of a show lumbers into space. Spoiler. So, kill off a main character. And then bring him back as another actor. Jeeez! Dallas all over again.',\n",
       " 'label': 0}"
      ]
     },
     "execution_count": 2,
     "metadata": {},
     "output_type": "execute_result"
    }
   ],
   "source": [
    "imdb[\"test\"][0]"
   ]
  },
  {
   "cell_type": "code",
   "execution_count": 3,
   "id": "daf71e42",
   "metadata": {
    "tags": []
   },
   "outputs": [
    {
     "name": "stderr",
     "output_type": "stream",
     "text": [
      "2023-04-06 07:58:57.627516: I tensorflow/core/platform/cpu_feature_guard.cc:193] This TensorFlow binary is optimized with oneAPI Deep Neural Network Library (oneDNN) to use the following CPU instructions in performance-critical operations:  AVX2 AVX512F FMA\n",
      "To enable them in other operations, rebuild TensorFlow with the appropriate compiler flags.\n",
      "2023-04-06 07:58:58.693009: W tensorflow/compiler/xla/stream_executor/platform/default/dso_loader.cc:64] Could not load dynamic library 'libnvinfer.so.7'; dlerror: libnvinfer.so.7: cannot open shared object file: No such file or directory\n",
      "2023-04-06 07:58:58.693161: W tensorflow/compiler/xla/stream_executor/platform/default/dso_loader.cc:64] Could not load dynamic library 'libnvinfer_plugin.so.7'; dlerror: libnvinfer_plugin.so.7: cannot open shared object file: No such file or directory\n",
      "2023-04-06 07:58:58.693173: W tensorflow/compiler/tf2tensorrt/utils/py_utils.cc:38] TF-TRT Warning: Cannot dlopen some TensorRT libraries. If you would like to use Nvidia GPU with TensorRT, please make sure the missing libraries mentioned above are installed properly.\n",
      "Downloading (…)okenizer_config.json: 100%|██████████| 28.0/28.0 [00:00<00:00, 1.10kB/s]\n",
      "Downloading (…)lve/main/config.json: 100%|██████████| 483/483 [00:00<00:00, 21.2kB/s]\n",
      "Downloading (…)solve/main/vocab.txt: 232kB [00:00, 9.04MB/s]\n",
      "Downloading (…)/main/tokenizer.json: 466kB [00:00, 10.3MB/s]\n"
     ]
    }
   ],
   "source": [
    "from transformers import AutoTokenizer\n",
    "\n",
    "tokenizer = AutoTokenizer.from_pretrained(\"distilbert-base-uncased\")"
   ]
  },
  {
   "cell_type": "code",
   "execution_count": 4,
   "id": "f3bc794c",
   "metadata": {
    "tags": []
   },
   "outputs": [],
   "source": [
    "def preprocess_function(examples):\n",
    "    return tokenizer(examples[\"text\"], truncation=True)"
   ]
  },
  {
   "cell_type": "code",
   "execution_count": 10,
   "id": "415505d9",
   "metadata": {
    "tags": []
   },
   "outputs": [
    {
     "name": "stderr",
     "output_type": "stream",
     "text": [
      "Loading cached processed dataset at /home/upbeat_northcutt/.cache/huggingface/datasets/imdb/plain_text/1.0.0/d613c88cf8fa3bab83b4ded3713f1f74830d1100e171db75bbddb80b3345c9c0/cache-52408368931d496e.arrow\n",
      "Loading cached processed dataset at /home/upbeat_northcutt/.cache/huggingface/datasets/imdb/plain_text/1.0.0/d613c88cf8fa3bab83b4ded3713f1f74830d1100e171db75bbddb80b3345c9c0/cache-6283df0c106d702d.arrow\n"
     ]
    }
   ],
   "source": [
    "tokenized_imdb = imdb.map(preprocess_function, batched=True)"
   ]
  },
  {
   "cell_type": "code",
   "execution_count": 11,
   "id": "ffe5eada",
   "metadata": {
    "tags": []
   },
   "outputs": [],
   "source": [
    "from transformers import DataCollatorWithPadding\n",
    "\n",
    "data_collator = DataCollatorWithPadding(tokenizer=tokenizer)"
   ]
  },
  {
   "cell_type": "code",
   "execution_count": 12,
   "id": "cf337cd0",
   "metadata": {
    "tags": []
   },
   "outputs": [],
   "source": [
    "import evaluate\n",
    "import numpy as np\n",
    "\n",
    "accuracy = evaluate.load(\"accuracy\")\n",
    "\n",
    "def compute_metrics(eval_pred):\n",
    "    predictions, labels = eval_pred\n",
    "    predictions = np.argmax(predictions, axis=1)\n",
    "    return accuracy.compute(predictions=predictions, references=labels)"
   ]
  },
  {
   "cell_type": "code",
   "execution_count": 13,
   "id": "090d4b75",
   "metadata": {
    "tags": []
   },
   "outputs": [],
   "source": [
    "id2label = {0: \"NEGATIVE\", 1: \"POSITIVE\"}\n",
    "label2id = {\"NEGATIVE\": 0, \"POSITIVE\": 1}"
   ]
  },
  {
   "cell_type": "code",
   "execution_count": 15,
   "id": "e61944f5",
   "metadata": {
    "tags": []
   },
   "outputs": [],
   "source": [
    "from transformers import AutoModelForSequenceClassification, TrainingArguments, Trainer\n",
    "\n",
    "model = AutoModelForSequenceClassification.from_pretrained(\n",
    "    \"bert_results_imdb/checkpoint-4500\", num_labels=2, id2label=id2label, label2id=label2id\n",
    ").to('cuda')"
   ]
  },
  {
   "cell_type": "code",
   "execution_count": 17,
   "id": "c5e3fb7b",
   "metadata": {
    "tags": []
   },
   "outputs": [
    {
     "name": "stderr",
     "output_type": "stream",
     "text": [
      "using `logging_steps` to initialize `eval_steps` to 500\n",
      "PyTorch: setting up devices\n",
      "The default value for the training argument `--report_to` will change in v5 (from all installed integrations to none). In v5, you will need to use `--report_to all` to get the same behavior as now. You should start updating your code and make this info disappear :-).\n",
      "max_steps is given, it will override any value given in num_train_epochs\n",
      "Loading model from bert_results_imdb/checkpoint-4500.\n",
      "The following columns in the training set don't have a corresponding argument in `DistilBertForSequenceClassification.forward` and have been ignored: text. If text are not expected by `DistilBertForSequenceClassification.forward`,  you can safely ignore this message.\n",
      "***** Running training *****\n",
      "  Num examples = 25000\n",
      "  Num Epochs = 4\n",
      "  Instantaneous batch size per device = 16\n",
      "  Total train batch size (w. parallel, distributed & accumulation) = 16\n",
      "  Gradient Accumulation steps = 1\n",
      "  Total optimization steps = 5000\n",
      "  Number of trainable parameters = 66955010\n",
      "  Continuing training from checkpoint, will skip to saved global_step\n",
      "  Continuing training from epoch 2\n",
      "  Continuing training from global step 4500\n",
      "  Will skip the first 2 epochs then the first 1374 batches in the first epoch. If this takes a lot of time, you can add the `--ignore_data_skip` flag to your launch command, but you will resume the training on data already seen by your model.\n",
      "Skipping the first batches: 100%|██████████| 1374/1374 [00:06<00:00, 196.37it/s]\n"
     ]
    },
    {
     "data": {
      "text/html": [
       "\n",
       "    <div>\n",
       "      \n",
       "      <progress value='5000' max='5000' style='width:300px; height:20px; vertical-align: middle;'></progress>\n",
       "      [5000/5000 04:35, Epoch 3/4]\n",
       "    </div>\n",
       "    <table border=\"1\" class=\"dataframe\">\n",
       "  <thead>\n",
       " <tr style=\"text-align: left;\">\n",
       "      <th>Step</th>\n",
       "      <th>Training Loss</th>\n",
       "      <th>Validation Loss</th>\n",
       "      <th>Accuracy</th>\n",
       "    </tr>\n",
       "  </thead>\n",
       "  <tbody>\n",
       "    <tr>\n",
       "      <td>5000</td>\n",
       "      <td>0.121700</td>\n",
       "      <td>0.256555</td>\n",
       "      <td>0.928560</td>\n",
       "    </tr>\n",
       "  </tbody>\n",
       "</table><p>"
      ],
      "text/plain": [
       "<IPython.core.display.HTML object>"
      ]
     },
     "metadata": {},
     "output_type": "display_data"
    },
    {
     "name": "stderr",
     "output_type": "stream",
     "text": [
      "The following columns in the evaluation set don't have a corresponding argument in `DistilBertForSequenceClassification.forward` and have been ignored: text. If text are not expected by `DistilBertForSequenceClassification.forward`,  you can safely ignore this message.\n",
      "***** Running Evaluation *****\n",
      "  Num examples = 25000\n",
      "  Batch size = 16\n",
      "Saving model checkpoint to bert_results_imdb/checkpoint-5000\n",
      "Configuration saved in bert_results_imdb/checkpoint-5000/config.json\n",
      "Model weights saved in bert_results_imdb/checkpoint-5000/pytorch_model.bin\n",
      "tokenizer config file saved in bert_results_imdb/checkpoint-5000/tokenizer_config.json\n",
      "Special tokens file saved in bert_results_imdb/checkpoint-5000/special_tokens_map.json\n",
      "\n",
      "\n",
      "Training completed. Do not forget to share your model on huggingface.co/models =)\n",
      "\n",
      "\n",
      "Loading best model from bert_results_imdb/checkpoint-1500 (score: 0.19886040687561035).\n"
     ]
    },
    {
     "data": {
      "text/plain": [
       "TrainOutput(global_step=5000, training_loss=0.012169338989257813, metrics={'train_runtime': 282.4683, 'train_samples_per_second': 283.218, 'train_steps_per_second': 17.701, 'total_flos': 1.0488689973064128e+16, 'train_loss': 0.012169338989257813, 'epoch': 3.2})"
      ]
     },
     "execution_count": 17,
     "metadata": {},
     "output_type": "execute_result"
    }
   ],
   "source": [
    "training_args = TrainingArguments(\n",
    "    output_dir=\"bert_results_imdb\",\n",
    "    learning_rate=1e-5,\n",
    "    per_device_train_batch_size=16,\n",
    "    per_device_eval_batch_size=16,\n",
    "    weight_decay=0.01,\n",
    "    warmup_ratio = 0.06,\n",
    "    max_steps = 5000,\n",
    "    optim = 'adamw_torch',\n",
    "    save_strategy = 'steps',\n",
    "    evaluation_strategy='steps',\n",
    "    load_best_model_at_end=True\n",
    ")\n",
    "\n",
    "trainer = Trainer(\n",
    "    model=model,\n",
    "    args=training_args,\n",
    "    train_dataset=tokenized_imdb[\"train\"],\n",
    "    eval_dataset=tokenized_imdb[\"test\"],\n",
    "    tokenizer=tokenizer,\n",
    "    data_collator=data_collator,\n",
    "    compute_metrics=compute_metrics,\n",
    ")\n",
    "\n",
    "trainer.train('bert_results_imdb/checkpoint-4500')"
   ]
  },
  {
   "cell_type": "code",
   "execution_count": 28,
   "id": "380c3241",
   "metadata": {},
   "outputs": [
    {
     "name": "stderr",
     "output_type": "stream",
     "text": [
      "loading configuration file bert_results_imdb/checkpoint-5000/config.json\n",
      "Model config DistilBertConfig {\n",
      "  \"_name_or_path\": \"bert_results_imdb/checkpoint-5000\",\n",
      "  \"activation\": \"gelu\",\n",
      "  \"architectures\": [\n",
      "    \"DistilBertForSequenceClassification\"\n",
      "  ],\n",
      "  \"attention_dropout\": 0.1,\n",
      "  \"dim\": 768,\n",
      "  \"dropout\": 0.1,\n",
      "  \"hidden_dim\": 3072,\n",
      "  \"id2label\": {\n",
      "    \"0\": \"NEGATIVE\",\n",
      "    \"1\": \"POSITIVE\"\n",
      "  },\n",
      "  \"initializer_range\": 0.02,\n",
      "  \"label2id\": {\n",
      "    \"NEGATIVE\": 0,\n",
      "    \"POSITIVE\": 1\n",
      "  },\n",
      "  \"max_position_embeddings\": 512,\n",
      "  \"model_type\": \"distilbert\",\n",
      "  \"n_heads\": 12,\n",
      "  \"n_layers\": 6,\n",
      "  \"pad_token_id\": 0,\n",
      "  \"problem_type\": \"single_label_classification\",\n",
      "  \"qa_dropout\": 0.1,\n",
      "  \"seq_classif_dropout\": 0.2,\n",
      "  \"sinusoidal_pos_embds\": false,\n",
      "  \"tie_weights_\": true,\n",
      "  \"torch_dtype\": \"float32\",\n",
      "  \"transformers_version\": \"4.26.1\",\n",
      "  \"vocab_size\": 30522\n",
      "}\n",
      "\n",
      "loading weights file bert_results_imdb/checkpoint-5000/pytorch_model.bin\n",
      "All model checkpoint weights were used when initializing DistilBertForSequenceClassification.\n",
      "\n",
      "All the weights of DistilBertForSequenceClassification were initialized from the model checkpoint at bert_results_imdb/checkpoint-5000.\n",
      "If your task is similar to the task the model of the checkpoint was trained on, you can already use DistilBertForSequenceClassification for predictions without further training.\n"
     ]
    }
   ],
   "source": [
    "model = AutoModelForSequenceClassification.from_pretrained(\n",
    "    \"bert_results_imdb/checkpoint-5000\", num_labels=2, id2label=id2label, label2id=label2id\n",
    ")"
   ]
  },
  {
   "cell_type": "code",
   "execution_count": 29,
   "id": "62033125-264a-4f2b-bcb7-85d4afc2d362",
   "metadata": {},
   "outputs": [
    {
     "name": "stderr",
     "output_type": "stream",
     "text": [
      "Configuration saved in /tmp/tmplotr4hd_/config.json\n",
      "Model weights saved in /tmp/tmplotr4hd_/pytorch_model.bin\n",
      "Uploading the following files to romainf/distilbert-base-uncased-imdb-5000: config.json,pytorch_model.bin\n",
      "Upload 1 LFS files:   0%|          | 0/1 [00:00<?, ?it/s]\n",
      "pytorch_model.bin:   0%|          | 0.00/268M [00:00<?, ?B/s]\u001b[A\n",
      "pytorch_model.bin:   0%|          | 8.19k/268M [00:00<2:47:41, 26.6kB/s]\u001b[A\n",
      "pytorch_model.bin:   0%|          | 180k/268M [00:00<09:55, 449kB/s]    \u001b[A\n",
      "pytorch_model.bin:   0%|          | 500k/268M [00:00<04:31, 984kB/s]\u001b[A\n",
      "pytorch_model.bin:   1%|          | 1.93M/268M [00:00<01:03, 4.20MB/s]\u001b[A\n",
      "pytorch_model.bin:   2%|▏         | 4.38M/268M [00:00<00:28, 9.39MB/s]\u001b[A\n",
      "pytorch_model.bin:   2%|▏         | 5.68M/268M [00:01<00:31, 8.34MB/s]\u001b[A\n",
      "pytorch_model.bin:   3%|▎         | 7.98M/268M [00:01<00:22, 11.8MB/s]\u001b[A\n",
      "pytorch_model.bin:   4%|▍         | 10.9M/268M [00:01<00:16, 15.9MB/s]\u001b[A\n",
      "pytorch_model.bin:   5%|▌         | 14.4M/268M [00:01<00:13, 19.5MB/s]\u001b[A\n",
      "pytorch_model.bin:   6%|▌         | 16.5M/268M [00:02<00:34, 7.31MB/s]\u001b[A\n",
      "pytorch_model.bin:   7%|▋         | 18.1M/268M [00:02<00:32, 7.61MB/s]\u001b[A\n",
      "pytorch_model.bin:   8%|▊         | 20.9M/268M [00:02<00:29, 8.43MB/s]\u001b[A\n",
      "pytorch_model.bin:   9%|▉         | 23.8M/268M [00:02<00:21, 11.2MB/s]\u001b[A\n",
      "pytorch_model.bin:  10%|▉         | 26.7M/268M [00:02<00:17, 14.1MB/s]\u001b[A\n",
      "pytorch_model.bin:  11%|█         | 30.0M/268M [00:02<00:13, 17.4MB/s]\u001b[A\n",
      "pytorch_model.bin:  12%|█▏        | 32.4M/268M [00:03<00:29, 7.86MB/s]\u001b[A\n",
      "pytorch_model.bin:  13%|█▎        | 34.2M/268M [00:03<00:30, 7.61MB/s]\u001b[A\n",
      "pytorch_model.bin:  13%|█▎        | 35.6M/268M [00:04<00:27, 8.43MB/s]\u001b[A\n",
      "pytorch_model.bin:  14%|█▍        | 37.1M/268M [00:04<00:27, 8.39MB/s]\u001b[A\n",
      "pytorch_model.bin:  15%|█▍        | 39.5M/268M [00:04<00:21, 10.7MB/s]\u001b[A\n",
      "pytorch_model.bin:  16%|█▌        | 42.4M/268M [00:04<00:16, 14.1MB/s]\u001b[A\n",
      "pytorch_model.bin:  17%|█▋        | 46.0M/268M [00:04<00:12, 18.0MB/s]\u001b[A\n",
      "pytorch_model.bin:  18%|█▊        | 48.3M/268M [00:05<00:26, 8.30MB/s]\u001b[A\n",
      "pytorch_model.bin:  19%|█▊        | 50.0M/268M [00:05<00:30, 7.19MB/s]\u001b[A\n",
      "pytorch_model.bin:  20%|█▉        | 53.1M/268M [00:05<00:24, 8.80MB/s]\u001b[A\n",
      "pytorch_model.bin:  21%|██        | 55.5M/268M [00:05<00:19, 10.8MB/s]\u001b[A\n",
      "pytorch_model.bin:  22%|██▏       | 58.6M/268M [00:05<00:15, 13.7MB/s]\u001b[A\n",
      "pytorch_model.bin:  23%|██▎       | 62.1M/268M [00:06<00:11, 17.3MB/s]\u001b[A\n",
      "pytorch_model.bin:  24%|██▍       | 64.5M/268M [00:06<00:26, 7.69MB/s]\u001b[A\n",
      "pytorch_model.bin:  25%|██▍       | 66.3M/268M [00:07<00:25, 8.02MB/s]\u001b[A\n",
      "pytorch_model.bin:  26%|██▌       | 69.5M/268M [00:07<00:19, 9.98MB/s]\u001b[A\n",
      "pytorch_model.bin:  27%|██▋       | 71.5M/268M [00:07<00:17, 11.4MB/s]\u001b[A\n",
      "pytorch_model.bin:  28%|██▊       | 74.9M/268M [00:07<00:12, 15.0MB/s]\u001b[A\n",
      "pytorch_model.bin:  29%|██▉       | 78.2M/268M [00:07<00:10, 18.5MB/s]\u001b[A\n",
      "pytorch_model.bin:  30%|███       | 80.8M/268M [00:08<00:25, 7.29MB/s]\u001b[A\n",
      "pytorch_model.bin:  31%|███       | 82.7M/268M [00:08<00:24, 7.64MB/s]\u001b[A\n",
      "pytorch_model.bin:  31%|███▏      | 84.3M/268M [00:08<00:21, 8.46MB/s]\u001b[A\n",
      "pytorch_model.bin:  32%|███▏      | 85.9M/268M [00:08<00:19, 9.50MB/s]\u001b[A\n",
      "pytorch_model.bin:  33%|███▎      | 87.6M/268M [00:09<00:16, 10.8MB/s]\u001b[A\n",
      "pytorch_model.bin:  34%|███▍      | 90.6M/268M [00:09<00:12, 14.2MB/s]\u001b[A\n",
      "pytorch_model.bin:  35%|███▌      | 94.0M/268M [00:09<00:09, 18.0MB/s]\u001b[A\n",
      "pytorch_model.bin:  36%|███▌      | 96.3M/268M [00:10<00:23, 7.31MB/s]\u001b[A\n",
      "pytorch_model.bin:  37%|███▋      | 98.0M/268M [00:10<00:23, 7.18MB/s]\u001b[A\n",
      "pytorch_model.bin:  38%|███▊      | 101M/268M [00:10<00:18, 8.87MB/s] \u001b[A\n",
      "pytorch_model.bin:  39%|███▊      | 103M/268M [00:10<00:16, 10.2MB/s]\u001b[A\n",
      "pytorch_model.bin:  40%|███▉      | 106M/268M [00:10<00:12, 13.4MB/s]\u001b[A\n",
      "pytorch_model.bin:  41%|████▏     | 110M/268M [00:10<00:08, 18.2MB/s]\u001b[A\n",
      "pytorch_model.bin:  42%|████▏     | 113M/268M [00:11<00:22, 6.76MB/s]\u001b[A\n",
      "pytorch_model.bin:  43%|████▎     | 116M/268M [00:12<00:19, 7.91MB/s]\u001b[A\n",
      "pytorch_model.bin:  44%|████▍     | 118M/268M [00:12<00:16, 9.32MB/s]\u001b[A\n",
      "pytorch_model.bin:  45%|████▍     | 120M/268M [00:12<00:13, 11.0MB/s]\u001b[A\n",
      "pytorch_model.bin:  46%|████▌     | 123M/268M [00:12<00:10, 13.6MB/s]\u001b[A\n",
      "pytorch_model.bin:  47%|████▋     | 126M/268M [00:12<00:08, 16.7MB/s]\u001b[A\n",
      "pytorch_model.bin:  48%|████▊     | 128M/268M [00:13<00:17, 7.99MB/s]\u001b[A\n",
      "pytorch_model.bin:  49%|████▊     | 130M/268M [00:13<00:17, 7.78MB/s]\u001b[A\n",
      "pytorch_model.bin:  50%|████▉     | 133M/268M [00:13<00:13, 10.1MB/s]\u001b[A\n",
      "pytorch_model.bin:  50%|█████     | 135M/268M [00:13<00:12, 10.9MB/s]\u001b[A\n",
      "pytorch_model.bin:  51%|█████     | 137M/268M [00:13<00:10, 12.3MB/s]\u001b[A\n",
      "pytorch_model.bin:  52%|█████▏    | 140M/268M [00:13<00:07, 16.7MB/s]\u001b[A\n",
      "pytorch_model.bin:  54%|█████▎    | 143M/268M [00:13<00:06, 19.8MB/s]\u001b[A\n",
      "pytorch_model.bin:  54%|█████▍    | 146M/268M [00:14<00:17, 6.79MB/s]\u001b[A\n",
      "pytorch_model.bin:  55%|█████▌    | 148M/268M [00:15<00:15, 7.83MB/s]\u001b[A\n",
      "pytorch_model.bin:  56%|█████▌    | 150M/268M [00:15<00:14, 8.19MB/s]\u001b[A\n",
      "pytorch_model.bin:  56%|█████▋    | 151M/268M [00:15<00:12, 9.46MB/s]\u001b[A\n",
      "pytorch_model.bin:  58%|█████▊    | 155M/268M [00:15<00:08, 13.2MB/s]\u001b[A\n",
      "pytorch_model.bin:  59%|█████▉    | 158M/268M [00:15<00:06, 16.8MB/s]\u001b[A\n",
      "pytorch_model.bin:  60%|█████▉    | 160M/268M [00:16<00:13, 7.96MB/s]\u001b[A\n",
      "pytorch_model.bin:  60%|██████    | 162M/268M [00:16<00:15, 7.05MB/s]\u001b[A\n",
      "pytorch_model.bin:  62%|██████▏   | 165M/268M [00:16<00:11, 8.59MB/s]\u001b[A\n",
      "pytorch_model.bin:  63%|██████▎   | 168M/268M [00:16<00:09, 10.6MB/s]\u001b[A\n",
      "pytorch_model.bin:  64%|██████▎   | 171M/268M [00:17<00:07, 13.3MB/s]\u001b[A\n",
      "pytorch_model.bin:  65%|██████▍   | 174M/268M [00:17<00:05, 16.8MB/s]\u001b[A\n",
      "pytorch_model.bin:  66%|██████▌   | 176M/268M [00:17<00:11, 7.78MB/s]\u001b[A\n",
      "pytorch_model.bin:  67%|██████▋   | 178M/268M [00:18<00:11, 7.50MB/s]\u001b[A\n",
      "pytorch_model.bin:  68%|██████▊   | 181M/268M [00:18<00:08, 9.91MB/s]\u001b[A\n",
      "pytorch_model.bin:  68%|██████▊   | 183M/268M [00:18<00:07, 10.8MB/s]\u001b[A\n",
      "pytorch_model.bin:  69%|██████▉   | 185M/268M [00:18<00:06, 13.2MB/s]\u001b[A\n",
      "pytorch_model.bin:  70%|███████   | 188M/268M [00:18<00:04, 16.0MB/s]\u001b[A\n",
      "pytorch_model.bin:  71%|███████▏  | 191M/268M [00:18<00:03, 19.2MB/s]\u001b[A\n",
      "pytorch_model.bin:  72%|███████▏  | 194M/268M [00:19<00:10, 6.97MB/s]\u001b[A\n",
      "pytorch_model.bin:  74%|███████▎  | 197M/268M [00:19<00:08, 8.55MB/s]\u001b[A\n",
      "pytorch_model.bin:  75%|███████▍  | 200M/268M [00:20<00:06, 10.9MB/s]\u001b[A\n",
      "pytorch_model.bin:  76%|███████▌  | 203M/268M [00:20<00:04, 13.3MB/s]\u001b[A\n",
      "pytorch_model.bin:  77%|███████▋  | 206M/268M [00:20<00:03, 16.0MB/s]\u001b[A\n",
      "pytorch_model.bin:  78%|███████▊  | 208M/268M [00:20<00:06, 9.58MB/s]\u001b[A\n",
      "pytorch_model.bin:  78%|███████▊  | 210M/268M [00:21<00:08, 6.81MB/s]\u001b[A\n",
      "pytorch_model.bin:  79%|███████▉  | 212M/268M [00:21<00:07, 7.81MB/s]\u001b[A\n",
      "pytorch_model.bin:  80%|███████▉  | 213M/268M [00:21<00:06, 7.86MB/s]\u001b[A\n",
      "pytorch_model.bin:  80%|████████  | 216M/268M [00:21<00:05, 10.1MB/s]\u001b[A\n",
      "pytorch_model.bin:  82%|████████▏ | 218M/268M [00:21<00:03, 13.1MB/s]\u001b[A\n",
      "pytorch_model.bin:  83%|████████▎ | 222M/268M [00:21<00:02, 16.8MB/s]\u001b[A\n",
      "pytorch_model.bin:  84%|████████▎ | 224M/268M [00:22<00:04, 8.81MB/s]\u001b[A\n",
      "pytorch_model.bin:  84%|████████▍ | 226M/268M [00:22<00:06, 6.96MB/s]\u001b[A\n",
      "pytorch_model.bin:  85%|████████▍ | 228M/268M [00:23<00:05, 7.46MB/s]\u001b[A\n",
      "pytorch_model.bin:  85%|████████▌ | 229M/268M [00:23<00:05, 7.35MB/s]\u001b[A\n",
      "pytorch_model.bin:  86%|████████▌ | 230M/268M [00:23<00:05, 7.20MB/s]\u001b[A\n",
      "pytorch_model.bin:  86%|████████▋ | 231M/268M [00:23<00:05, 7.22MB/s]\u001b[A\n",
      "pytorch_model.bin:  87%|████████▋ | 233M/268M [00:23<00:04, 7.21MB/s]\u001b[A\n",
      "pytorch_model.bin:  87%|████████▋ | 234M/268M [00:24<00:04, 7.23MB/s]\u001b[A\n",
      "pytorch_model.bin:  88%|████████▊ | 235M/268M [00:24<00:04, 7.40MB/s]\u001b[A\n",
      "pytorch_model.bin:  88%|████████▊ | 237M/268M [00:24<00:04, 7.53MB/s]\u001b[A\n",
      "pytorch_model.bin:  89%|████████▉ | 238M/268M [00:24<00:03, 7.59MB/s]\u001b[A\n",
      "pytorch_model.bin:  89%|████████▉ | 240M/268M [00:24<00:03, 7.69MB/s]\u001b[A\n",
      "pytorch_model.bin:  90%|████████▉ | 240M/268M [00:25<00:09, 2.78MB/s]\u001b[A\n",
      "pytorch_model.bin:  90%|████████▉ | 241M/268M [00:25<00:09, 2.88MB/s]\u001b[A\n",
      "pytorch_model.bin:  91%|█████████ | 243M/268M [00:26<00:05, 4.79MB/s]\u001b[A\n",
      "pytorch_model.bin:  92%|█████████▏| 245M/268M [00:26<00:03, 6.33MB/s]\u001b[A\n",
      "pytorch_model.bin:  93%|█████████▎| 248M/268M [00:26<00:02, 9.10MB/s]\u001b[A\n",
      "pytorch_model.bin:  94%|█████████▎| 251M/268M [00:26<00:01, 13.0MB/s]\u001b[A\n",
      "pytorch_model.bin:  95%|█████████▍| 254M/268M [00:26<00:00, 16.4MB/s]\u001b[A\n",
      "pytorch_model.bin:  96%|█████████▌| 256M/268M [00:27<00:01, 6.95MB/s]\u001b[A\n",
      "pytorch_model.bin:  96%|█████████▋| 258M/268M [00:27<00:01, 6.89MB/s]\u001b[A\n",
      "pytorch_model.bin:  97%|█████████▋| 260M/268M [00:27<00:01, 7.84MB/s]\u001b[A\n",
      "pytorch_model.bin:  98%|█████████▊| 261M/268M [00:27<00:00, 7.96MB/s]\u001b[A\n",
      "pytorch_model.bin:  98%|█████████▊| 263M/268M [00:27<00:00, 10.1MB/s]\u001b[A\n",
      "pytorch_model.bin: 100%|██████████| 268M/268M [00:28<00:00, 9.36MB/s]\u001b[A\n",
      "Upload 1 LFS files: 100%|██████████| 1/1 [00:28<00:00, 28.62s/it]\n"
     ]
    },
    {
     "data": {
      "text/plain": [
       "CommitInfo(commit_url='https://huggingface.co/romainf/distilbert-base-uncased-imdb-5000/commit/67bcadf5ef16fa3295df73c67cb13bede69f3ff0', commit_message='Upload DistilBertForSequenceClassification', commit_description='', oid='67bcadf5ef16fa3295df73c67cb13bede69f3ff0', pr_url=None, pr_revision=None, pr_num=None)"
      ]
     },
     "execution_count": 29,
     "metadata": {},
     "output_type": "execute_result"
    }
   ],
   "source": [
    "model.push_to_hub('romainf/distilbert-base-uncased-imdb-5000')"
   ]
  },
  {
   "cell_type": "code",
   "execution_count": null,
   "id": "8c606706-1010-4a8d-a6ca-8c59a5aa71bc",
   "metadata": {},
   "outputs": [],
   "source": []
  }
 ],
 "metadata": {
  "kernelspec": {
   "display_name": "Python 3 (ipykernel)",
   "language": "python",
   "name": "python3"
  },
  "language_info": {
   "codemirror_mode": {
    "name": "ipython",
    "version": 3
   },
   "file_extension": ".py",
   "mimetype": "text/x-python",
   "name": "python",
   "nbconvert_exporter": "python",
   "pygments_lexer": "ipython3",
   "version": "3.8.10"
  }
 },
 "nbformat": 4,
 "nbformat_minor": 5
}
