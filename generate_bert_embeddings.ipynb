{
 "cells": [
  {
   "cell_type": "code",
   "execution_count": 6,
   "id": "44658240",
   "metadata": {},
   "outputs": [],
   "source": [
    "from datasets import load_dataset\n",
    "from torch.utils.data import DataLoader\n",
    "from transformers import AutoTokenizer, AutoModelForSequenceClassification\n",
    "import torch\n",
    "import pickle"
   ]
  },
  {
   "cell_type": "code",
   "execution_count": 3,
   "id": "5df4930b",
   "metadata": {},
   "outputs": [
    {
     "data": {
      "application/vnd.jupyter.widget-view+json": {
       "model_id": "21dcd30bc67a4d38ac612907fb189e22",
       "version_major": 2,
       "version_minor": 0
      },
      "text/plain": [
       "Downloading:   0%|          | 0.00/28.0 [00:00<?, ?B/s]"
      ]
     },
     "metadata": {},
     "output_type": "display_data"
    },
    {
     "data": {
      "application/vnd.jupyter.widget-view+json": {
       "model_id": "5b63fda71e3d41bf8e1d9ed497eede5c",
       "version_major": 2,
       "version_minor": 0
      },
      "text/plain": [
       "Downloading:   0%|          | 0.00/570 [00:00<?, ?B/s]"
      ]
     },
     "metadata": {},
     "output_type": "display_data"
    },
    {
     "data": {
      "application/vnd.jupyter.widget-view+json": {
       "model_id": "24336561d69c43389555409799483528",
       "version_major": 2,
       "version_minor": 0
      },
      "text/plain": [
       "Downloading:   0%|          | 0.00/232k [00:00<?, ?B/s]"
      ]
     },
     "metadata": {},
     "output_type": "display_data"
    },
    {
     "data": {
      "application/vnd.jupyter.widget-view+json": {
       "model_id": "5d92087386e3424a93df82a473979f91",
       "version_major": 2,
       "version_minor": 0
      },
      "text/plain": [
       "Downloading:   0%|          | 0.00/466k [00:00<?, ?B/s]"
      ]
     },
     "metadata": {},
     "output_type": "display_data"
    },
    {
     "data": {
      "application/vnd.jupyter.widget-view+json": {
       "model_id": "7cb36ada1d05410eb6a88bec86f3e6d9",
       "version_major": 2,
       "version_minor": 0
      },
      "text/plain": [
       "Downloading:   0%|          | 0.00/440M [00:00<?, ?B/s]"
      ]
     },
     "metadata": {},
     "output_type": "display_data"
    },
    {
     "name": "stderr",
     "output_type": "stream",
     "text": [
      "Some weights of the model checkpoint at bert-base-uncased were not used when initializing BertForSequenceClassification: ['cls.predictions.transform.dense.weight', 'cls.seq_relationship.weight', 'cls.predictions.transform.LayerNorm.bias', 'cls.predictions.transform.LayerNorm.weight', 'cls.seq_relationship.bias', 'cls.predictions.bias', 'cls.predictions.decoder.weight', 'cls.predictions.transform.dense.bias']\n",
      "- This IS expected if you are initializing BertForSequenceClassification from the checkpoint of a model trained on another task or with another architecture (e.g. initializing a BertForSequenceClassification model from a BertForPreTraining model).\n",
      "- This IS NOT expected if you are initializing BertForSequenceClassification from the checkpoint of a model that you expect to be exactly identical (initializing a BertForSequenceClassification model from a BertForSequenceClassification model).\n",
      "Some weights of BertForSequenceClassification were not initialized from the model checkpoint at bert-base-uncased and are newly initialized: ['classifier.weight', 'classifier.bias']\n",
      "You should probably TRAIN this model on a down-stream task to be able to use it for predictions and inference.\n"
     ]
    }
   ],
   "source": [
    "tokenizer = AutoTokenizer.from_pretrained(\"bert-base-uncased\")\n",
    "model = AutoModelForSequenceClassification.from_pretrained(\"bert-base-uncased\")"
   ]
  },
  {
   "cell_type": "code",
   "execution_count": null,
   "id": "3d765ab9",
   "metadata": {},
   "outputs": [],
   "source": [
    "class LatentBert(torch.nn.Module):\n",
    "\n",
    "    def __init__(self, base_model):\n",
    "        super().__init__()\n",
    "        self.base_model = base_model\n",
    "        self.n_lauyers = len(self.base_model.bert.encoder.layer)\n",
    "\n",
    "    def to(self, device):\n",
    "        self.base_model.to(device)\n",
    "        return self\n",
    "\n",
    "    def forward(self, x, aggregate=True):\n",
    "        \n",
    "        x = self.base_model.bert.embeddings(x)\n",
    "        latent_reps = torch.zeros((x.shape[0], x.shape[2],self.n_layers)\n",
    "        )\n",
    "        for i, layer in enumerate(self.base_model.bert.encoder.layer) :\n",
    "            x = layer(x)[0]\n",
    "            latent_reps[:,:,i] = x[:,0,:] #Take the hidden state of the CLS token for sentence-level classification\n",
    "        \n",
    "        x_ = self.base_model.bert.pooler(x)\n",
    "        x = self.base_model.classifier(x_)\n",
    "                \n",
    "        return {\"embeddings\" : torch.mean(latent_reps, axis=-1) if aggregate else latent_reps, \"logits\": x, \"attention\": x_}"
   ]
  },
  {
   "cell_type": "code",
   "execution_count": 8,
   "id": "dd6bcbd6",
   "metadata": {},
   "outputs": [],
   "source": [
    "dataset_names = {'imdb':'imdb', 'sst2':'sst2', 'trec':'trec', '20ng':'SetFit/20_newsgroups'}\n",
    "collate_fns = {\n",
    "    'imdb' : lambda x : [el['text'] for el in x], \n",
    "    'sst2' : lambda x: [el['sentence'] for el in x], \n",
    "    'trec' : lambda x : [el['text'] for el in x],  \n",
    "    '20ng' : lambda x : [el['text'].replace('\\n', ' ').replace(\"\\\\\", '') for el in x ]\n",
    "}"
   ]
  },
  {
   "cell_type": "code",
   "execution_count": null,
   "id": "e9601401",
   "metadata": {},
   "outputs": [],
   "source": [
    "latent_bert = LatentBert(model)\n",
    "embeddings = []\n",
    "\n",
    "for ds_name, ds in dataset_names :\n",
    "    dataset = load_dataset(ds)\n",
    "    data_loader = DataLoader(dataset = dataset['test'], batch_size=16, collate_fn=collate_fns[ds_name] )\n",
    "    embeddings = []\n",
    "    logits = []\n",
    "    attentions = []\n",
    "    for batch in tqdm(data_loader):\n",
    "        batch_encoded_input = tokenizer(batch, return_tensors='pt', truncation=True, padding=True)['input_ids'].to('cuda')\n",
    "        outputs = latent_bert.forward(batch_encoded_input, aggregate=False)\n",
    "        embeddings.append(outputs['embeddings'].cpu().detach())\n",
    "        logits.append(outputs['logits'].cpu().detach())\n",
    "        attentions.append(outputs['attention'].cpu().detach())\n",
    "        \n",
    "        with open('./pickle_files/embeddings_ood_test_{}.pkl'.format(ds_name), 'wb') as f:\n",
    "            pickle.dump(embeddings, f)\n",
    "\n",
    "        with open('./pickle_files/logits_ood_test_{}.pkl'.format(ds_name), 'wb') as f:\n",
    "            pickle.dump(logits, f)\n",
    "\n",
    "        with open('./pickle_files/attentions_ood_test_{}.pkl'.format(ds_name), 'wb') as f:\n",
    "            pickle.dump(attentions, f)\n",
    "        \n",
    "        \n",
    "        \n",
    "    \n",
    "    "
   ]
  },
  {
   "cell_type": "code",
   "execution_count": 7,
   "id": "f2baff75",
   "metadata": {},
   "outputs": [],
   "source": []
  },
  {
   "cell_type": "code",
   "execution_count": null,
   "id": "86422d9d",
   "metadata": {},
   "outputs": [],
   "source": []
  }
 ],
 "metadata": {
  "kernelspec": {
   "display_name": "Python 3 (ipykernel)",
   "language": "python",
   "name": "python3"
  },
  "language_info": {
   "codemirror_mode": {
    "name": "ipython",
    "version": 3
   },
   "file_extension": ".py",
   "mimetype": "text/x-python",
   "name": "python",
   "nbconvert_exporter": "python",
   "pygments_lexer": "ipython3",
   "version": "3.10.6"
  }
 },
 "nbformat": 4,
 "nbformat_minor": 5
}
