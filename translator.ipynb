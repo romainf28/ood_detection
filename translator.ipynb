{
 "cells": [
  {
   "cell_type": "code",
   "execution_count": 1,
   "metadata": {
    "tags": []
   },
   "outputs": [
    {
     "name": "stderr",
     "output_type": "stream",
     "text": [
      "/usr/local/lib/python3.8/dist-packages/tqdm/auto.py:22: TqdmWarning: IProgress not found. Please update jupyter and ipywidgets. See https://ipywidgets.readthedocs.io/en/stable/user_install.html\n",
      "  from .autonotebook import tqdm as notebook_tqdm\n",
      "2023-04-06 16:52:28.572537: I tensorflow/core/platform/cpu_feature_guard.cc:193] This TensorFlow binary is optimized with oneAPI Deep Neural Network Library (oneDNN) to use the following CPU instructions in performance-critical operations:  AVX2 FMA\n",
      "To enable them in other operations, rebuild TensorFlow with the appropriate compiler flags.\n",
      "2023-04-06 16:52:29.650591: W tensorflow/compiler/xla/stream_executor/platform/default/dso_loader.cc:64] Could not load dynamic library 'libnvinfer.so.7'; dlerror: libnvinfer.so.7: cannot open shared object file: No such file or directory\n",
      "2023-04-06 16:52:29.650732: W tensorflow/compiler/xla/stream_executor/platform/default/dso_loader.cc:64] Could not load dynamic library 'libnvinfer_plugin.so.7'; dlerror: libnvinfer_plugin.so.7: cannot open shared object file: No such file or directory\n",
      "2023-04-06 16:52:29.650757: W tensorflow/compiler/tf2tensorrt/utils/py_utils.cc:38] TF-TRT Warning: Cannot dlopen some TensorRT libraries. If you would like to use Nvidia GPU with TensorRT, please make sure the missing libraries mentioned above are installed properly.\n"
     ]
    },
    {
     "data": {
      "text/plain": [
       "<torch._C.Generator at 0x7f2db979ac50>"
      ]
     },
     "execution_count": 1,
     "metadata": {},
     "output_type": "execute_result"
    }
   ],
   "source": [
    "import torch\n",
    "from transformers import AutoTokenizer\n",
    "import datasets\n",
    "from utils_generator import GenerationModel\n",
    "\n",
    "from torch.utils.data import DataLoader, random_split\n",
    "torch.manual_seed(9)"
   ]
  },
  {
   "cell_type": "code",
   "execution_count": 2,
   "metadata": {
    "tags": []
   },
   "outputs": [],
   "source": [
    "args = {\n",
    "    \"batch_size\":16,\n",
    "    \"num_workers\":0,\n",
    "    \"shuffle\":True,\n",
    "    \"drop_last\":False\n",
    "    }"
   ]
  },
  {
   "cell_type": "code",
   "execution_count": 3,
   "metadata": {
    "tags": []
   },
   "outputs": [
    {
     "name": "stderr",
     "output_type": "stream",
     "text": [
      "/home/funny_shannon/.local/lib/python3.8/site-packages/transformers/models/marian/tokenization_marian.py:194: UserWarning: Recommended: pip install sacremoses.\n",
      "  warnings.warn(\"Recommended: pip install sacremoses.\")\n"
     ]
    },
    {
     "name": "stdout",
     "output_type": "stream",
     "text": [
      "cuda\n"
     ]
    }
   ],
   "source": [
    "tokenizer = AutoTokenizer.from_pretrained(\"Helsinki-NLP/opus-mt-de-en\")\n",
    "\n",
    "model = GenerationModel(\"Helsinki-NLP/opus-mt-de-en\")"
   ]
  },
  {
   "cell_type": "code",
   "execution_count": 4,
   "metadata": {
    "tags": []
   },
   "outputs": [
    {
     "name": "stderr",
     "output_type": "stream",
     "text": [
      "Found cached dataset tatoeba_mt (/home/funny_shannon/.cache/huggingface/datasets/Helsinki-NLP___tatoeba_mt/deu-eng/0.0.0/01e819f3f64a772a2ca70949061d295d3a2dc99d05183fe4776a3be23f75f619)\n",
      "Found cached dataset tatoeba_mt (/home/funny_shannon/.cache/huggingface/datasets/Helsinki-NLP___tatoeba_mt/eng-fra/0.0.0/01e819f3f64a772a2ca70949061d295d3a2dc99d05183fe4776a3be23f75f619)\n"
     ]
    }
   ],
   "source": [
    "data_de = datasets.load_dataset('Helsinki-NLP/tatoeba_mt','deu-eng',split=datasets.Split.TEST, \n",
    "                                verification_mode= datasets.VerificationMode.NO_CHECKS)\n",
    "data_de_train, data_de_test = random_split(data_de, [0.7, 0.3])\n",
    "\n",
    "data_fr = datasets.load_dataset('Helsinki-NLP/tatoeba_mt','eng-fra', split=datasets.Split.TEST, \n",
    "                                verification_mode= datasets.VerificationMode.NO_CHECKS)\\\n",
    "                                    .rename_columns({'sourceLang': 'targetlang', 'targetlang': 'sourceLang', \n",
    "                                                     'sourceString': 'targetString', 'targetString': 'sourceString'})\n",
    "data_fr_train, data_fr_test = random_split(data_fr, [0.7, 0.3])\n",
    "\n",
    "# data_nld = datasets.load_dataset('Helsinki-NLP/tatoeba_mt','eng-nld',split=datasets.Split.TEST,\n",
    "#                                   verification_mode= datasets.VerificationMode.NO_CHECKS)\\\n",
    "#                                     .rename_columns({'sourceLang': 'targetlang', 'targetlang': 'sourceLang', \n",
    "#                                                      'sourceString': 'targetString', 'targetString': 'sourceString'})"
   ]
  },
  {
   "cell_type": "code",
   "execution_count": 5,
   "metadata": {
    "tags": []
   },
   "outputs": [
    {
     "data": {
      "text/plain": [
       "{'sourceLang': 'deu',\n",
       " 'targetlang': 'eng',\n",
       " 'sourceString': 'Schach ist schwer.',\n",
       " 'targetString': 'Chess is difficult.'}"
      ]
     },
     "execution_count": 5,
     "metadata": {},
     "output_type": "execute_result"
    }
   ],
   "source": [
    "data_de_test[0]"
   ]
  },
  {
   "cell_type": "code",
   "execution_count": 6,
   "metadata": {
    "tags": []
   },
   "outputs": [],
   "source": [
    "loader_de_train = DataLoader(data_de_train, batch_size=args['batch_size'], num_workers=args['num_workers'], \n",
    "                       shuffle=args['shuffle'], drop_last=args['drop_last'])\n",
    "\n",
    "loader_de_test = DataLoader(data_de_test, batch_size=args['batch_size'], num_workers=args['num_workers'], \n",
    "                       shuffle=args['shuffle'], drop_last=args['drop_last'])\n",
    "\n",
    "loader_fr_train = DataLoader(data_fr_train, batch_size=args['batch_size'], num_workers=args['num_workers'], \n",
    "                       shuffle=args['shuffle'], drop_last=args['drop_last'])\n",
    "\n",
    "loader_fr_test = DataLoader(data_fr_test, batch_size=args['batch_size'], num_workers=args['num_workers'], \n",
    "                       shuffle=args['shuffle'], drop_last=args['drop_last'])\n",
    "\n",
    "# loader_nld = DataLoader(data_nld, batch_size=args['batch_size'], num_workers=args['num_workers'], \n",
    "#                        shuffle=args['shuffle'], drop_last=args['drop_last'])"
   ]
  },
  {
   "cell_type": "code",
   "execution_count": 7,
   "metadata": {
    "tags": []
   },
   "outputs": [],
   "source": [
    "x_de_train = tokenizer(next(iter(loader_de_train))[\"sourceString\"], return_tensors=\"pt\", padding=True)\n",
    "x_de_test = tokenizer(next(iter(loader_de_test))[\"sourceString\"], return_tensors=\"pt\", padding=True)\n",
    "\n",
    "\n",
    "x_fr_train = tokenizer(next(iter(loader_fr_train))[\"sourceString\"], return_tensors=\"pt\", padding=True)\n",
    "# x_fr_test = tokenizer(next(iter(loader_fr_test))[\"sourceString\"], return_tensors=\"pt\", padding=True)\n",
    "\n",
    "# x_nld = tokenizer(next(iter(loader_nld))[\"sourceString\"], return_tensors=\"pt\", padding=True)"
   ]
  },
  {
   "cell_type": "code",
   "execution_count": 8,
   "metadata": {
    "tags": []
   },
   "outputs": [
    {
     "name": "stderr",
     "output_type": "stream",
     "text": [
      "Generate bag of distribution:   0%|          | 0/769 [00:00<?, ?it/s]/home/funny_shannon/.local/lib/python3.8/site-packages/transformers/generation/utils.py:1273: UserWarning: Neither `max_length` nor `max_new_tokens` has been set, `max_length` will default to 512 (`generation_config.max_length`). Controlling `max_length` via the config is deprecated and `max_length` will be removed from the config in v5 of Transformers -- we recommend using `max_new_tokens` to control the maximum length of the generation.\n",
      "  warnings.warn(\n",
      "Generate bag of distribution: 100%|██████████| 769/769 [02:24<00:00,  5.32it/s]\n"
     ]
    },
    {
     "data": {
      "text/plain": [
       "tensor([[1.9912e-01, 1.9238e-06, 3.9704e-04,  ..., 1.7847e-06, 1.7250e-06,\n",
       "         0.0000e+00],\n",
       "        [1.8176e-01, 1.7974e-06, 1.5423e-03,  ..., 1.6767e-06, 1.6458e-06,\n",
       "         0.0000e+00],\n",
       "        [1.8808e-01, 3.1588e-06, 1.4716e-04,  ..., 2.8378e-06, 2.6739e-06,\n",
       "         0.0000e+00],\n",
       "        ...,\n",
       "        [1.8343e-01, 2.2108e-06, 2.0578e-04,  ..., 2.0458e-06, 1.9161e-06,\n",
       "         0.0000e+00],\n",
       "        [2.4672e-01, 2.0948e-06, 3.7988e-04,  ..., 1.9547e-06, 1.9018e-06,\n",
       "         0.0000e+00],\n",
       "        [6.9219e-02, 1.4555e-06, 5.2810e-02,  ..., 1.4299e-06, 1.4094e-06,\n",
       "         0.0000e+00]], device='cuda:0')"
      ]
     },
     "execution_count": 8,
     "metadata": {},
     "output_type": "execute_result"
    }
   ],
   "source": [
    "model.generate_bag(loader_de_train)"
   ]
  },
  {
   "cell_type": "code",
   "execution_count": 9,
   "metadata": {
    "tags": []
   },
   "outputs": [
    {
     "name": "stderr",
     "output_type": "stream",
     "text": [
      "Computing divergence: 100%|██████████| 192/192 [00:00<00:00, 406.41it/s] \n"
     ]
    }
   ],
   "source": [
    "anomaly= model.anomaly_score(x_de_test, 'Renyi', \"s1\", 0.1, temperature=1)"
   ]
  },
  {
   "cell_type": "code",
   "execution_count": 10,
   "metadata": {
    "tags": []
   },
   "outputs": [
    {
     "data": {
      "text/plain": [
       "tensor([0.1145, 0.0887, 0.1311, 0.1680, 0.0970, 0.0746, 0.0040, 0.0858, 0.0784,\n",
       "        0.1458, 0.0548, 0.0979, 0.0440, 0.0867, 0.0639, 0.0766],\n",
       "       device='cuda:0')"
      ]
     },
     "execution_count": 10,
     "metadata": {},
     "output_type": "execute_result"
    }
   ],
   "source": [
    "anomaly"
   ]
  },
  {
   "cell_type": "code",
   "execution_count": 11,
   "metadata": {
    "tags": []
   },
   "outputs": [
    {
     "name": "stderr",
     "output_type": "stream",
     "text": [
      "Computing divergence: 100%|██████████| 192/192 [00:00<00:00, 435.17it/s] \n"
     ]
    }
   ],
   "source": [
    "anomaly_fr= model.anomaly_score(x_fr_train, 'Renyi', \"s1\", 0.1, temperature=1)"
   ]
  },
  {
   "cell_type": "code",
   "execution_count": 12,
   "metadata": {
    "tags": []
   },
   "outputs": [
    {
     "name": "stderr",
     "output_type": "stream",
     "text": [
      "Computing anomaly score for each data:   0%|          | 0/238 [00:00<?, ?it/s]\n",
      "Computing divergence:   0%|          | 0/192 [00:00<?, ?it/s]\u001b[A\n",
      "Computing divergence: 100%|██████████| 192/192 [00:00<00:00, 435.12it/s] \u001b[A\n",
      "Computing anomaly score for each data:   0%|          | 1/238 [00:01<04:55,  1.25s/it]\n",
      "Computing divergence:   0%|          | 0/192 [00:00<?, ?it/s]\u001b[A\n",
      "Computing divergence: 100%|██████████| 192/192 [00:00<00:00, 435.02it/s] \u001b[A\n",
      "Computing anomaly score for each data:   1%|          | 2/238 [00:03<06:22,  1.62s/it]\n",
      "Computing divergence:   0%|          | 0/192 [00:00<?, ?it/s]\u001b[A\n",
      "Computing divergence: 100%|██████████| 192/192 [00:00<00:00, 435.11it/s] \u001b[A\n",
      "Computing anomaly score for each data:   1%|▏         | 3/238 [00:04<05:54,  1.51s/it]\n",
      "Computing divergence:   0%|          | 0/192 [00:00<?, ?it/s]\u001b[A\n",
      "Computing divergence: 100%|██████████| 192/192 [00:00<00:00, 433.59it/s] \u001b[A\n",
      "Computing anomaly score for each data:   2%|▏         | 4/238 [00:05<05:38,  1.45s/it]\n",
      "Computing divergence:   0%|          | 0/192 [00:00<?, ?it/s]\u001b[A\n",
      "Computing divergence: 100%|██████████| 192/192 [00:00<00:00, 435.08it/s] \u001b[A\n",
      "Computing anomaly score for each data:   2%|▏         | 5/238 [00:07<05:26,  1.40s/it]\n",
      "Computing divergence:   0%|          | 0/192 [00:00<?, ?it/s]\u001b[A\n",
      "Computing divergence: 100%|██████████| 192/192 [00:00<00:00, 434.86it/s] \u001b[A\n",
      "Computing anomaly score for each data:   3%|▎         | 6/238 [00:08<05:17,  1.37s/it]\n",
      "Computing divergence:   0%|          | 0/192 [00:00<?, ?it/s]\u001b[A\n",
      "Computing divergence: 100%|██████████| 192/192 [00:00<00:00, 434.92it/s] \u001b[A\n",
      "Computing anomaly score for each data:   3%|▎         | 7/238 [00:10<05:39,  1.47s/it]\n",
      "Computing divergence:   0%|          | 0/192 [00:00<?, ?it/s]\u001b[A\n",
      "Computing divergence: 100%|██████████| 192/192 [00:00<00:00, 434.92it/s] \u001b[A\n",
      "Computing anomaly score for each data:   3%|▎         | 8/238 [00:11<06:01,  1.57s/it]\n",
      "Computing divergence:   0%|          | 0/192 [00:00<?, ?it/s]\u001b[A\n",
      "Computing divergence: 100%|██████████| 192/192 [00:00<00:00, 435.00it/s] \u001b[A\n",
      "Computing anomaly score for each data:   4%|▍         | 9/238 [00:13<05:42,  1.50s/it]\n",
      "Computing divergence:   0%|          | 0/192 [00:00<?, ?it/s]\u001b[A\n",
      "Computing divergence: 100%|██████████| 192/192 [00:00<00:00, 435.35it/s] \u001b[A\n",
      "Computing anomaly score for each data:   4%|▍         | 10/238 [00:14<05:26,  1.43s/it]\n",
      "Computing divergence:   0%|          | 0/192 [00:00<?, ?it/s]\u001b[A\n",
      "Computing divergence: 100%|██████████| 192/192 [00:00<00:00, 435.25it/s] \u001b[A\n",
      "Computing anomaly score for each data:   5%|▍         | 11/238 [00:15<05:14,  1.39s/it]\n",
      "Computing divergence:   0%|          | 0/192 [00:00<?, ?it/s]\u001b[A\n",
      "Computing divergence: 100%|██████████| 192/192 [00:00<00:00, 435.44it/s] \u001b[A\n",
      "Computing anomaly score for each data:   5%|▌         | 12/238 [00:17<05:11,  1.38s/it]\n",
      "Computing divergence:   0%|          | 0/192 [00:00<?, ?it/s]\u001b[A\n",
      "Computing divergence: 100%|██████████| 192/192 [00:00<00:00, 435.18it/s] \u001b[A\n",
      "Computing anomaly score for each data:   5%|▌         | 13/238 [00:18<05:07,  1.37s/it]\n",
      "Computing divergence:   0%|          | 0/192 [00:00<?, ?it/s]\u001b[A\n",
      "Computing divergence: 100%|██████████| 192/192 [00:00<00:00, 435.26it/s] \u001b[A\n",
      "Computing anomaly score for each data:   6%|▌         | 14/238 [00:19<05:04,  1.36s/it]\n",
      "Computing divergence:   0%|          | 0/192 [00:00<?, ?it/s]\u001b[A\n",
      "Computing divergence: 100%|██████████| 192/192 [00:00<00:00, 435.45it/s] \u001b[A\n",
      "Computing anomaly score for each data:   6%|▋         | 15/238 [00:21<05:19,  1.43s/it]\n",
      "Computing divergence:   0%|          | 0/192 [00:00<?, ?it/s]\u001b[A\n",
      "Computing divergence: 100%|██████████| 192/192 [00:00<00:00, 435.13it/s] \u001b[A\n",
      "Computing anomaly score for each data:   7%|▋         | 16/238 [00:22<05:12,  1.41s/it]\n",
      "Computing divergence:   0%|          | 0/192 [00:00<?, ?it/s]\u001b[A\n",
      "Computing divergence: 100%|██████████| 192/192 [00:00<00:00, 435.02it/s] \u001b[A\n",
      "Computing anomaly score for each data:   7%|▋         | 17/238 [00:24<05:07,  1.39s/it]\n",
      "Computing divergence:   0%|          | 0/192 [00:00<?, ?it/s]\u001b[A\n",
      "Computing divergence: 100%|██████████| 192/192 [00:00<00:00, 435.41it/s] \u001b[A\n",
      "Computing anomaly score for each data:   8%|▊         | 18/238 [00:25<05:23,  1.47s/it]\n",
      "Computing divergence:   0%|          | 0/192 [00:00<?, ?it/s]\u001b[A\n",
      "Computing divergence: 100%|██████████| 192/192 [00:00<00:00, 435.22it/s] \u001b[A\n",
      "Computing anomaly score for each data:   8%|▊         | 19/238 [00:27<05:29,  1.51s/it]\n",
      "Computing divergence:   0%|          | 0/192 [00:00<?, ?it/s]\u001b[A\n",
      "Computing divergence: 100%|██████████| 192/192 [00:00<00:00, 433.91it/s] \u001b[A\n",
      "Computing anomaly score for each data:   8%|▊         | 20/238 [00:28<05:16,  1.45s/it]\n",
      "Computing divergence:   0%|          | 0/192 [00:00<?, ?it/s]\u001b[A\n",
      "Computing divergence: 100%|██████████| 192/192 [00:00<00:00, 435.44it/s] \u001b[A\n",
      "Computing anomaly score for each data:   9%|▉         | 21/238 [00:30<05:09,  1.43s/it]\n",
      "Computing divergence:   0%|          | 0/192 [00:00<?, ?it/s]\u001b[A\n",
      "Computing divergence: 100%|██████████| 192/192 [00:00<00:00, 435.13it/s] \u001b[A\n",
      "Computing anomaly score for each data:   9%|▉         | 22/238 [00:31<05:02,  1.40s/it]\n",
      "Computing divergence:   0%|          | 0/192 [00:00<?, ?it/s]\u001b[A\n",
      "Computing divergence: 100%|██████████| 192/192 [00:00<00:00, 434.93it/s] \u001b[A\n",
      "Computing anomaly score for each data:  10%|▉         | 23/238 [00:36<09:02,  2.52s/it]\n",
      "Computing divergence:   0%|          | 0/192 [00:00<?, ?it/s]\u001b[A\n",
      "Computing divergence: 100%|██████████| 192/192 [00:00<00:00, 435.16it/s] \u001b[A\n",
      "Computing anomaly score for each data:  10%|█         | 24/238 [00:37<07:46,  2.18s/it]\n",
      "Computing divergence:   0%|          | 0/192 [00:00<?, ?it/s]\u001b[A\n",
      "Computing divergence: 100%|██████████| 192/192 [00:00<00:00, 435.14it/s] \u001b[A\n",
      "Computing anomaly score for each data:  11%|█         | 25/238 [00:39<06:44,  1.90s/it]\n",
      "Computing divergence:   0%|          | 0/192 [00:00<?, ?it/s]\u001b[A\n",
      "Computing divergence: 100%|██████████| 192/192 [00:00<00:00, 435.43it/s] \u001b[A\n",
      "Computing anomaly score for each data:  11%|█         | 26/238 [00:40<06:16,  1.77s/it]\n",
      "Computing divergence:   0%|          | 0/192 [00:00<?, ?it/s]\u001b[A\n",
      "Computing divergence: 100%|██████████| 192/192 [00:00<00:00, 434.92it/s] \u001b[A\n",
      "Computing anomaly score for each data:  11%|█▏        | 27/238 [00:42<05:44,  1.63s/it]\n",
      "Computing divergence:   0%|          | 0/192 [00:00<?, ?it/s]\u001b[A\n",
      "Computing divergence: 100%|██████████| 192/192 [00:00<00:00, 433.46it/s] \u001b[A\n",
      "Computing anomaly score for each data:  12%|█▏        | 28/238 [00:43<05:21,  1.53s/it]\n",
      "Computing divergence:   0%|          | 0/192 [00:00<?, ?it/s]\u001b[A\n",
      "Computing divergence: 100%|██████████| 192/192 [00:00<00:00, 435.50it/s] \u001b[A\n",
      "Computing anomaly score for each data:  12%|█▏        | 29/238 [00:44<05:04,  1.46s/it]\n",
      "Computing divergence:   0%|          | 0/192 [00:00<?, ?it/s]\u001b[A\n",
      "Computing divergence: 100%|██████████| 192/192 [00:00<00:00, 435.08it/s] \u001b[A\n",
      "Computing anomaly score for each data:  13%|█▎        | 30/238 [00:45<04:58,  1.44s/it]\n",
      "Computing divergence:   0%|          | 0/192 [00:00<?, ?it/s]\u001b[A\n",
      "Computing divergence: 100%|██████████| 192/192 [00:00<00:00, 434.93it/s] \u001b[A\n",
      "Computing anomaly score for each data:  13%|█▎        | 31/238 [00:48<05:36,  1.62s/it]\n",
      "Computing divergence:   0%|          | 0/192 [00:00<?, ?it/s]\u001b[A\n",
      "Computing divergence: 100%|██████████| 192/192 [00:00<00:00, 435.30it/s] \u001b[A\n",
      "Computing anomaly score for each data:  13%|█▎        | 32/238 [00:49<05:34,  1.62s/it]\n",
      "Computing divergence:   0%|          | 0/192 [00:00<?, ?it/s]\u001b[A\n",
      "Computing divergence: 100%|██████████| 192/192 [00:00<00:00, 435.44it/s] \u001b[A\n",
      "Computing anomaly score for each data:  14%|█▍        | 33/238 [00:51<05:15,  1.54s/it]\n",
      "Computing divergence:   0%|          | 0/192 [00:00<?, ?it/s]\u001b[A\n",
      "Computing divergence: 100%|██████████| 192/192 [00:00<00:00, 435.26it/s] \u001b[A\n",
      "Computing anomaly score for each data:  14%|█▍        | 34/238 [00:52<05:05,  1.50s/it]\n",
      "Computing divergence:   0%|          | 0/192 [00:00<?, ?it/s]\u001b[A\n",
      "Computing divergence: 100%|██████████| 192/192 [00:00<00:00, 435.45it/s] \u001b[A\n",
      "Computing anomaly score for each data:  15%|█▍        | 35/238 [00:53<04:51,  1.44s/it]\n",
      "Computing divergence:   0%|          | 0/192 [00:00<?, ?it/s]\u001b[A\n",
      "Computing divergence: 100%|██████████| 192/192 [00:00<00:00, 434.37it/s] \u001b[A\n",
      "Computing anomaly score for each data:  15%|█▌        | 36/238 [00:55<04:46,  1.42s/it]\n",
      "Computing divergence:   0%|          | 0/192 [00:00<?, ?it/s]\u001b[A\n",
      "Computing divergence: 100%|██████████| 192/192 [00:00<00:00, 435.33it/s] \u001b[A\n",
      "Computing anomaly score for each data:  16%|█▌        | 37/238 [00:56<04:44,  1.41s/it]\n",
      "Computing divergence:   0%|          | 0/192 [00:00<?, ?it/s]\u001b[A\n",
      "Computing divergence: 100%|██████████| 192/192 [00:00<00:00, 435.52it/s] \u001b[A\n",
      "Computing anomaly score for each data:  16%|█▌        | 38/238 [00:57<04:46,  1.43s/it]\n",
      "Computing divergence:   0%|          | 0/192 [00:00<?, ?it/s]\u001b[A\n",
      "Computing divergence: 100%|██████████| 192/192 [00:00<00:00, 435.31it/s] \u001b[A\n",
      "Computing anomaly score for each data:  16%|█▋        | 39/238 [00:59<04:42,  1.42s/it]\n",
      "Computing divergence:   0%|          | 0/192 [00:00<?, ?it/s]\u001b[A\n",
      "Computing divergence: 100%|██████████| 192/192 [00:00<00:00, 435.31it/s] \u001b[A\n",
      "Computing anomaly score for each data:  17%|█▋        | 40/238 [01:00<04:33,  1.38s/it]\n",
      "Computing divergence:   0%|          | 0/192 [00:00<?, ?it/s]\u001b[A\n",
      "Computing divergence: 100%|██████████| 192/192 [00:00<00:00, 435.34it/s] \u001b[A\n",
      "Computing anomaly score for each data:  17%|█▋        | 41/238 [01:01<04:27,  1.36s/it]\n",
      "Computing divergence:   0%|          | 0/192 [00:00<?, ?it/s]\u001b[A\n",
      "Computing divergence: 100%|██████████| 192/192 [00:00<00:00, 435.47it/s] \u001b[A\n",
      "Computing anomaly score for each data:  18%|█▊        | 42/238 [01:03<04:22,  1.34s/it]\n",
      "Computing divergence:   0%|          | 0/192 [00:00<?, ?it/s]\u001b[A\n",
      "Computing divergence: 100%|██████████| 192/192 [00:00<00:00, 435.14it/s] \u001b[A\n",
      "Computing anomaly score for each data:  18%|█▊        | 43/238 [01:04<04:19,  1.33s/it]\n",
      "Computing divergence:   0%|          | 0/192 [00:00<?, ?it/s]\u001b[A\n",
      "Computing divergence: 100%|██████████| 192/192 [00:00<00:00, 435.27it/s] \u001b[A\n",
      "Computing anomaly score for each data:  18%|█▊        | 44/238 [01:05<04:18,  1.33s/it]\n",
      "Computing divergence:   0%|          | 0/192 [00:00<?, ?it/s]\u001b[A\n",
      "Computing divergence: 100%|██████████| 192/192 [00:00<00:00, 435.33it/s] \u001b[A\n",
      "Computing anomaly score for each data:  19%|█▉        | 45/238 [01:07<04:16,  1.33s/it]\n",
      "Computing divergence:   0%|          | 0/192 [00:00<?, ?it/s]\u001b[A\n",
      "Computing divergence: 100%|██████████| 192/192 [00:00<00:00, 435.26it/s] \u001b[A\n",
      "Computing anomaly score for each data:  19%|█▉        | 46/238 [01:08<04:14,  1.32s/it]\n",
      "Computing divergence:   0%|          | 0/192 [00:00<?, ?it/s]\u001b[A\n",
      "Computing divergence: 100%|██████████| 192/192 [00:00<00:00, 435.35it/s] \u001b[A\n",
      "Computing anomaly score for each data:  20%|█▉        | 47/238 [01:09<04:12,  1.32s/it]\n",
      "Computing divergence:   0%|          | 0/192 [00:00<?, ?it/s]\u001b[A\n",
      "Computing divergence: 100%|██████████| 192/192 [00:00<00:00, 435.62it/s] \u001b[A\n",
      "Computing anomaly score for each data:  20%|██        | 48/238 [01:11<04:13,  1.33s/it]\n",
      "Computing divergence:   0%|          | 0/192 [00:00<?, ?it/s]\u001b[A\n",
      "Computing divergence: 100%|██████████| 192/192 [00:00<00:00, 435.36it/s] \u001b[A\n",
      "Computing anomaly score for each data:  21%|██        | 49/238 [01:12<04:18,  1.37s/it]\n",
      "Computing divergence:   0%|          | 0/192 [00:00<?, ?it/s]\u001b[A\n",
      "Computing divergence: 100%|██████████| 192/192 [00:00<00:00, 435.20it/s] \u001b[A\n",
      "Computing anomaly score for each data:  21%|██        | 50/238 [01:13<04:15,  1.36s/it]\n",
      "Computing divergence:   0%|          | 0/192 [00:00<?, ?it/s]\u001b[A\n",
      "Computing divergence: 100%|██████████| 192/192 [00:00<00:00, 434.18it/s] \u001b[A\n",
      "Computing anomaly score for each data:  21%|██▏       | 51/238 [01:16<04:51,  1.56s/it]\n",
      "Computing divergence:   0%|          | 0/192 [00:00<?, ?it/s]\u001b[A\n",
      "Computing divergence: 100%|██████████| 192/192 [00:00<00:00, 435.51it/s] \u001b[A\n",
      "Computing anomaly score for each data:  22%|██▏       | 52/238 [01:17<04:37,  1.49s/it]\n",
      "Computing divergence:   0%|          | 0/192 [00:00<?, ?it/s]\u001b[A\n",
      "Computing divergence: 100%|██████████| 192/192 [00:00<00:00, 435.40it/s] \u001b[A\n",
      "Computing anomaly score for each data:  22%|██▏       | 53/238 [01:18<04:28,  1.45s/it]\n",
      "Computing divergence:   0%|          | 0/192 [00:00<?, ?it/s]\u001b[A\n",
      "Computing divergence: 100%|██████████| 192/192 [00:00<00:00, 435.39it/s] \u001b[A\n",
      "Computing anomaly score for each data:  23%|██▎       | 54/238 [01:20<04:21,  1.42s/it]\n",
      "Computing divergence:   0%|          | 0/192 [00:00<?, ?it/s]\u001b[A\n",
      "Computing divergence: 100%|██████████| 192/192 [00:00<00:00, 435.19it/s] \u001b[A\n",
      "Computing anomaly score for each data:  23%|██▎       | 55/238 [01:21<04:15,  1.40s/it]\n",
      "Computing divergence:   0%|          | 0/192 [00:00<?, ?it/s]\u001b[A\n",
      "Computing divergence: 100%|██████████| 192/192 [00:00<00:00, 435.27it/s] \u001b[A\n",
      "Computing anomaly score for each data:  24%|██▎       | 56/238 [01:22<04:12,  1.39s/it]\n",
      "Computing divergence:   0%|          | 0/192 [00:00<?, ?it/s]\u001b[A\n",
      "Computing divergence: 100%|██████████| 192/192 [00:00<00:00, 435.39it/s] \u001b[A\n",
      "Computing anomaly score for each data:  24%|██▍       | 57/238 [01:24<04:06,  1.36s/it]\n",
      "Computing divergence:   0%|          | 0/192 [00:00<?, ?it/s]\u001b[A\n",
      "Computing divergence: 100%|██████████| 192/192 [00:00<00:00, 435.16it/s] \u001b[A\n",
      "Computing anomaly score for each data:  24%|██▍       | 58/238 [01:25<04:04,  1.36s/it]\n",
      "Computing divergence:   0%|          | 0/192 [00:00<?, ?it/s]\u001b[A\n",
      "Computing divergence: 100%|██████████| 192/192 [00:00<00:00, 435.34it/s] \u001b[A\n",
      "Computing anomaly score for each data:  25%|██▍       | 59/238 [01:26<04:07,  1.38s/it]\n",
      "Computing divergence:   0%|          | 0/192 [00:00<?, ?it/s]\u001b[A\n",
      "Computing divergence: 100%|██████████| 192/192 [00:00<00:00, 435.34it/s] \u001b[A\n",
      "Computing anomaly score for each data:  25%|██▌       | 60/238 [01:28<04:06,  1.39s/it]\n",
      "Computing divergence:   0%|          | 0/192 [00:00<?, ?it/s]\u001b[A\n",
      "Computing divergence: 100%|██████████| 192/192 [00:00<00:00, 435.40it/s] \u001b[A\n",
      "Computing anomaly score for each data:  26%|██▌       | 61/238 [01:29<04:04,  1.38s/it]\n",
      "Computing divergence:   0%|          | 0/192 [00:00<?, ?it/s]\u001b[A\n",
      "Computing divergence: 100%|██████████| 192/192 [00:00<00:00, 435.28it/s] \u001b[A\n",
      "Computing anomaly score for each data:  26%|██▌       | 62/238 [01:31<04:26,  1.52s/it]\n",
      "Computing divergence:   0%|          | 0/192 [00:00<?, ?it/s]\u001b[A\n",
      "Computing divergence: 100%|██████████| 192/192 [00:00<00:00, 434.90it/s] \u001b[A\n",
      "Computing anomaly score for each data:  26%|██▋       | 63/238 [01:32<04:15,  1.46s/it]\n",
      "Computing divergence:   0%|          | 0/192 [00:00<?, ?it/s]\u001b[A\n",
      "Computing divergence: 100%|██████████| 192/192 [00:00<00:00, 435.42it/s] \u001b[A\n",
      "Computing anomaly score for each data:  27%|██▋       | 64/238 [01:34<04:04,  1.40s/it]\n",
      "Computing divergence:   0%|          | 0/192 [00:00<?, ?it/s]\u001b[A\n",
      "Computing divergence: 100%|██████████| 192/192 [00:00<00:00, 435.02it/s] \u001b[A\n",
      "Computing anomaly score for each data:  27%|██▋       | 65/238 [01:35<04:04,  1.41s/it]\n",
      "Computing divergence:   0%|          | 0/192 [00:00<?, ?it/s]\u001b[A\n",
      "Computing divergence: 100%|██████████| 192/192 [00:00<00:00, 434.41it/s] \u001b[A\n",
      "Computing anomaly score for each data:  28%|██▊       | 66/238 [01:36<03:58,  1.38s/it]\n",
      "Computing divergence:   0%|          | 0/192 [00:00<?, ?it/s]\u001b[A\n",
      "Computing divergence: 100%|██████████| 192/192 [00:00<00:00, 435.41it/s] \u001b[A\n",
      "Computing anomaly score for each data:  28%|██▊       | 67/238 [01:38<03:50,  1.35s/it]\n",
      "Computing divergence:   0%|          | 0/192 [00:00<?, ?it/s]\u001b[A\n",
      "Computing divergence: 100%|██████████| 192/192 [00:00<00:00, 434.98it/s] \u001b[A\n",
      "Computing anomaly score for each data:  29%|██▊       | 68/238 [01:39<03:52,  1.37s/it]\n",
      "Computing divergence:   0%|          | 0/192 [00:00<?, ?it/s]\u001b[A\n",
      "Computing divergence: 100%|██████████| 192/192 [00:00<00:00, 435.31it/s] \u001b[A\n",
      "Computing anomaly score for each data:  29%|██▉       | 69/238 [01:40<03:56,  1.40s/it]\n",
      "Computing divergence:   0%|          | 0/192 [00:00<?, ?it/s]\u001b[A\n",
      "Computing divergence: 100%|██████████| 192/192 [00:00<00:00, 435.19it/s] \u001b[A\n",
      "Computing anomaly score for each data:  29%|██▉       | 70/238 [01:42<04:01,  1.43s/it]\n",
      "Computing divergence:   0%|          | 0/192 [00:00<?, ?it/s]\u001b[A\n",
      "Computing divergence: 100%|██████████| 192/192 [00:00<00:00, 435.38it/s] \u001b[A\n",
      "Computing anomaly score for each data:  30%|██▉       | 71/238 [01:43<03:53,  1.40s/it]\n",
      "Computing divergence:   0%|          | 0/192 [00:00<?, ?it/s]\u001b[A\n",
      "Computing divergence: 100%|██████████| 192/192 [00:00<00:00, 435.35it/s] \u001b[A\n",
      "Computing anomaly score for each data:  30%|███       | 72/238 [01:45<03:46,  1.36s/it]\n",
      "Computing divergence:   0%|          | 0/192 [00:00<?, ?it/s]\u001b[A\n",
      "Computing divergence: 100%|██████████| 192/192 [00:00<00:00, 435.34it/s] \u001b[A\n",
      "Computing anomaly score for each data:  31%|███       | 73/238 [01:46<03:50,  1.40s/it]\n",
      "Computing divergence:   0%|          | 0/192 [00:00<?, ?it/s]\u001b[A\n",
      "Computing divergence: 100%|██████████| 192/192 [00:00<00:00, 435.25it/s] \u001b[A\n",
      "Computing anomaly score for each data:  31%|███       | 74/238 [01:47<03:43,  1.36s/it]\n",
      "Computing divergence:   0%|          | 0/192 [00:00<?, ?it/s]\u001b[A\n",
      "Computing divergence: 100%|██████████| 192/192 [00:00<00:00, 435.14it/s] \u001b[A\n",
      "Computing anomaly score for each data:  32%|███▏      | 75/238 [01:49<03:39,  1.34s/it]\n",
      "Computing divergence:   0%|          | 0/192 [00:00<?, ?it/s]\u001b[A\n",
      "Computing divergence: 100%|██████████| 192/192 [00:00<00:00, 435.20it/s] \u001b[A\n",
      "Computing anomaly score for each data:  32%|███▏      | 76/238 [01:50<03:44,  1.39s/it]\n",
      "Computing divergence:   0%|          | 0/192 [00:00<?, ?it/s]\u001b[A\n",
      "Computing divergence: 100%|██████████| 192/192 [00:00<00:00, 435.46it/s] \u001b[A\n",
      "Computing anomaly score for each data:  32%|███▏      | 77/238 [01:51<03:42,  1.38s/it]\n",
      "Computing divergence:   0%|          | 0/192 [00:00<?, ?it/s]\u001b[A\n",
      "Computing divergence: 100%|██████████| 192/192 [00:00<00:00, 435.39it/s] \u001b[A\n",
      "Computing anomaly score for each data:  33%|███▎      | 78/238 [01:53<03:43,  1.40s/it]\n",
      "Computing divergence:   0%|          | 0/192 [00:00<?, ?it/s]\u001b[A\n",
      "Computing divergence: 100%|██████████| 192/192 [00:00<00:00, 435.14it/s] \u001b[A\n",
      "Computing anomaly score for each data:  33%|███▎      | 79/238 [01:54<03:38,  1.37s/it]\n",
      "Computing divergence:   0%|          | 0/192 [00:00<?, ?it/s]\u001b[A\n",
      "Computing divergence: 100%|██████████| 192/192 [00:00<00:00, 435.37it/s] \u001b[A\n",
      "Computing anomaly score for each data:  34%|███▎      | 80/238 [01:56<03:44,  1.42s/it]\n",
      "Computing divergence:   0%|          | 0/192 [00:00<?, ?it/s]\u001b[A\n",
      "Computing divergence: 100%|██████████| 192/192 [00:00<00:00, 435.30it/s] \u001b[A\n",
      "Computing anomaly score for each data:  34%|███▍      | 81/238 [01:57<03:36,  1.38s/it]\n",
      "Computing divergence:   0%|          | 0/192 [00:00<?, ?it/s]\u001b[A\n",
      "Computing divergence: 100%|██████████| 192/192 [00:00<00:00, 435.25it/s] \u001b[A\n",
      "Computing anomaly score for each data:  34%|███▍      | 82/238 [01:58<03:32,  1.36s/it]\n",
      "Computing divergence:   0%|          | 0/192 [00:00<?, ?it/s]\u001b[A\n",
      "Computing divergence: 100%|██████████| 192/192 [00:00<00:00, 435.16it/s] \u001b[A\n",
      "Computing anomaly score for each data:  35%|███▍      | 83/238 [02:00<03:29,  1.35s/it]\n",
      "Computing divergence:   0%|          | 0/192 [00:00<?, ?it/s]\u001b[A\n",
      "Computing divergence: 100%|██████████| 192/192 [00:00<00:00, 435.25it/s] \u001b[A\n",
      "Computing anomaly score for each data:  35%|███▌      | 84/238 [02:02<03:50,  1.50s/it]\n",
      "Computing divergence:   0%|          | 0/192 [00:00<?, ?it/s]\u001b[A\n",
      "Computing divergence: 100%|██████████| 192/192 [00:00<00:00, 435.30it/s] \u001b[A\n",
      "Computing anomaly score for each data:  36%|███▌      | 85/238 [02:03<03:41,  1.45s/it]\n",
      "Computing divergence:   0%|          | 0/192 [00:00<?, ?it/s]\u001b[A\n",
      "Computing divergence: 100%|██████████| 192/192 [00:00<00:00, 435.13it/s] \u001b[A\n",
      "Computing anomaly score for each data:  36%|███▌      | 86/238 [02:04<03:40,  1.45s/it]\n",
      "Computing divergence:   0%|          | 0/192 [00:00<?, ?it/s]\u001b[A\n",
      "Computing divergence: 100%|██████████| 192/192 [00:00<00:00, 435.01it/s] \u001b[A\n",
      "Computing anomaly score for each data:  37%|███▋      | 87/238 [02:06<03:43,  1.48s/it]\n",
      "Computing divergence:   0%|          | 0/192 [00:00<?, ?it/s]\u001b[A\n",
      "Computing divergence: 100%|██████████| 192/192 [00:00<00:00, 435.24it/s] \u001b[A\n",
      "Computing anomaly score for each data:  37%|███▋      | 88/238 [02:07<03:40,  1.47s/it]\n",
      "Computing divergence:   0%|          | 0/192 [00:00<?, ?it/s]\u001b[A\n",
      "Computing divergence: 100%|██████████| 192/192 [00:00<00:00, 434.94it/s] \u001b[A\n",
      "Computing anomaly score for each data:  37%|███▋      | 89/238 [02:09<03:34,  1.44s/it]\n",
      "Computing divergence:   0%|          | 0/192 [00:00<?, ?it/s]\u001b[A\n",
      "Computing divergence: 100%|██████████| 192/192 [00:00<00:00, 435.15it/s] \u001b[A\n",
      "Computing anomaly score for each data:  38%|███▊      | 90/238 [02:10<03:40,  1.49s/it]\n",
      "Computing divergence:   0%|          | 0/192 [00:00<?, ?it/s]\u001b[A\n",
      "Computing divergence: 100%|██████████| 192/192 [00:00<00:00, 435.23it/s] \u001b[A\n",
      "Computing anomaly score for each data:  38%|███▊      | 91/238 [02:12<03:34,  1.46s/it]\n",
      "Computing divergence:   0%|          | 0/192 [00:00<?, ?it/s]\u001b[A\n",
      "Computing divergence: 100%|██████████| 192/192 [00:00<00:00, 433.68it/s] \u001b[A\n",
      "Computing anomaly score for each data:  39%|███▊      | 92/238 [02:13<03:24,  1.40s/it]\n",
      "Computing divergence:   0%|          | 0/192 [00:00<?, ?it/s]\u001b[A\n",
      "Computing divergence: 100%|██████████| 192/192 [00:00<00:00, 433.00it/s] \u001b[A\n",
      "Computing anomaly score for each data:  39%|███▉      | 93/238 [02:15<03:38,  1.50s/it]\n",
      "Computing divergence:   0%|          | 0/192 [00:00<?, ?it/s]\u001b[A\n",
      "Computing divergence: 100%|██████████| 192/192 [00:00<00:00, 435.40it/s] \u001b[A\n",
      "Computing anomaly score for each data:  39%|███▉      | 94/238 [02:16<03:30,  1.46s/it]\n",
      "Computing divergence:   0%|          | 0/192 [00:00<?, ?it/s]\u001b[A\n",
      "Computing divergence: 100%|██████████| 192/192 [00:00<00:00, 435.24it/s] \u001b[A\n",
      "Computing anomaly score for each data:  40%|███▉      | 95/238 [02:17<03:25,  1.44s/it]\n",
      "Computing divergence:   0%|          | 0/192 [00:00<?, ?it/s]\u001b[A\n",
      "Computing divergence: 100%|██████████| 192/192 [00:00<00:00, 435.23it/s] \u001b[A\n",
      "Computing anomaly score for each data:  40%|████      | 96/238 [02:19<03:23,  1.44s/it]\n",
      "Computing divergence:   0%|          | 0/192 [00:00<?, ?it/s]\u001b[A\n",
      "Computing divergence: 100%|██████████| 192/192 [00:00<00:00, 435.26it/s] \u001b[A\n",
      "Computing anomaly score for each data:  41%|████      | 97/238 [02:20<03:15,  1.39s/it]\n",
      "Computing divergence:   0%|          | 0/192 [00:00<?, ?it/s]\u001b[A\n",
      "Computing divergence: 100%|██████████| 192/192 [00:00<00:00, 435.29it/s] \u001b[A\n",
      "Computing anomaly score for each data:  41%|████      | 98/238 [02:21<03:12,  1.38s/it]\n",
      "Computing divergence:   0%|          | 0/192 [00:00<?, ?it/s]\u001b[A\n",
      "Computing divergence: 100%|██████████| 192/192 [00:00<00:00, 435.28it/s] \u001b[A\n",
      "Computing anomaly score for each data:  42%|████▏     | 99/238 [02:23<03:07,  1.35s/it]\n",
      "Computing divergence:   0%|          | 0/192 [00:00<?, ?it/s]\u001b[A\n",
      "Computing divergence: 100%|██████████| 192/192 [00:00<00:00, 433.70it/s] \u001b[A\n",
      "Computing anomaly score for each data:  42%|████▏     | 100/238 [02:25<03:30,  1.52s/it]\n",
      "Computing divergence:   0%|          | 0/192 [00:00<?, ?it/s]\u001b[A\n",
      "Computing divergence: 100%|██████████| 192/192 [00:00<00:00, 435.21it/s] \u001b[A\n",
      "Computing anomaly score for each data:  42%|████▏     | 101/238 [02:26<03:21,  1.47s/it]\n",
      "Computing divergence:   0%|          | 0/192 [00:00<?, ?it/s]\u001b[A\n",
      "Computing divergence: 100%|██████████| 192/192 [00:00<00:00, 433.76it/s] \u001b[A\n",
      "Computing anomaly score for each data:  43%|████▎     | 102/238 [02:27<03:11,  1.41s/it]\n",
      "Computing divergence:   0%|          | 0/192 [00:00<?, ?it/s]\u001b[A\n",
      "Computing divergence: 100%|██████████| 192/192 [00:00<00:00, 435.43it/s] \u001b[A\n",
      "Computing anomaly score for each data:  43%|████▎     | 103/238 [02:29<03:07,  1.39s/it]\n",
      "Computing divergence:   0%|          | 0/192 [00:00<?, ?it/s]\u001b[A\n",
      "Computing divergence: 100%|██████████| 192/192 [00:00<00:00, 435.37it/s] \u001b[A\n",
      "Computing anomaly score for each data:  44%|████▎     | 104/238 [02:30<03:05,  1.39s/it]\n",
      "Computing divergence:   0%|          | 0/192 [00:00<?, ?it/s]\u001b[A\n",
      "Computing divergence: 100%|██████████| 192/192 [00:00<00:00, 435.10it/s] \u001b[A\n",
      "Computing anomaly score for each data:  44%|████▍     | 105/238 [02:31<03:04,  1.38s/it]\n",
      "Computing divergence:   0%|          | 0/192 [00:00<?, ?it/s]\u001b[A\n",
      "Computing divergence: 100%|██████████| 192/192 [00:00<00:00, 434.49it/s] \u001b[A\n",
      "Computing anomaly score for each data:  45%|████▍     | 106/238 [02:33<03:01,  1.37s/it]\n",
      "Computing divergence:   0%|          | 0/192 [00:00<?, ?it/s]\u001b[A\n",
      "Computing divergence: 100%|██████████| 192/192 [00:00<00:00, 435.26it/s] \u001b[A\n",
      "Computing anomaly score for each data:  45%|████▍     | 107/238 [02:34<02:57,  1.35s/it]\n",
      "Computing divergence:   0%|          | 0/192 [00:00<?, ?it/s]\u001b[A\n",
      "Computing divergence: 100%|██████████| 192/192 [00:00<00:00, 435.31it/s] \u001b[A\n",
      "Computing anomaly score for each data:  45%|████▌     | 108/238 [02:35<02:53,  1.34s/it]\n",
      "Computing divergence:   0%|          | 0/192 [00:00<?, ?it/s]\u001b[A\n",
      "Computing divergence: 100%|██████████| 192/192 [00:00<00:00, 434.77it/s] \u001b[A\n",
      "Computing anomaly score for each data:  46%|████▌     | 109/238 [02:37<02:56,  1.37s/it]\n",
      "Computing divergence:   0%|          | 0/192 [00:00<?, ?it/s]\u001b[A\n",
      "Computing divergence: 100%|██████████| 192/192 [00:00<00:00, 435.05it/s] \u001b[A\n",
      "Computing anomaly score for each data:  46%|████▌     | 110/238 [02:39<03:14,  1.52s/it]\n",
      "Computing divergence:   0%|          | 0/192 [00:00<?, ?it/s]\u001b[A\n",
      "Computing divergence: 100%|██████████| 192/192 [00:00<00:00, 435.13it/s] \u001b[A\n",
      "Computing anomaly score for each data:  47%|████▋     | 111/238 [02:40<03:05,  1.46s/it]\n",
      "Computing divergence:   0%|          | 0/192 [00:00<?, ?it/s]\u001b[A\n",
      "Computing divergence: 100%|██████████| 192/192 [00:00<00:00, 435.34it/s] \u001b[A\n",
      "Computing anomaly score for each data:  47%|████▋     | 112/238 [02:41<02:58,  1.42s/it]\n",
      "Computing divergence:   0%|          | 0/192 [00:00<?, ?it/s]\u001b[A\n",
      "Computing divergence: 100%|██████████| 192/192 [00:00<00:00, 435.22it/s] \u001b[A\n",
      "Computing anomaly score for each data:  47%|████▋     | 113/238 [02:43<02:53,  1.39s/it]\n",
      "Computing divergence:   0%|          | 0/192 [00:00<?, ?it/s]\u001b[A\n",
      "Computing divergence: 100%|██████████| 192/192 [00:00<00:00, 435.31it/s] \u001b[A\n",
      "Computing anomaly score for each data:  48%|████▊     | 114/238 [02:44<02:47,  1.35s/it]\n",
      "Computing divergence:   0%|          | 0/192 [00:00<?, ?it/s]\u001b[A\n",
      "Computing divergence: 100%|██████████| 192/192 [00:00<00:00, 435.16it/s] \u001b[A\n",
      "Computing anomaly score for each data:  48%|████▊     | 115/238 [02:45<02:49,  1.38s/it]\n",
      "Computing divergence:   0%|          | 0/192 [00:00<?, ?it/s]\u001b[A\n",
      "Computing divergence: 100%|██████████| 192/192 [00:00<00:00, 435.02it/s] \u001b[A\n",
      "Computing anomaly score for each data:  49%|████▊     | 116/238 [02:47<02:43,  1.34s/it]\n",
      "Computing divergence:   0%|          | 0/192 [00:00<?, ?it/s]\u001b[A\n",
      "Computing divergence: 100%|██████████| 192/192 [00:00<00:00, 434.87it/s] \u001b[A\n",
      "Computing anomaly score for each data:  49%|████▉     | 117/238 [02:48<02:44,  1.36s/it]\n",
      "Computing divergence:   0%|          | 0/192 [00:00<?, ?it/s]\u001b[A\n",
      "Computing divergence: 100%|██████████| 192/192 [00:00<00:00, 434.86it/s] \u001b[A\n",
      "Computing anomaly score for each data:  50%|████▉     | 118/238 [02:50<02:49,  1.42s/it]\n",
      "Computing divergence:   0%|          | 0/192 [00:00<?, ?it/s]\u001b[A\n",
      "Computing divergence: 100%|██████████| 192/192 [00:00<00:00, 435.28it/s] \u001b[A\n",
      "Computing anomaly score for each data:  50%|█████     | 119/238 [02:51<02:44,  1.38s/it]\n",
      "Computing divergence:   0%|          | 0/192 [00:00<?, ?it/s]\u001b[A\n",
      "Computing divergence: 100%|██████████| 192/192 [00:00<00:00, 435.18it/s] \u001b[A\n",
      "Computing anomaly score for each data:  50%|█████     | 120/238 [02:52<02:50,  1.45s/it]\n",
      "Computing divergence:   0%|          | 0/192 [00:00<?, ?it/s]\u001b[A\n",
      "Computing divergence: 100%|██████████| 192/192 [00:00<00:00, 435.27it/s] \u001b[A\n",
      "Computing anomaly score for each data:  51%|█████     | 121/238 [02:54<02:44,  1.41s/it]\n",
      "Computing divergence:   0%|          | 0/192 [00:00<?, ?it/s]\u001b[A\n",
      "Computing divergence: 100%|██████████| 192/192 [00:00<00:00, 435.18it/s] \u001b[A\n",
      "Computing anomaly score for each data:  51%|█████▏    | 122/238 [02:55<02:40,  1.39s/it]\n",
      "Computing divergence:   0%|          | 0/192 [00:00<?, ?it/s]\u001b[A\n",
      "Computing divergence: 100%|██████████| 192/192 [00:00<00:00, 435.20it/s] \u001b[A\n",
      "Computing anomaly score for each data:  52%|█████▏    | 123/238 [02:57<02:40,  1.39s/it]\n",
      "Computing divergence:   0%|          | 0/192 [00:00<?, ?it/s]\u001b[A\n",
      "Computing divergence: 100%|██████████| 192/192 [00:00<00:00, 435.36it/s] \u001b[A\n",
      "Computing anomaly score for each data:  52%|█████▏    | 124/238 [02:58<02:33,  1.35s/it]\n",
      "Computing divergence:   0%|          | 0/192 [00:00<?, ?it/s]\u001b[A\n",
      "Computing divergence: 100%|██████████| 192/192 [00:00<00:00, 435.26it/s] \u001b[A\n",
      "Computing anomaly score for each data:  53%|█████▎    | 125/238 [02:59<02:30,  1.33s/it]\n",
      "Computing divergence:   0%|          | 0/192 [00:00<?, ?it/s]\u001b[A\n",
      "Computing divergence: 100%|██████████| 192/192 [00:00<00:00, 435.30it/s] \u001b[A\n",
      "Computing anomaly score for each data:  53%|█████▎    | 126/238 [03:00<02:26,  1.31s/it]\n",
      "Computing divergence:   0%|          | 0/192 [00:00<?, ?it/s]\u001b[A\n",
      "Computing divergence: 100%|██████████| 192/192 [00:00<00:00, 435.10it/s] \u001b[A\n",
      "Computing anomaly score for each data:  53%|█████▎    | 127/238 [03:02<02:27,  1.32s/it]\n",
      "Computing divergence:   0%|          | 0/192 [00:00<?, ?it/s]\u001b[A\n",
      "Computing divergence: 100%|██████████| 192/192 [00:00<00:00, 433.68it/s] \u001b[A\n",
      "Computing anomaly score for each data:  54%|█████▍    | 128/238 [03:03<02:26,  1.33s/it]\n",
      "Computing divergence:   0%|          | 0/192 [00:00<?, ?it/s]\u001b[A\n",
      "Computing divergence: 100%|██████████| 192/192 [00:00<00:00, 434.78it/s] \u001b[A\n",
      "Computing anomaly score for each data:  54%|█████▍    | 129/238 [03:05<02:57,  1.63s/it]\n",
      "Computing divergence:   0%|          | 0/192 [00:00<?, ?it/s]\u001b[A\n",
      "Computing divergence: 100%|██████████| 192/192 [00:00<00:00, 434.37it/s] \u001b[A\n",
      "Computing anomaly score for each data:  55%|█████▍    | 130/238 [03:07<02:50,  1.58s/it]\n",
      "Computing divergence:   0%|          | 0/192 [00:00<?, ?it/s]\u001b[A\n",
      "Computing divergence: 100%|██████████| 192/192 [00:00<00:00, 434.34it/s] \u001b[A\n",
      "Computing anomaly score for each data:  55%|█████▌    | 131/238 [03:09<03:03,  1.72s/it]\n",
      "Computing divergence:   0%|          | 0/192 [00:00<?, ?it/s]\u001b[A\n",
      "Computing divergence: 100%|██████████| 192/192 [00:00<00:00, 434.85it/s] \u001b[A\n",
      "Computing anomaly score for each data:  55%|█████▌    | 132/238 [03:10<02:54,  1.65s/it]\n",
      "Computing divergence:   0%|          | 0/192 [00:00<?, ?it/s]\u001b[A\n",
      "Computing divergence: 100%|██████████| 192/192 [00:00<00:00, 434.61it/s] \u001b[A\n",
      "Computing anomaly score for each data:  56%|█████▌    | 133/238 [03:15<04:39,  2.66s/it]\n",
      "Computing divergence:   0%|          | 0/192 [00:00<?, ?it/s]\u001b[A\n",
      "Computing divergence: 100%|██████████| 192/192 [00:00<00:00, 435.45it/s] \u001b[A\n",
      "Computing anomaly score for each data:  56%|█████▋    | 134/238 [03:17<04:05,  2.36s/it]\n",
      "Computing divergence:   0%|          | 0/192 [00:00<?, ?it/s]\u001b[A\n",
      "Computing divergence: 100%|██████████| 192/192 [00:00<00:00, 435.24it/s] \u001b[A\n",
      "Computing anomaly score for each data:  57%|█████▋    | 135/238 [03:18<03:33,  2.07s/it]\n",
      "Computing divergence:   0%|          | 0/192 [00:00<?, ?it/s]\u001b[A\n",
      "Computing divergence: 100%|██████████| 192/192 [00:00<00:00, 435.35it/s] \u001b[A\n",
      "Computing anomaly score for each data:  57%|█████▋    | 136/238 [03:20<03:08,  1.85s/it]\n",
      "Computing divergence:   0%|          | 0/192 [00:00<?, ?it/s]\u001b[A\n",
      "Computing divergence: 100%|██████████| 192/192 [00:00<00:00, 434.93it/s] \u001b[A\n",
      "Computing anomaly score for each data:  58%|█████▊    | 137/238 [03:21<02:55,  1.74s/it]\n",
      "Computing divergence:   0%|          | 0/192 [00:00<?, ?it/s]\u001b[A\n",
      "Computing divergence: 100%|██████████| 192/192 [00:00<00:00, 435.38it/s] \u001b[A\n",
      "Computing anomaly score for each data:  58%|█████▊    | 138/238 [03:23<02:42,  1.62s/it]\n",
      "Computing divergence:   0%|          | 0/192 [00:00<?, ?it/s]\u001b[A\n",
      "Computing divergence: 100%|██████████| 192/192 [00:00<00:00, 435.14it/s] \u001b[A\n",
      "Computing anomaly score for each data:  58%|█████▊    | 139/238 [03:24<02:30,  1.52s/it]\n",
      "Computing divergence:   0%|          | 0/192 [00:00<?, ?it/s]\u001b[A\n",
      "Computing divergence: 100%|██████████| 192/192 [00:00<00:00, 435.28it/s] \u001b[A\n",
      "Computing anomaly score for each data:  59%|█████▉    | 140/238 [03:25<02:22,  1.46s/it]\n",
      "Computing divergence:   0%|          | 0/192 [00:00<?, ?it/s]\u001b[A\n",
      "Computing divergence: 100%|██████████| 192/192 [00:00<00:00, 435.44it/s] \u001b[A\n",
      "Computing anomaly score for each data:  59%|█████▉    | 141/238 [03:26<02:16,  1.41s/it]\n",
      "Computing divergence:   0%|          | 0/192 [00:00<?, ?it/s]\u001b[A\n",
      "Computing divergence: 100%|██████████| 192/192 [00:00<00:00, 435.39it/s] \u001b[A\n",
      "Computing anomaly score for each data:  60%|█████▉    | 142/238 [03:28<02:12,  1.38s/it]\n",
      "Computing divergence:   0%|          | 0/192 [00:00<?, ?it/s]\u001b[A\n",
      "Computing divergence: 100%|██████████| 192/192 [00:00<00:00, 435.24it/s] \u001b[A\n",
      "Computing anomaly score for each data:  60%|██████    | 143/238 [03:29<02:08,  1.35s/it]\n",
      "Computing divergence:   0%|          | 0/192 [00:00<?, ?it/s]\u001b[A\n",
      "Computing divergence: 100%|██████████| 192/192 [00:00<00:00, 435.40it/s] \u001b[A\n",
      "Computing anomaly score for each data:  61%|██████    | 144/238 [03:30<02:08,  1.37s/it]\n",
      "Computing divergence:   0%|          | 0/192 [00:00<?, ?it/s]\u001b[A\n",
      "Computing divergence: 100%|██████████| 192/192 [00:00<00:00, 435.04it/s] \u001b[A\n",
      "Computing anomaly score for each data:  61%|██████    | 145/238 [03:32<02:09,  1.40s/it]\n",
      "Computing divergence:   0%|          | 0/192 [00:00<?, ?it/s]\u001b[A\n",
      "Computing divergence: 100%|██████████| 192/192 [00:00<00:00, 435.41it/s] \u001b[A\n",
      "Computing anomaly score for each data:  61%|██████▏   | 146/238 [03:33<02:09,  1.41s/it]\n",
      "Computing divergence:   0%|          | 0/192 [00:00<?, ?it/s]\u001b[A\n",
      "Computing divergence: 100%|██████████| 192/192 [00:00<00:00, 435.36it/s] \u001b[A\n",
      "Computing anomaly score for each data:  62%|██████▏   | 147/238 [03:35<02:04,  1.37s/it]\n",
      "Computing divergence:   0%|          | 0/192 [00:00<?, ?it/s]\u001b[A\n",
      "Computing divergence: 100%|██████████| 192/192 [00:00<00:00, 435.35it/s] \u001b[A\n",
      "Computing anomaly score for each data:  62%|██████▏   | 148/238 [03:36<02:03,  1.37s/it]\n",
      "Computing divergence:   0%|          | 0/192 [00:00<?, ?it/s]\u001b[A\n",
      "Computing divergence: 100%|██████████| 192/192 [00:00<00:00, 435.45it/s] \u001b[A\n",
      "Computing anomaly score for each data:  63%|██████▎   | 149/238 [03:38<02:07,  1.43s/it]\n",
      "Computing divergence:   0%|          | 0/192 [00:00<?, ?it/s]\u001b[A\n",
      "Computing divergence: 100%|██████████| 192/192 [00:00<00:00, 435.35it/s] \u001b[A\n",
      "Computing anomaly score for each data:  63%|██████▎   | 150/238 [03:39<02:02,  1.39s/it]\n",
      "Computing divergence:   0%|          | 0/192 [00:00<?, ?it/s]\u001b[A\n",
      "Computing divergence: 100%|██████████| 192/192 [00:00<00:00, 435.23it/s] \u001b[A\n",
      "Computing anomaly score for each data:  63%|██████▎   | 151/238 [03:41<02:11,  1.51s/it]\n",
      "Computing divergence:   0%|          | 0/192 [00:00<?, ?it/s]\u001b[A\n",
      "Computing divergence: 100%|██████████| 192/192 [00:00<00:00, 435.23it/s] \u001b[A\n",
      "Computing anomaly score for each data:  64%|██████▍   | 152/238 [03:42<02:09,  1.51s/it]\n",
      "Computing divergence:   0%|          | 0/192 [00:00<?, ?it/s]\u001b[A\n",
      "Computing divergence: 100%|██████████| 192/192 [00:00<00:00, 435.37it/s] \u001b[A\n",
      "Computing anomaly score for each data:  64%|██████▍   | 153/238 [03:43<02:02,  1.45s/it]\n",
      "Computing divergence:   0%|          | 0/192 [00:00<?, ?it/s]\u001b[A\n",
      "Computing divergence: 100%|██████████| 192/192 [00:00<00:00, 435.35it/s] \u001b[A\n",
      "Computing anomaly score for each data:  65%|██████▍   | 154/238 [03:45<01:56,  1.38s/it]\n",
      "Computing divergence:   0%|          | 0/192 [00:00<?, ?it/s]\u001b[A\n",
      "Computing divergence: 100%|██████████| 192/192 [00:00<00:00, 435.43it/s] \u001b[A\n",
      "Computing anomaly score for each data:  65%|██████▌   | 155/238 [03:46<01:50,  1.34s/it]\n",
      "Computing divergence:   0%|          | 0/192 [00:00<?, ?it/s]\u001b[A\n",
      "Computing divergence: 100%|██████████| 192/192 [00:00<00:00, 435.05it/s] \u001b[A\n",
      "Computing anomaly score for each data:  66%|██████▌   | 156/238 [03:47<01:51,  1.36s/it]\n",
      "Computing divergence:   0%|          | 0/192 [00:00<?, ?it/s]\u001b[A\n",
      "Computing divergence: 100%|██████████| 192/192 [00:00<00:00, 435.31it/s] \u001b[A\n",
      "Computing anomaly score for each data:  66%|██████▌   | 157/238 [03:49<01:52,  1.38s/it]\n",
      "Computing divergence:   0%|          | 0/192 [00:00<?, ?it/s]\u001b[A\n",
      "Computing divergence: 100%|██████████| 192/192 [00:00<00:00, 435.37it/s] \u001b[A\n",
      "Computing anomaly score for each data:  66%|██████▋   | 158/238 [03:50<01:52,  1.41s/it]\n",
      "Computing divergence:   0%|          | 0/192 [00:00<?, ?it/s]\u001b[A\n",
      "Computing divergence: 100%|██████████| 192/192 [00:00<00:00, 435.35it/s] \u001b[A\n",
      "Computing anomaly score for each data:  67%|██████▋   | 159/238 [03:52<01:47,  1.36s/it]\n",
      "Computing divergence:   0%|          | 0/192 [00:00<?, ?it/s]\u001b[A\n",
      "Computing divergence: 100%|██████████| 192/192 [00:00<00:00, 435.28it/s] \u001b[A\n",
      "Computing anomaly score for each data:  67%|██████▋   | 160/238 [03:53<01:46,  1.36s/it]\n",
      "Computing divergence:   0%|          | 0/192 [00:00<?, ?it/s]\u001b[A\n",
      "Computing divergence: 100%|██████████| 192/192 [00:00<00:00, 434.94it/s] \u001b[A\n",
      "Computing anomaly score for each data:  68%|██████▊   | 161/238 [03:54<01:50,  1.44s/it]\n",
      "Computing divergence:   0%|          | 0/192 [00:00<?, ?it/s]\u001b[A\n",
      "Computing divergence: 100%|██████████| 192/192 [00:00<00:00, 435.40it/s] \u001b[A\n",
      "Computing anomaly score for each data:  68%|██████▊   | 162/238 [03:56<01:49,  1.44s/it]\n",
      "Computing divergence:   0%|          | 0/192 [00:00<?, ?it/s]\u001b[A\n",
      "Computing divergence: 100%|██████████| 192/192 [00:00<00:00, 433.93it/s] \u001b[A\n",
      "Computing anomaly score for each data:  68%|██████▊   | 163/238 [03:58<01:51,  1.49s/it]\n",
      "Computing divergence:   0%|          | 0/192 [00:00<?, ?it/s]\u001b[A\n",
      "Computing divergence: 100%|██████████| 192/192 [00:00<00:00, 435.42it/s] \u001b[A\n",
      "Computing anomaly score for each data:  69%|██████▉   | 164/238 [03:59<01:46,  1.43s/it]\n",
      "Computing divergence:   0%|          | 0/192 [00:00<?, ?it/s]\u001b[A\n",
      "Computing divergence: 100%|██████████| 192/192 [00:00<00:00, 435.34it/s] \u001b[A\n",
      "Computing anomaly score for each data:  69%|██████▉   | 165/238 [04:00<01:42,  1.40s/it]\n",
      "Computing divergence:   0%|          | 0/192 [00:00<?, ?it/s]\u001b[A\n",
      "Computing divergence: 100%|██████████| 192/192 [00:00<00:00, 435.27it/s] \u001b[A\n",
      "Computing anomaly score for each data:  70%|██████▉   | 166/238 [04:01<01:38,  1.37s/it]\n",
      "Computing divergence:   0%|          | 0/192 [00:00<?, ?it/s]\u001b[A\n",
      "Computing divergence: 100%|██████████| 192/192 [00:00<00:00, 435.35it/s] \u001b[A\n",
      "Computing anomaly score for each data:  70%|███████   | 167/238 [04:03<01:35,  1.35s/it]\n",
      "Computing divergence:   0%|          | 0/192 [00:00<?, ?it/s]\u001b[A\n",
      "Computing divergence: 100%|██████████| 192/192 [00:00<00:00, 435.08it/s] \u001b[A\n",
      "Computing anomaly score for each data:  71%|███████   | 168/238 [04:04<01:38,  1.41s/it]\n",
      "Computing divergence:   0%|          | 0/192 [00:00<?, ?it/s]\u001b[A\n",
      "Computing divergence: 100%|██████████| 192/192 [00:00<00:00, 435.07it/s] \u001b[A\n",
      "Computing anomaly score for each data:  71%|███████   | 169/238 [04:06<01:37,  1.42s/it]\n",
      "Computing divergence:   0%|          | 0/192 [00:00<?, ?it/s]\u001b[A\n",
      "Computing divergence: 100%|██████████| 192/192 [00:00<00:00, 435.33it/s] \u001b[A\n",
      "Computing anomaly score for each data:  71%|███████▏  | 170/238 [04:07<01:33,  1.38s/it]\n",
      "Computing divergence:   0%|          | 0/192 [00:00<?, ?it/s]\u001b[A\n",
      "Computing divergence: 100%|██████████| 192/192 [00:00<00:00, 435.03it/s] \u001b[A\n",
      "Computing anomaly score for each data:  72%|███████▏  | 171/238 [04:08<01:32,  1.38s/it]\n",
      "Computing divergence:   0%|          | 0/192 [00:00<?, ?it/s]\u001b[A\n",
      "Computing divergence: 100%|██████████| 192/192 [00:00<00:00, 435.14it/s] \u001b[A\n",
      "Computing anomaly score for each data:  72%|███████▏  | 172/238 [04:10<01:35,  1.45s/it]\n",
      "Computing divergence:   0%|          | 0/192 [00:00<?, ?it/s]\u001b[A\n",
      "Computing divergence: 100%|██████████| 192/192 [00:00<00:00, 435.12it/s] \u001b[A\n",
      "Computing anomaly score for each data:  73%|███████▎  | 173/238 [04:11<01:30,  1.39s/it]\n",
      "Computing divergence:   0%|          | 0/192 [00:00<?, ?it/s]\u001b[A\n",
      "Computing divergence: 100%|██████████| 192/192 [00:00<00:00, 435.28it/s] \u001b[A\n",
      "Computing anomaly score for each data:  73%|███████▎  | 174/238 [04:13<01:27,  1.37s/it]\n",
      "Computing divergence:   0%|          | 0/192 [00:00<?, ?it/s]\u001b[A\n",
      "Computing divergence: 100%|██████████| 192/192 [00:00<00:00, 435.18it/s] \u001b[A\n",
      "Computing anomaly score for each data:  74%|███████▎  | 175/238 [04:14<01:24,  1.34s/it]\n",
      "Computing divergence:   0%|          | 0/192 [00:00<?, ?it/s]\u001b[A\n",
      "Computing divergence: 100%|██████████| 192/192 [00:00<00:00, 435.32it/s] \u001b[A\n",
      "Computing anomaly score for each data:  74%|███████▍  | 176/238 [04:15<01:24,  1.36s/it]\n",
      "Computing divergence:   0%|          | 0/192 [00:00<?, ?it/s]\u001b[A\n",
      "Computing divergence: 100%|██████████| 192/192 [00:00<00:00, 435.27it/s] \u001b[A\n",
      "Computing anomaly score for each data:  74%|███████▍  | 177/238 [04:17<01:21,  1.34s/it]\n",
      "Computing divergence:   0%|          | 0/192 [00:00<?, ?it/s]\u001b[A\n",
      "Computing divergence: 100%|██████████| 192/192 [00:00<00:00, 435.41it/s] \u001b[A\n",
      "Computing anomaly score for each data:  75%|███████▍  | 178/238 [04:19<01:32,  1.54s/it]\n",
      "Computing divergence:   0%|          | 0/192 [00:00<?, ?it/s]\u001b[A\n",
      "Computing divergence: 100%|██████████| 192/192 [00:00<00:00, 435.09it/s] \u001b[A\n",
      "Computing anomaly score for each data:  75%|███████▌  | 179/238 [04:20<01:28,  1.49s/it]\n",
      "Computing divergence:   0%|          | 0/192 [00:00<?, ?it/s]\u001b[A\n",
      "Computing divergence: 100%|██████████| 192/192 [00:00<00:00, 435.03it/s] \u001b[A\n",
      "Computing anomaly score for each data:  76%|███████▌  | 180/238 [04:21<01:23,  1.45s/it]\n",
      "Computing divergence:   0%|          | 0/192 [00:00<?, ?it/s]\u001b[A\n",
      "Computing divergence: 100%|██████████| 192/192 [00:00<00:00, 435.42it/s] \u001b[A\n",
      "Computing anomaly score for each data:  76%|███████▌  | 181/238 [04:23<01:20,  1.42s/it]\n",
      "Computing divergence:   0%|          | 0/192 [00:00<?, ?it/s]\u001b[A\n",
      "Computing divergence: 100%|██████████| 192/192 [00:00<00:00, 435.19it/s] \u001b[A\n",
      "Computing anomaly score for each data:  76%|███████▋  | 182/238 [04:24<01:18,  1.40s/it]\n",
      "Computing divergence:   0%|          | 0/192 [00:00<?, ?it/s]\u001b[A\n",
      "Computing divergence: 100%|██████████| 192/192 [00:00<00:00, 435.34it/s] \u001b[A\n",
      "Computing anomaly score for each data:  77%|███████▋  | 183/238 [04:25<01:14,  1.36s/it]\n",
      "Computing divergence:   0%|          | 0/192 [00:00<?, ?it/s]\u001b[A\n",
      "Computing divergence: 100%|██████████| 192/192 [00:00<00:00, 435.48it/s] \u001b[A\n",
      "Computing anomaly score for each data:  77%|███████▋  | 184/238 [04:27<01:12,  1.34s/it]\n",
      "Computing divergence:   0%|          | 0/192 [00:00<?, ?it/s]\u001b[A\n",
      "Computing divergence: 100%|██████████| 192/192 [00:00<00:00, 435.47it/s] \u001b[A\n",
      "Computing anomaly score for each data:  78%|███████▊  | 185/238 [04:28<01:11,  1.34s/it]\n",
      "Computing divergence:   0%|          | 0/192 [00:00<?, ?it/s]\u001b[A\n",
      "Computing divergence: 100%|██████████| 192/192 [00:00<00:00, 434.85it/s] \u001b[A\n",
      "Computing anomaly score for each data:  78%|███████▊  | 186/238 [04:33<02:06,  2.43s/it]\n",
      "Computing divergence:   0%|          | 0/192 [00:00<?, ?it/s]\u001b[A\n",
      "Computing divergence: 100%|██████████| 192/192 [00:00<00:00, 434.78it/s] \u001b[A\n",
      "Computing anomaly score for each data:  79%|███████▊  | 187/238 [04:34<01:47,  2.10s/it]\n",
      "Computing divergence:   0%|          | 0/192 [00:00<?, ?it/s]\u001b[A\n",
      "Computing divergence: 100%|██████████| 192/192 [00:00<00:00, 435.39it/s] \u001b[A\n",
      "Computing anomaly score for each data:  79%|███████▉  | 188/238 [04:36<01:33,  1.86s/it]\n",
      "Computing divergence:   0%|          | 0/192 [00:00<?, ?it/s]\u001b[A\n",
      "Computing divergence: 100%|██████████| 192/192 [00:00<00:00, 435.40it/s] \u001b[A\n",
      "Computing anomaly score for each data:  79%|███████▉  | 189/238 [04:37<01:24,  1.72s/it]\n",
      "Computing divergence:   0%|          | 0/192 [00:00<?, ?it/s]\u001b[A\n",
      "Computing divergence: 100%|██████████| 192/192 [00:00<00:00, 435.32it/s] \u001b[A\n",
      "Computing anomaly score for each data:  80%|███████▉  | 190/238 [04:38<01:18,  1.64s/it]\n",
      "Computing divergence:   0%|          | 0/192 [00:00<?, ?it/s]\u001b[A\n",
      "Computing divergence: 100%|██████████| 192/192 [00:00<00:00, 433.91it/s] \u001b[A\n",
      "Computing anomaly score for each data:  80%|████████  | 191/238 [04:40<01:13,  1.56s/it]\n",
      "Computing divergence:   0%|          | 0/192 [00:00<?, ?it/s]\u001b[A\n",
      "Computing divergence: 100%|██████████| 192/192 [00:00<00:00, 434.15it/s] \u001b[A\n",
      "Computing anomaly score for each data:  81%|████████  | 192/238 [04:41<01:09,  1.51s/it]\n",
      "Computing divergence:   0%|          | 0/192 [00:00<?, ?it/s]\u001b[A\n",
      "Computing divergence: 100%|██████████| 192/192 [00:00<00:00, 435.32it/s] \u001b[A\n",
      "Computing anomaly score for each data:  81%|████████  | 193/238 [04:43<01:07,  1.50s/it]\n",
      "Computing divergence:   0%|          | 0/192 [00:00<?, ?it/s]\u001b[A\n",
      "Computing divergence: 100%|██████████| 192/192 [00:00<00:00, 435.36it/s] \u001b[A\n",
      "Computing anomaly score for each data:  82%|████████▏ | 194/238 [04:44<01:07,  1.54s/it]\n",
      "Computing divergence:   0%|          | 0/192 [00:00<?, ?it/s]\u001b[A\n",
      "Computing divergence: 100%|██████████| 192/192 [00:00<00:00, 435.35it/s] \u001b[A\n",
      "Computing anomaly score for each data:  82%|████████▏ | 195/238 [04:46<01:03,  1.49s/it]\n",
      "Computing divergence:   0%|          | 0/192 [00:00<?, ?it/s]\u001b[A\n",
      "Computing divergence: 100%|██████████| 192/192 [00:00<00:00, 434.87it/s] \u001b[A\n",
      "Computing anomaly score for each data:  82%|████████▏ | 196/238 [04:47<01:02,  1.48s/it]\n",
      "Computing divergence:   0%|          | 0/192 [00:00<?, ?it/s]\u001b[A\n",
      "Computing divergence: 100%|██████████| 192/192 [00:00<00:00, 435.10it/s] \u001b[A\n",
      "Computing anomaly score for each data:  83%|████████▎ | 197/238 [04:48<00:58,  1.44s/it]\n",
      "Computing divergence:   0%|          | 0/192 [00:00<?, ?it/s]\u001b[A\n",
      "Computing divergence: 100%|██████████| 192/192 [00:00<00:00, 435.34it/s] \u001b[A\n",
      "Computing anomaly score for each data:  83%|████████▎ | 198/238 [04:50<00:56,  1.41s/it]\n",
      "Computing divergence:   0%|          | 0/192 [00:00<?, ?it/s]\u001b[A\n",
      "Computing divergence: 100%|██████████| 192/192 [00:00<00:00, 435.42it/s] \u001b[A\n",
      "Computing anomaly score for each data:  84%|████████▎ | 199/238 [04:51<00:53,  1.37s/it]\n",
      "Computing divergence:   0%|          | 0/192 [00:00<?, ?it/s]\u001b[A\n",
      "Computing divergence: 100%|██████████| 192/192 [00:00<00:00, 435.26it/s] \u001b[A\n",
      "Computing anomaly score for each data:  84%|████████▍ | 200/238 [04:52<00:51,  1.35s/it]\n",
      "Computing divergence:   0%|          | 0/192 [00:00<?, ?it/s]\u001b[A\n",
      "Computing divergence: 100%|██████████| 192/192 [00:00<00:00, 434.46it/s] \u001b[A\n",
      "Computing anomaly score for each data:  84%|████████▍ | 201/238 [04:54<00:49,  1.35s/it]\n",
      "Computing divergence:   0%|          | 0/192 [00:00<?, ?it/s]\u001b[A\n",
      "Computing divergence: 100%|██████████| 192/192 [00:00<00:00, 433.45it/s] \u001b[A\n",
      "Computing anomaly score for each data:  85%|████████▍ | 202/238 [04:55<00:48,  1.36s/it]\n",
      "Computing divergence:   0%|          | 0/192 [00:00<?, ?it/s]\u001b[A\n",
      "Computing divergence: 100%|██████████| 192/192 [00:00<00:00, 435.41it/s] \u001b[A\n",
      "Computing anomaly score for each data:  85%|████████▌ | 203/238 [04:56<00:47,  1.35s/it]\n",
      "Computing divergence:   0%|          | 0/192 [00:00<?, ?it/s]\u001b[A\n",
      "Computing divergence: 100%|██████████| 192/192 [00:00<00:00, 435.24it/s] \u001b[A\n",
      "Computing anomaly score for each data:  86%|████████▌ | 204/238 [04:58<00:45,  1.35s/it]\n",
      "Computing divergence:   0%|          | 0/192 [00:00<?, ?it/s]\u001b[A\n",
      "Computing divergence: 100%|██████████| 192/192 [00:00<00:00, 435.21it/s] \u001b[A\n",
      "Computing anomaly score for each data:  86%|████████▌ | 205/238 [04:59<00:45,  1.38s/it]\n",
      "Computing divergence:   0%|          | 0/192 [00:00<?, ?it/s]\u001b[A\n",
      "Computing divergence: 100%|██████████| 192/192 [00:00<00:00, 435.29it/s] \u001b[A\n",
      "Computing anomaly score for each data:  87%|████████▋ | 206/238 [05:01<00:43,  1.37s/it]\n",
      "Computing divergence:   0%|          | 0/192 [00:00<?, ?it/s]\u001b[A\n",
      "Computing divergence: 100%|██████████| 192/192 [00:00<00:00, 435.29it/s] \u001b[A\n",
      "Computing anomaly score for each data:  87%|████████▋ | 207/238 [05:02<00:44,  1.43s/it]\n",
      "Computing divergence:   0%|          | 0/192 [00:00<?, ?it/s]\u001b[A\n",
      "Computing divergence: 100%|██████████| 192/192 [00:00<00:00, 435.22it/s] \u001b[A\n",
      "Computing anomaly score for each data:  87%|████████▋ | 208/238 [05:03<00:42,  1.41s/it]\n",
      "Computing divergence:   0%|          | 0/192 [00:00<?, ?it/s]\u001b[A\n",
      "Computing divergence: 100%|██████████| 192/192 [00:00<00:00, 435.35it/s] \u001b[A\n",
      "Computing anomaly score for each data:  88%|████████▊ | 209/238 [05:05<00:42,  1.47s/it]\n",
      "Computing divergence:   0%|          | 0/192 [00:00<?, ?it/s]\u001b[A\n",
      "Computing divergence: 100%|██████████| 192/192 [00:00<00:00, 435.26it/s] \u001b[A\n",
      "Computing anomaly score for each data:  88%|████████▊ | 210/238 [05:07<00:42,  1.52s/it]\n",
      "Computing divergence:   0%|          | 0/192 [00:00<?, ?it/s]\u001b[A\n",
      "Computing divergence: 100%|██████████| 192/192 [00:00<00:00, 435.24it/s] \u001b[A\n",
      "Computing anomaly score for each data:  89%|████████▊ | 211/238 [05:08<00:39,  1.45s/it]\n",
      "Computing divergence:   0%|          | 0/192 [00:00<?, ?it/s]\u001b[A\n",
      "Computing divergence: 100%|██████████| 192/192 [00:00<00:00, 434.27it/s] \u001b[A\n",
      "Computing anomaly score for each data:  89%|████████▉ | 212/238 [05:09<00:36,  1.40s/it]\n",
      "Computing divergence:   0%|          | 0/192 [00:00<?, ?it/s]\u001b[A\n",
      "Computing divergence: 100%|██████████| 192/192 [00:00<00:00, 435.42it/s] \u001b[A\n",
      "Computing anomaly score for each data:  89%|████████▉ | 213/238 [05:11<00:35,  1.40s/it]\n",
      "Computing divergence:   0%|          | 0/192 [00:00<?, ?it/s]\u001b[A\n",
      "Computing divergence: 100%|██████████| 192/192 [00:00<00:00, 435.28it/s] \u001b[A\n",
      "Computing anomaly score for each data:  90%|████████▉ | 214/238 [05:12<00:33,  1.41s/it]\n",
      "Computing divergence:   0%|          | 0/192 [00:00<?, ?it/s]\u001b[A\n",
      "Computing divergence: 100%|██████████| 192/192 [00:00<00:00, 435.25it/s] \u001b[A\n",
      "Computing anomaly score for each data:  90%|█████████ | 215/238 [05:14<00:32,  1.40s/it]\n",
      "Computing divergence:   0%|          | 0/192 [00:00<?, ?it/s]\u001b[A\n",
      "Computing divergence: 100%|██████████| 192/192 [00:00<00:00, 434.98it/s] \u001b[A\n",
      "Computing anomaly score for each data:  91%|█████████ | 216/238 [05:15<00:30,  1.37s/it]\n",
      "Computing divergence:   0%|          | 0/192 [00:00<?, ?it/s]\u001b[A\n",
      "Computing divergence: 100%|██████████| 192/192 [00:00<00:00, 435.04it/s] \u001b[A\n",
      "Computing anomaly score for each data:  91%|█████████ | 217/238 [05:16<00:28,  1.34s/it]\n",
      "Computing divergence:   0%|          | 0/192 [00:00<?, ?it/s]\u001b[A\n",
      "Computing divergence: 100%|██████████| 192/192 [00:00<00:00, 435.10it/s] \u001b[A\n",
      "Computing anomaly score for each data:  92%|█████████▏| 218/238 [05:17<00:26,  1.34s/it]\n",
      "Computing divergence:   0%|          | 0/192 [00:00<?, ?it/s]\u001b[A\n",
      "Computing divergence: 100%|██████████| 192/192 [00:00<00:00, 433.50it/s] \u001b[A\n",
      "Computing anomaly score for each data:  92%|█████████▏| 219/238 [05:19<00:24,  1.31s/it]\n",
      "Computing divergence:   0%|          | 0/192 [00:00<?, ?it/s]\u001b[A\n",
      "Computing divergence: 100%|██████████| 192/192 [00:00<00:00, 435.19it/s] \u001b[A\n",
      "Computing anomaly score for each data:  92%|█████████▏| 220/238 [05:20<00:24,  1.35s/it]\n",
      "Computing divergence:   0%|          | 0/192 [00:00<?, ?it/s]\u001b[A\n",
      "Computing divergence: 100%|██████████| 192/192 [00:00<00:00, 435.24it/s] \u001b[A\n",
      "Computing anomaly score for each data:  93%|█████████▎| 221/238 [05:22<00:24,  1.41s/it]\n",
      "Computing divergence:   0%|          | 0/192 [00:00<?, ?it/s]\u001b[A\n",
      "Computing divergence: 100%|██████████| 192/192 [00:00<00:00, 435.07it/s] \u001b[A\n",
      "Computing anomaly score for each data:  93%|█████████▎| 222/238 [05:23<00:22,  1.40s/it]\n",
      "Computing divergence:   0%|          | 0/192 [00:00<?, ?it/s]\u001b[A\n",
      "Computing divergence: 100%|██████████| 192/192 [00:00<00:00, 435.32it/s] \u001b[A\n",
      "Computing anomaly score for each data:  94%|█████████▎| 223/238 [05:24<00:20,  1.38s/it]\n",
      "Computing divergence:   0%|          | 0/192 [00:00<?, ?it/s]\u001b[A\n",
      "Computing divergence: 100%|██████████| 192/192 [00:00<00:00, 434.73it/s] \u001b[A\n",
      "Computing anomaly score for each data:  94%|█████████▍| 224/238 [05:26<00:21,  1.54s/it]\n",
      "Computing divergence:   0%|          | 0/192 [00:00<?, ?it/s]\u001b[A\n",
      "Computing divergence: 100%|██████████| 192/192 [00:00<00:00, 435.22it/s] \u001b[A\n",
      "Computing anomaly score for each data:  95%|█████████▍| 225/238 [05:28<00:19,  1.52s/it]\n",
      "Computing divergence:   0%|          | 0/192 [00:00<?, ?it/s]\u001b[A\n",
      "Computing divergence: 100%|██████████| 192/192 [00:00<00:00, 434.99it/s] \u001b[A\n",
      "Computing anomaly score for each data:  95%|█████████▍| 226/238 [05:29<00:17,  1.46s/it]\n",
      "Computing divergence:   0%|          | 0/192 [00:00<?, ?it/s]\u001b[A\n",
      "Computing divergence: 100%|██████████| 192/192 [00:00<00:00, 435.33it/s] \u001b[A\n",
      "Computing anomaly score for each data:  95%|█████████▌| 227/238 [05:31<00:16,  1.49s/it]\n",
      "Computing divergence:   0%|          | 0/192 [00:00<?, ?it/s]\u001b[A\n",
      "Computing divergence: 100%|██████████| 192/192 [00:00<00:00, 434.43it/s] \u001b[A\n",
      "Computing anomaly score for each data:  96%|█████████▌| 228/238 [05:32<00:14,  1.46s/it]\n",
      "Computing divergence:   0%|          | 0/192 [00:00<?, ?it/s]\u001b[A\n",
      "Computing divergence: 100%|██████████| 192/192 [00:00<00:00, 435.34it/s] \u001b[A\n",
      "Computing anomaly score for each data:  96%|█████████▌| 229/238 [05:34<00:13,  1.51s/it]\n",
      "Computing divergence:   0%|          | 0/192 [00:00<?, ?it/s]\u001b[A\n",
      "Computing divergence: 100%|██████████| 192/192 [00:00<00:00, 435.42it/s] \u001b[A\n",
      "Computing anomaly score for each data:  97%|█████████▋| 230/238 [05:35<00:11,  1.46s/it]\n",
      "Computing divergence:   0%|          | 0/192 [00:00<?, ?it/s]\u001b[A\n",
      "Computing divergence: 100%|██████████| 192/192 [00:00<00:00, 435.30it/s] \u001b[A\n",
      "Computing anomaly score for each data:  97%|█████████▋| 231/238 [05:37<00:10,  1.52s/it]\n",
      "Computing divergence:   0%|          | 0/192 [00:00<?, ?it/s]\u001b[A\n",
      "Computing divergence: 100%|██████████| 192/192 [00:00<00:00, 435.41it/s] \u001b[A\n",
      "Computing anomaly score for each data:  97%|█████████▋| 232/238 [05:38<00:08,  1.49s/it]\n",
      "Computing divergence:   0%|          | 0/192 [00:00<?, ?it/s]\u001b[A\n",
      "Computing divergence: 100%|██████████| 192/192 [00:00<00:00, 435.26it/s] \u001b[A\n",
      "Computing anomaly score for each data:  98%|█████████▊| 233/238 [05:39<00:07,  1.45s/it]\n",
      "Computing divergence:   0%|          | 0/192 [00:00<?, ?it/s]\u001b[A\n",
      "Computing divergence: 100%|██████████| 192/192 [00:00<00:00, 435.27it/s] \u001b[A\n",
      "Computing anomaly score for each data:  98%|█████████▊| 234/238 [05:41<00:05,  1.41s/it]\n",
      "Computing divergence:   0%|          | 0/192 [00:00<?, ?it/s]\u001b[A\n",
      "Computing divergence: 100%|██████████| 192/192 [00:00<00:00, 435.21it/s] \u001b[A\n",
      "Computing anomaly score for each data:  99%|█████████▊| 235/238 [05:42<00:04,  1.36s/it]\n",
      "Computing divergence:   0%|          | 0/192 [00:00<?, ?it/s]\u001b[A\n",
      "Computing divergence: 100%|██████████| 192/192 [00:00<00:00, 435.29it/s] \u001b[A\n",
      "Computing anomaly score for each data:  99%|█████████▉| 236/238 [05:43<00:02,  1.38s/it]\n",
      "Computing divergence:   0%|          | 0/192 [00:00<?, ?it/s]\u001b[A\n",
      "Computing divergence: 100%|██████████| 192/192 [00:00<00:00, 435.26it/s] \u001b[A\n",
      "Computing anomaly score for each data: 100%|█████████▉| 237/238 [05:45<00:01,  1.39s/it]\n",
      "Computing divergence:   0%|          | 0/192 [00:00<?, ?it/s]\u001b[A\n",
      "Computing divergence: 100%|██████████| 192/192 [00:00<00:00, 578.35it/s] \u001b[A\n",
      "Computing anomaly score for each data: 100%|██████████| 238/238 [05:46<00:00,  1.46s/it]\n"
     ]
    }
   ],
   "source": [
    "threshold = model.define_threshold(loader_fr_test, 0.95, 'Renyi', \"s1\", 0.1, temperature=1)"
   ]
  },
  {
   "cell_type": "code",
   "execution_count": 13,
   "metadata": {
    "tags": []
   },
   "outputs": [
    {
     "data": {
      "text/plain": [
       "tensor(0.0862, device='cuda:0')"
      ]
     },
     "execution_count": 13,
     "metadata": {},
     "output_type": "execute_result"
    }
   ],
   "source": [
    "threshold"
   ]
  },
  {
   "cell_type": "code",
   "execution_count": 14,
   "metadata": {
    "tags": []
   },
   "outputs": [
    {
     "name": "stderr",
     "output_type": "stream",
     "text": [
      "Computing divergence: 100%|██████████| 192/192 [00:00<00:00, 435.22it/s] \n"
     ]
    },
    {
     "data": {
      "text/plain": [
       "tensor([False, False, False, False, False, False, False, False, False, False,\n",
       "        False, False, False, False, False, False], device='cuda:0')"
      ]
     },
     "execution_count": 14,
     "metadata": {},
     "output_type": "execute_result"
    }
   ],
   "source": [
    "model.classify(x_de_train, threshold, 'Renyi', \"s1\", 0.1, temperature=1)"
   ]
  },
  {
   "cell_type": "code",
   "execution_count": 15,
   "metadata": {
    "tags": []
   },
   "outputs": [
    {
     "name": "stderr",
     "output_type": "stream",
     "text": [
      "Computing divergence: 100%|██████████| 192/192 [00:00<00:00, 435.14it/s] \n"
     ]
    },
    {
     "data": {
      "text/plain": [
       "tensor([True, True, True, True, True, True, True, True, True, True, True, True,\n",
       "        True, True, True, True], device='cuda:0')"
      ]
     },
     "execution_count": 15,
     "metadata": {},
     "output_type": "execute_result"
    }
   ],
   "source": [
    "model.classify(x_fr_train, threshold, 'Renyi', \"s1\", 0.1, temperature=1)"
   ]
  },
  {
   "cell_type": "code",
   "execution_count": 11,
   "metadata": {
    "tags": []
   },
   "outputs": [],
   "source": [
    "anomaly, _ = model.anomaly_score(x_de_train, 'Renyi', \"s0\", 0.1, temperature=1)"
   ]
  },
  {
   "cell_type": "code",
   "execution_count": 12,
   "metadata": {
    "tags": []
   },
   "outputs": [
    {
     "data": {
      "text/plain": [
       "tensor([0.2623, 0.2500, 0.2557, 0.2670, 0.2444, 0.2570, 0.2797, 0.3035, 0.2568,\n",
       "        0.2556, 0.2404, 0.2580, 0.3005, 0.2573, 0.2630, 0.2653],\n",
       "       device='cuda:0')"
      ]
     },
     "execution_count": 12,
     "metadata": {},
     "output_type": "execute_result"
    }
   ],
   "source": [
    "anomaly"
   ]
  },
  {
   "cell_type": "code",
   "execution_count": 13,
   "metadata": {
    "tags": []
   },
   "outputs": [],
   "source": [
    "#out = model.model.generate(**x_de, return_dict_in_generate=True,output_scores=True, num_beams=1)"
   ]
  },
  {
   "cell_type": "code",
   "execution_count": 14,
   "metadata": {
    "tags": []
   },
   "outputs": [],
   "source": [
    "#out.scores[0].shape"
   ]
  },
  {
   "cell_type": "code",
   "execution_count": 15,
   "metadata": {
    "tags": []
   },
   "outputs": [],
   "source": [
    "#torch.stack(list(out.scores), dim=0).permute(1,0,2)"
   ]
  },
  {
   "cell_type": "code",
   "execution_count": 16,
   "metadata": {},
   "outputs": [],
   "source": [
    "#model.softmax(torch.stack(list(out.scores), dim=0).permute(1,0,2))"
   ]
  },
  {
   "cell_type": "code",
   "execution_count": 17,
   "metadata": {},
   "outputs": [],
   "source": [
    "# anomaly_score_de, sequences_de = model.anomaly_score(x_de, 'Renyi', 0.1, temperature=1)\n",
    "\n",
    "# anomaly_score_fr, sequences_fr = model.anomaly_score(x_fr, 'Renyi', 0.1, temperature=1)\n",
    "\n",
    "# anomaly_score_nld, sequences_nld = model.anomaly_score(x_nld, 'Renyi', 0.1, temperature=1)"
   ]
  },
  {
   "cell_type": "code",
   "execution_count": 18,
   "metadata": {},
   "outputs": [],
   "source": [
    "# anomaly_score_de"
   ]
  },
  {
   "cell_type": "code",
   "execution_count": 19,
   "metadata": {},
   "outputs": [],
   "source": [
    "# anomaly_score_fr"
   ]
  },
  {
   "cell_type": "code",
   "execution_count": 20,
   "metadata": {},
   "outputs": [],
   "source": [
    "# anomaly_score_nld"
   ]
  },
  {
   "cell_type": "code",
   "execution_count": 21,
   "metadata": {},
   "outputs": [],
   "source": [
    "# print(torch.mean(anomaly_score_de))\n",
    "# print(torch.std(anomaly_score_de))\n"
   ]
  },
  {
   "cell_type": "code",
   "execution_count": 22,
   "metadata": {},
   "outputs": [],
   "source": [
    "# print(torch.mean(anomaly_score_fr))\n",
    "# print(torch.std(anomaly_score_fr))"
   ]
  },
  {
   "cell_type": "code",
   "execution_count": 23,
   "metadata": {},
   "outputs": [],
   "source": [
    "# print(torch.mean(anomaly_score_nld))\n",
    "# print(torch.std(anomaly_score_nld))\n"
   ]
  },
  {
   "cell_type": "code",
   "execution_count": 24,
   "metadata": {},
   "outputs": [],
   "source": [
    "# tokenizer.batch_decode(generated_ids.sequences, skip_special_tokens=True)"
   ]
  },
  {
   "cell_type": "code",
   "execution_count": 25,
   "metadata": {
    "tags": []
   },
   "outputs": [],
   "source": [
    "# x = tokenizer(data_nld[0][\"targetString\"], return_tensors=\"pt\")\n",
    "\n",
    "# generated_ids = model.generate(**x)\n",
    "# tokenizer.batch_decode(generated_ids, skip_special_tokens=True)"
   ]
  }
 ],
 "metadata": {
  "kernelspec": {
   "display_name": "Python 3 (ipykernel)",
   "language": "python",
   "name": "python3"
  },
  "language_info": {
   "codemirror_mode": {
    "name": "ipython",
    "version": 3
   },
   "file_extension": ".py",
   "mimetype": "text/x-python",
   "name": "python",
   "nbconvert_exporter": "python",
   "pygments_lexer": "ipython3",
   "version": "3.8.10"
  },
  "vscode": {
   "interpreter": {
    "hash": "d4d1e4263499bec80672ea0156c357c1ee493ec2b1c70f0acce89fc37c4a6abe"
   }
  }
 },
 "nbformat": 4,
 "nbformat_minor": 4
}
