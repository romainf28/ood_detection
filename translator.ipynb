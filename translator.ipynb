{
 "cells": [
  {
   "cell_type": "code",
   "execution_count": 1,
   "metadata": {
    "tags": []
   },
   "outputs": [
    {
     "name": "stderr",
     "output_type": "stream",
     "text": [
      "/usr/local/lib/python3.8/dist-packages/tqdm/auto.py:22: TqdmWarning: IProgress not found. Please update jupyter and ipywidgets. See https://ipywidgets.readthedocs.io/en/stable/user_install.html\n",
      "  from .autonotebook import tqdm as notebook_tqdm\n",
      "2023-04-07 09:27:58.728160: I tensorflow/core/platform/cpu_feature_guard.cc:193] This TensorFlow binary is optimized with oneAPI Deep Neural Network Library (oneDNN) to use the following CPU instructions in performance-critical operations:  AVX2 FMA\n",
      "To enable them in other operations, rebuild TensorFlow with the appropriate compiler flags.\n",
      "2023-04-07 09:27:59.807360: W tensorflow/compiler/xla/stream_executor/platform/default/dso_loader.cc:64] Could not load dynamic library 'libnvinfer.so.7'; dlerror: libnvinfer.so.7: cannot open shared object file: No such file or directory\n",
      "2023-04-07 09:27:59.807715: W tensorflow/compiler/xla/stream_executor/platform/default/dso_loader.cc:64] Could not load dynamic library 'libnvinfer_plugin.so.7'; dlerror: libnvinfer_plugin.so.7: cannot open shared object file: No such file or directory\n",
      "2023-04-07 09:27:59.807743: W tensorflow/compiler/tf2tensorrt/utils/py_utils.cc:38] TF-TRT Warning: Cannot dlopen some TensorRT libraries. If you would like to use Nvidia GPU with TensorRT, please make sure the missing libraries mentioned above are installed properly.\n",
      "Matplotlib created a temporary config/cache directory at /tmp/matplotlib-ejvhra56 because the default path (/home/funny_shannon/.config/matplotlib) is not a writable directory; it is highly recommended to set the MPLCONFIGDIR environment variable to a writable directory, in particular to speed up the import of Matplotlib and to better support multiprocessing.\n"
     ]
    },
    {
     "data": {
      "text/plain": [
       "<torch._C.Generator at 0x7fd72c3adc90>"
      ]
     },
     "execution_count": 1,
     "metadata": {},
     "output_type": "execute_result"
    }
   ],
   "source": [
    "import torch\n",
    "from transformers import AutoTokenizer\n",
    "import datasets\n",
    "from utils_generator import GenerationModel, auroc, define_threshold\n",
    "\n",
    "import matplotlib.pyplot as plt\n",
    "from torch.utils.data import DataLoader, random_split\n",
    "torch.manual_seed(9)"
   ]
  },
  {
   "cell_type": "code",
   "execution_count": 2,
   "metadata": {
    "tags": []
   },
   "outputs": [],
   "source": [
    "args = {\n",
    "    \"batch_size\":16,\n",
    "    \"num_workers\":0,\n",
    "    \"shuffle\":True,\n",
    "    \"drop_last\":False,\n",
    "    \"scenario\":\"s1\",\n",
    "    \"divergence\":\"Renyi\",\n",
    "    \"alpha\":0.1,\n",
    "    \"temperature\":1,\n",
    "    \"r\":0.95\n",
    "    }"
   ]
  },
  {
   "cell_type": "code",
   "execution_count": 3,
   "metadata": {
    "tags": []
   },
   "outputs": [
    {
     "name": "stderr",
     "output_type": "stream",
     "text": [
      "/home/funny_shannon/.local/lib/python3.8/site-packages/transformers/models/marian/tokenization_marian.py:194: UserWarning: Recommended: pip install sacremoses.\n",
      "  warnings.warn(\"Recommended: pip install sacremoses.\")\n"
     ]
    },
    {
     "name": "stdout",
     "output_type": "stream",
     "text": [
      "cuda\n"
     ]
    }
   ],
   "source": [
    "tokenizer = AutoTokenizer.from_pretrained(\"Helsinki-NLP/opus-mt-de-en\")\n",
    "\n",
    "model = GenerationModel(\"Helsinki-NLP/opus-mt-de-en\")"
   ]
  },
  {
   "cell_type": "code",
   "execution_count": 4,
   "metadata": {
    "tags": []
   },
   "outputs": [
    {
     "name": "stderr",
     "output_type": "stream",
     "text": [
      "Found cached dataset tatoeba_mt (/home/funny_shannon/.cache/huggingface/datasets/Helsinki-NLP___tatoeba_mt/deu-eng/0.0.0/01e819f3f64a772a2ca70949061d295d3a2dc99d05183fe4776a3be23f75f619)\n",
      "Found cached dataset tatoeba_mt (/home/funny_shannon/.cache/huggingface/datasets/Helsinki-NLP___tatoeba_mt/eng-fra/0.0.0/01e819f3f64a772a2ca70949061d295d3a2dc99d05183fe4776a3be23f75f619)\n"
     ]
    }
   ],
   "source": [
    "data_de = datasets.load_dataset('Helsinki-NLP/tatoeba_mt','deu-eng',split=datasets.Split.TEST, \n",
    "                                verification_mode= datasets.VerificationMode.NO_CHECKS)\n",
    "data_de_train, data_de_test = random_split(data_de, [0.7, 0.3])\n",
    "\n",
    "data_fr = datasets.load_dataset('Helsinki-NLP/tatoeba_mt','eng-fra', split=datasets.Split.TEST, \n",
    "                                verification_mode= datasets.VerificationMode.NO_CHECKS)\\\n",
    "                                    .rename_columns({'sourceLang': 'targetlang', 'targetlang': 'sourceLang', \n",
    "                                                     'sourceString': 'targetString', 'targetString': 'sourceString'})\n",
    "data_fr_train, data_fr_test = random_split(data_fr, [0.3, 0.7])\n",
    "\n",
    "# data_nld = datasets.load_dataset('Helsinki-NLP/tatoeba_mt','eng-nld',split=datasets.Split.TEST,\n",
    "#                                   verification_mode= datasets.VerificationMode.NO_CHECKS)\\\n",
    "#                                     .rename_columns({'sourceLang': 'targetlang', 'targetlang': 'sourceLang', \n",
    "#                                                      'sourceString': 'targetString', 'targetString': 'sourceString'})"
   ]
  },
  {
   "cell_type": "code",
   "execution_count": 5,
   "metadata": {
    "tags": []
   },
   "outputs": [
    {
     "data": {
      "text/plain": [
       "{'sourceLang': 'deu',\n",
       " 'targetlang': 'eng',\n",
       " 'sourceString': 'Schach ist schwer.',\n",
       " 'targetString': 'Chess is difficult.'}"
      ]
     },
     "execution_count": 5,
     "metadata": {},
     "output_type": "execute_result"
    }
   ],
   "source": [
    "data_de_test[0]"
   ]
  },
  {
   "cell_type": "code",
   "execution_count": 6,
   "metadata": {
    "tags": []
   },
   "outputs": [],
   "source": [
    "loader_de_train = DataLoader(data_de_train, batch_size=args['batch_size'], num_workers=args['num_workers'], \n",
    "                       shuffle=args['shuffle'], drop_last=args['drop_last'])\n",
    "\n",
    "loader_de_test = DataLoader(data_de_test, batch_size=args['batch_size'], num_workers=args['num_workers'], \n",
    "                       shuffle=args['shuffle'], drop_last=args['drop_last'])\n",
    "\n",
    "loader_fr_train = DataLoader(data_fr_train, batch_size=args['batch_size'], num_workers=args['num_workers'], \n",
    "                       shuffle=args['shuffle'], drop_last=args['drop_last'])\n",
    "\n",
    "loader_fr_test = DataLoader(data_fr_test, batch_size=args['batch_size'], num_workers=args['num_workers'], \n",
    "                       shuffle=args['shuffle'], drop_last=args['drop_last'])\n",
    "\n",
    "# loader_nld = DataLoader(data_nld, batch_size=args['batch_size'], num_workers=args['num_workers'], \n",
    "#                        shuffle=args['shuffle'], drop_last=args['drop_last'])"
   ]
  },
  {
   "cell_type": "code",
   "execution_count": 7,
   "metadata": {
    "tags": []
   },
   "outputs": [],
   "source": [
    "x_de_train = tokenizer(next(iter(loader_de_train))[\"sourceString\"], return_tensors=\"pt\", padding=True)\n",
    "x_de_test = tokenizer(next(iter(loader_de_test))[\"sourceString\"], return_tensors=\"pt\", padding=True)\n",
    "\n",
    "\n",
    "x_fr_train = tokenizer(next(iter(loader_fr_train))[\"sourceString\"], return_tensors=\"pt\", padding=True)\n",
    "x_fr_test = tokenizer(next(iter(loader_fr_test))[\"sourceString\"], return_tensors=\"pt\", padding=True)\n",
    "\n",
    "# x_nld = tokenizer(next(iter(loader_nld))[\"sourceString\"], return_tensors=\"pt\", padding=True)"
   ]
  },
  {
   "cell_type": "code",
   "execution_count": 8,
   "metadata": {
    "tags": []
   },
   "outputs": [
    {
     "name": "stderr",
     "output_type": "stream",
     "text": [
      "Generate bag of distribution:   0%|          | 0/769 [00:00<?, ?it/s]/home/funny_shannon/.local/lib/python3.8/site-packages/transformers/generation/utils.py:1273: UserWarning: Neither `max_length` nor `max_new_tokens` has been set, `max_length` will default to 512 (`generation_config.max_length`). Controlling `max_length` via the config is deprecated and `max_length` will be removed from the config in v5 of Transformers -- we recommend using `max_new_tokens` to control the maximum length of the generation.\n",
      "  warnings.warn(\n",
      "Generate bag of distribution: 100%|██████████| 769/769 [02:25<00:00,  5.29it/s]\n"
     ]
    },
    {
     "data": {
      "text/plain": [
       "tensor([[5.6455e-02, 1.7664e-06, 2.6444e-03,  ..., 1.7109e-06, 1.6938e-06,\n",
       "         0.0000e+00],\n",
       "        [1.5261e-01, 1.8251e-06, 5.2010e-04,  ..., 1.6925e-06, 1.6531e-06,\n",
       "         0.0000e+00],\n",
       "        [1.0669e-01, 1.8658e-06, 1.7397e-03,  ..., 1.6949e-06, 1.6892e-06,\n",
       "         0.0000e+00],\n",
       "        ...,\n",
       "        [2.1777e-01, 1.9683e-06, 7.3236e-04,  ..., 1.7877e-06, 1.7694e-06,\n",
       "         0.0000e+00],\n",
       "        [2.3058e-01, 2.0039e-06, 1.5595e-04,  ..., 1.8619e-06, 1.7918e-06,\n",
       "         0.0000e+00],\n",
       "        [1.2758e-01, 1.9173e-06, 1.9801e-03,  ..., 1.7499e-06, 1.7492e-06,\n",
       "         0.0000e+00]], device='cuda:0')"
      ]
     },
     "execution_count": 8,
     "metadata": {},
     "output_type": "execute_result"
    }
   ],
   "source": [
    "model.generate_bag(loader_de_train)"
   ]
  },
  {
   "cell_type": "code",
   "execution_count": 9,
   "metadata": {
    "tags": []
   },
   "outputs": [],
   "source": [
    "anomaly= model.anomaly_score(x_de_test, args[\"divergence\"], args[\"scenario\"], args[\"alpha\"], args[\"temperature\"])"
   ]
  },
  {
   "cell_type": "code",
   "execution_count": 10,
   "metadata": {
    "tags": []
   },
   "outputs": [
    {
     "data": {
      "text/plain": [
       "tensor([0.1092, 0.0622, 0.1151, 0.1638, 0.0893, 0.0708, -0.0000, 0.0777, 0.0777,\n",
       "        0.1567, 0.0527, 0.0929, 0.0483, 0.0884, 0.0603, 0.0612],\n",
       "       device='cuda:0')"
      ]
     },
     "execution_count": 10,
     "metadata": {},
     "output_type": "execute_result"
    }
   ],
   "source": [
    "anomaly"
   ]
  },
  {
   "cell_type": "code",
   "execution_count": 11,
   "metadata": {
    "tags": []
   },
   "outputs": [],
   "source": [
    "anomaly_fr= model.anomaly_score(x_fr_train,args[\"divergence\"], args[\"scenario\"], args[\"alpha\"], args[\"temperature\"])"
   ]
  },
  {
   "cell_type": "code",
   "execution_count": 12,
   "metadata": {
    "tags": []
   },
   "outputs": [
    {
     "name": "stderr",
     "output_type": "stream",
     "text": [
      "Computing anomaly score for each data: 100%|██████████| 330/330 [06:54<00:00,  1.26s/it]\n",
      "Computing anomaly score for each data: 100%|██████████| 238/238 [05:29<00:00,  1.38s/it]\n"
     ]
    }
   ],
   "source": [
    "list_anomaly_in = model.anomaly_score_loader(loader_de_test, args[\"divergence\"],\n",
    "                                   args[\"scenario\"], args[\"alpha\"], args[\"temperature\"])\n",
    "\n",
    "list_anomaly_out = model.anomaly_score_loader(loader_fr_train, args[\"divergence\"],\n",
    "                                   args[\"scenario\"], args[\"alpha\"], args[\"temperature\"])"
   ]
  },
  {
   "cell_type": "code",
   "execution_count": 14,
   "metadata": {
    "tags": []
   },
   "outputs": [
    {
     "ename": "NameError",
     "evalue": "name 'list_anomaly_out' is not defined",
     "output_type": "error",
     "traceback": [
      "\u001b[0;31m---------------------------------------------------------------------------\u001b[0m",
      "\u001b[0;31mNameError\u001b[0m                                 Traceback (most recent call last)",
      "Cell \u001b[0;32mIn[14], line 1\u001b[0m\n\u001b[0;32m----> 1\u001b[0m \u001b[43mauroc\u001b[49m\u001b[43m(\u001b[49m\u001b[43mlist_anomaly_in\u001b[49m\u001b[43m,\u001b[49m\u001b[43m \u001b[49m\u001b[43mlist_anomaly_out\u001b[49m\u001b[43m,\u001b[49m\u001b[43m \u001b[49m\u001b[38;5;28;43;01mTrue\u001b[39;49;00m\u001b[43m)\u001b[49m\n",
      "File \u001b[0;32m~/workdir/ood_detection/utils_generator.py:34\u001b[0m, in \u001b[0;36mauroc\u001b[0;34m(tensor_score_in, tensor_score_out, plot)\u001b[0m\n\u001b[1;32m     32\u001b[0m fpr \u001b[38;5;241m=\u001b[39m []\n\u001b[1;32m     33\u001b[0m \u001b[38;5;28;01mfor\u001b[39;00m threshold \u001b[38;5;129;01min\u001b[39;00m torch\u001b[38;5;241m.\u001b[39mlinspace(r_min, r_max, \u001b[38;5;241m50\u001b[39m,):\n\u001b[0;32m---> 34\u001b[0m     tpr\u001b[38;5;241m.\u001b[39mappend(torch\u001b[38;5;241m.\u001b[39mround((\u001b[43mlist_anomaly_out\u001b[49m\u001b[38;5;241m>\u001b[39m\u001b[38;5;241m=\u001b[39mthreshold)\u001b[38;5;241m.\u001b[39mfloat(), decimals\u001b[38;5;241m=\u001b[39m\u001b[38;5;241m0\u001b[39m)\u001b[38;5;241m.\u001b[39mmean()\u001b[38;5;241m.\u001b[39mcpu())\n\u001b[1;32m     35\u001b[0m     fpr\u001b[38;5;241m.\u001b[39mappend(torch\u001b[38;5;241m.\u001b[39mround((list_anomaly_in\u001b[38;5;241m>\u001b[39m\u001b[38;5;241m=\u001b[39mthreshold)\u001b[38;5;241m.\u001b[39mfloat(), decimals\u001b[38;5;241m=\u001b[39m\u001b[38;5;241m0\u001b[39m)\u001b[38;5;241m.\u001b[39mmean()\u001b[38;5;241m.\u001b[39mcpu())\n\u001b[1;32m     37\u001b[0m auc \u001b[38;5;241m=\u001b[39m \u001b[38;5;241m-\u001b[39m\u001b[38;5;241m1\u001b[39m \u001b[38;5;241m*\u001b[39m np\u001b[38;5;241m.\u001b[39mtrapz(tpr, fpr)\n",
      "\u001b[0;31mNameError\u001b[0m: name 'list_anomaly_out' is not defined"
     ]
    }
   ],
   "source": [
    "auroc(list_anomaly_in, list_anomaly_out, True)"
   ]
  },
  {
   "cell_type": "code",
   "execution_count": null,
   "metadata": {
    "tags": []
   },
   "outputs": [],
   "source": [
    "threshold = define_threshold(list_anomaly_out, args[\"r\"], args[\"divergence\"],\n",
    "                                   args[\"scenario\"], args[\"alpha\"], args[\"temperature\"])"
   ]
  },
  {
   "cell_type": "code",
   "execution_count": null,
   "metadata": {
    "tags": []
   },
   "outputs": [],
   "source": [
    "threshold"
   ]
  },
  {
   "cell_type": "code",
   "execution_count": null,
   "metadata": {
    "tags": []
   },
   "outputs": [],
   "source": [
    "model.classify(x_fr_test, threshold, args[\"divergence\"], args[\"scenario\"], args[\"alpha\"], args[\"temperature\"])"
   ]
  },
  {
   "cell_type": "code",
   "execution_count": null,
   "metadata": {
    "tags": []
   },
   "outputs": [],
   "source": [
    "#anomaly= model.anomaly_score(x_de_train, args[\"divergence\"], args[\"scenario\"], args[\"alpha\"], args[\"temperature\"])"
   ]
  },
  {
   "cell_type": "code",
   "execution_count": 13,
   "metadata": {
    "tags": []
   },
   "outputs": [],
   "source": [
    "#out = model.model.generate(**x_de, return_dict_in_generate=True,output_scores=True, num_beams=1)"
   ]
  },
  {
   "cell_type": "code",
   "execution_count": 14,
   "metadata": {
    "tags": []
   },
   "outputs": [],
   "source": [
    "#out.scores[0].shape"
   ]
  },
  {
   "cell_type": "code",
   "execution_count": 15,
   "metadata": {
    "tags": []
   },
   "outputs": [],
   "source": [
    "#torch.stack(list(out.scores), dim=0).permute(1,0,2)"
   ]
  },
  {
   "cell_type": "code",
   "execution_count": 16,
   "metadata": {},
   "outputs": [],
   "source": [
    "#model.softmax(torch.stack(list(out.scores), dim=0).permute(1,0,2))"
   ]
  },
  {
   "cell_type": "code",
   "execution_count": 17,
   "metadata": {},
   "outputs": [],
   "source": [
    "# anomaly_score_de, sequences_de = model.anomaly_score(x_de, 'Renyi', 0.1, temperature=1)\n",
    "\n",
    "# anomaly_score_fr, sequences_fr = model.anomaly_score(x_fr, 'Renyi', 0.1, temperature=1)\n",
    "\n",
    "# anomaly_score_nld, sequences_nld = model.anomaly_score(x_nld, 'Renyi', 0.1, temperature=1)"
   ]
  },
  {
   "cell_type": "code",
   "execution_count": 18,
   "metadata": {},
   "outputs": [],
   "source": [
    "# anomaly_score_de"
   ]
  },
  {
   "cell_type": "code",
   "execution_count": 19,
   "metadata": {},
   "outputs": [],
   "source": [
    "# anomaly_score_fr"
   ]
  },
  {
   "cell_type": "code",
   "execution_count": 20,
   "metadata": {},
   "outputs": [],
   "source": [
    "# anomaly_score_nld"
   ]
  },
  {
   "cell_type": "code",
   "execution_count": 21,
   "metadata": {},
   "outputs": [],
   "source": [
    "# print(torch.mean(anomaly_score_de))\n",
    "# print(torch.std(anomaly_score_de))\n"
   ]
  },
  {
   "cell_type": "code",
   "execution_count": 22,
   "metadata": {},
   "outputs": [],
   "source": [
    "# print(torch.mean(anomaly_score_fr))\n",
    "# print(torch.std(anomaly_score_fr))"
   ]
  },
  {
   "cell_type": "code",
   "execution_count": 23,
   "metadata": {},
   "outputs": [],
   "source": [
    "# print(torch.mean(anomaly_score_nld))\n",
    "# print(torch.std(anomaly_score_nld))\n"
   ]
  },
  {
   "cell_type": "code",
   "execution_count": 24,
   "metadata": {},
   "outputs": [],
   "source": [
    "# tokenizer.batch_decode(generated_ids.sequences, skip_special_tokens=True)"
   ]
  },
  {
   "cell_type": "code",
   "execution_count": 25,
   "metadata": {
    "tags": []
   },
   "outputs": [],
   "source": [
    "# x = tokenizer(data_nld[0][\"targetString\"], return_tensors=\"pt\")\n",
    "\n",
    "# generated_ids = model.generate(**x)\n",
    "# tokenizer.batch_decode(generated_ids, skip_special_tokens=True)"
   ]
  }
 ],
 "metadata": {
  "kernelspec": {
   "display_name": "Python 3 (ipykernel)",
   "language": "python",
   "name": "python3"
  },
  "language_info": {
   "codemirror_mode": {
    "name": "ipython",
    "version": 3
   },
   "file_extension": ".py",
   "mimetype": "text/x-python",
   "name": "python",
   "nbconvert_exporter": "python",
   "pygments_lexer": "ipython3",
   "version": "3.8.10"
  },
  "vscode": {
   "interpreter": {
    "hash": "d4d1e4263499bec80672ea0156c357c1ee493ec2b1c70f0acce89fc37c4a6abe"
   }
  }
 },
 "nbformat": 4,
 "nbformat_minor": 4
}
