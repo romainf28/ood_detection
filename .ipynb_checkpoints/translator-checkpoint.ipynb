{
 "cells": [
  {
   "cell_type": "code",
   "execution_count": 1,
   "metadata": {
    "tags": []
   },
   "outputs": [
    {
     "name": "stderr",
     "output_type": "stream",
     "text": [
      "/usr/local/lib/python3.8/dist-packages/tqdm/auto.py:22: TqdmWarning: IProgress not found. Please update jupyter and ipywidgets. See https://ipywidgets.readthedocs.io/en/stable/user_install.html\n",
      "  from .autonotebook import tqdm as notebook_tqdm\n",
      "2023-04-06 15:52:13.532954: I tensorflow/core/platform/cpu_feature_guard.cc:193] This TensorFlow binary is optimized with oneAPI Deep Neural Network Library (oneDNN) to use the following CPU instructions in performance-critical operations:  AVX2 FMA\n",
      "To enable them in other operations, rebuild TensorFlow with the appropriate compiler flags.\n",
      "2023-04-06 15:52:14.617761: W tensorflow/compiler/xla/stream_executor/platform/default/dso_loader.cc:64] Could not load dynamic library 'libnvinfer.so.7'; dlerror: libnvinfer.so.7: cannot open shared object file: No such file or directory\n",
      "2023-04-06 15:52:14.617900: W tensorflow/compiler/xla/stream_executor/platform/default/dso_loader.cc:64] Could not load dynamic library 'libnvinfer_plugin.so.7'; dlerror: libnvinfer_plugin.so.7: cannot open shared object file: No such file or directory\n",
      "2023-04-06 15:52:14.617927: W tensorflow/compiler/tf2tensorrt/utils/py_utils.cc:38] TF-TRT Warning: Cannot dlopen some TensorRT libraries. If you would like to use Nvidia GPU with TensorRT, please make sure the missing libraries mentioned above are installed properly.\n"
     ]
    },
    {
     "data": {
      "text/plain": [
       "<torch._C.Generator at 0x7f20bca46c50>"
      ]
     },
     "execution_count": 1,
     "metadata": {},
     "output_type": "execute_result"
    }
   ],
   "source": [
    "import torch\n",
    "from transformers import AutoTokenizer\n",
    "import datasets\n",
    "from utils_generator import GenerationModel\n",
    "\n",
    "from torch.utils.data import DataLoader, random_split\n",
    "torch.manual_seed(9)"
   ]
  },
  {
   "cell_type": "code",
   "execution_count": 2,
   "metadata": {
    "tags": []
   },
   "outputs": [],
   "source": [
    "args = {\n",
    "    \"batch_size\":32,\n",
    "    \"num_workers\":0,\n",
    "    \"shuffle\":True,\n",
    "    \"drop_last\":False\n",
    "    }"
   ]
  },
  {
   "cell_type": "code",
   "execution_count": 3,
   "metadata": {
    "tags": []
   },
   "outputs": [
    {
     "name": "stderr",
     "output_type": "stream",
     "text": [
      "/home/funny_shannon/.local/lib/python3.8/site-packages/transformers/models/marian/tokenization_marian.py:194: UserWarning: Recommended: pip install sacremoses.\n",
      "  warnings.warn(\"Recommended: pip install sacremoses.\")\n"
     ]
    },
    {
     "name": "stdout",
     "output_type": "stream",
     "text": [
      "cuda\n"
     ]
    }
   ],
   "source": [
    "tokenizer = AutoTokenizer.from_pretrained(\"Helsinki-NLP/opus-mt-de-en\")\n",
    "\n",
    "model = GenerationModel(\"Helsinki-NLP/opus-mt-de-en\")"
   ]
  },
  {
   "cell_type": "code",
   "execution_count": 4,
   "metadata": {
    "tags": []
   },
   "outputs": [
    {
     "name": "stderr",
     "output_type": "stream",
     "text": [
      "Found cached dataset tatoeba_mt (/home/funny_shannon/.cache/huggingface/datasets/Helsinki-NLP___tatoeba_mt/deu-eng/0.0.0/01e819f3f64a772a2ca70949061d295d3a2dc99d05183fe4776a3be23f75f619)\n",
      "Found cached dataset tatoeba_mt (/home/funny_shannon/.cache/huggingface/datasets/Helsinki-NLP___tatoeba_mt/eng-fra/0.0.0/01e819f3f64a772a2ca70949061d295d3a2dc99d05183fe4776a3be23f75f619)\n"
     ]
    }
   ],
   "source": [
    "data_de = datasets.load_dataset('Helsinki-NLP/tatoeba_mt','deu-eng',split=datasets.Split.TEST, \n",
    "                                verification_mode= datasets.VerificationMode.NO_CHECKS)\n",
    "data_de_train, data_de_test = random_split(data_de, [0.7, 0.3])\n",
    "\n",
    "data_fr = datasets.load_dataset('Helsinki-NLP/tatoeba_mt','eng-fra', split=datasets.Split.TEST, \n",
    "                                verification_mode= datasets.VerificationMode.NO_CHECKS)\\\n",
    "                                    .rename_columns({'sourceLang': 'targetlang', 'targetlang': 'sourceLang', \n",
    "                                                     'sourceString': 'targetString', 'targetString': 'sourceString'})\n",
    "data_fr_train, data_fr_test = random_split(data_fr, [0.7, 0.3])\n",
    "\n",
    "# data_nld = datasets.load_dataset('Helsinki-NLP/tatoeba_mt','eng-nld',split=datasets.Split.TEST,\n",
    "#                                   verification_mode= datasets.VerificationMode.NO_CHECKS)\\\n",
    "#                                     .rename_columns({'sourceLang': 'targetlang', 'targetlang': 'sourceLang', \n",
    "#                                                      'sourceString': 'targetString', 'targetString': 'sourceString'})"
   ]
  },
  {
   "cell_type": "code",
   "execution_count": 5,
   "metadata": {
    "tags": []
   },
   "outputs": [
    {
     "data": {
      "text/plain": [
       "{'sourceLang': 'deu',\n",
       " 'targetlang': 'eng',\n",
       " 'sourceString': 'Schach ist schwer.',\n",
       " 'targetString': 'Chess is difficult.'}"
      ]
     },
     "execution_count": 5,
     "metadata": {},
     "output_type": "execute_result"
    }
   ],
   "source": [
    "data_de_test[0]"
   ]
  },
  {
   "cell_type": "code",
   "execution_count": 6,
   "metadata": {
    "tags": []
   },
   "outputs": [],
   "source": [
    "loader_de_train = DataLoader(data_de_train, batch_size=args['batch_size'], num_workers=args['num_workers'], \n",
    "                       shuffle=args['shuffle'], drop_last=args['drop_last'])\n",
    "\n",
    "loader_de_test = DataLoader(data_de_test, batch_size=args['batch_size'], num_workers=args['num_workers'], \n",
    "                       shuffle=args['shuffle'], drop_last=args['drop_last'])\n",
    "\n",
    "loader_fr_train = DataLoader(data_fr_train, batch_size=args['batch_size'], num_workers=args['num_workers'], \n",
    "                       shuffle=args['shuffle'], drop_last=args['drop_last'])\n",
    "\n",
    "loader_fr_test = DataLoader(data_fr_test, batch_size=args['batch_size'], num_workers=args['num_workers'], \n",
    "                       shuffle=args['shuffle'], drop_last=args['drop_last'])\n",
    "\n",
    "# loader_nld = DataLoader(data_nld, batch_size=args['batch_size'], num_workers=args['num_workers'], \n",
    "#                        shuffle=args['shuffle'], drop_last=args['drop_last'])"
   ]
  },
  {
   "cell_type": "code",
   "execution_count": 7,
   "metadata": {
    "tags": []
   },
   "outputs": [],
   "source": [
    "x_de_train = tokenizer(next(iter(loader_de_train))[\"sourceString\"], return_tensors=\"pt\", padding=True)\n",
    "x_de_test = tokenizer(next(iter(loader_de_test))[\"sourceString\"], return_tensors=\"pt\", padding=True)\n",
    "\n",
    "\n",
    "x_fr_train = tokenizer(next(iter(loader_fr_train))[\"sourceString\"], return_tensors=\"pt\", padding=True)\n",
    "# x_fr_test = tokenizer(next(iter(loader_fr_test))[\"sourceString\"], return_tensors=\"pt\", padding=True)\n",
    "\n",
    "# x_nld = tokenizer(next(iter(loader_nld))[\"sourceString\"], return_tensors=\"pt\", padding=True)"
   ]
  },
  {
   "cell_type": "code",
   "execution_count": 8,
   "metadata": {
    "tags": []
   },
   "outputs": [
    {
     "name": "stderr",
     "output_type": "stream",
     "text": [
      "Generate bag of distribution:   0%|          | 0/385 [00:00<?, ?it/s]/home/funny_shannon/.local/lib/python3.8/site-packages/transformers/generation/utils.py:1273: UserWarning: Neither `max_length` nor `max_new_tokens` has been set, `max_length` will default to 512 (`generation_config.max_length`). Controlling `max_length` via the config is deprecated and `max_length` will be removed from the config in v5 of Transformers -- we recommend using `max_new_tokens` to control the maximum length of the generation.\n",
      "  warnings.warn(\n",
      "Generate bag of distribution: 100%|██████████| 385/385 [01:31<00:00,  4.21it/s]\n"
     ]
    }
   ],
   "source": [
    "model.generate_bag(loader_de_train)"
   ]
  },
  {
   "cell_type": "code",
   "execution_count": 9,
   "metadata": {
    "tags": []
   },
   "outputs": [
    {
     "name": "stderr",
     "output_type": "stream",
     "text": [
      "Computing divergence: 100%|██████████| 192/192 [00:00<00:00, 218.41it/s] \n"
     ]
    }
   ],
   "source": [
    "anomaly, _= model.anomaly_score(x_de_test, 'Renyi', \"s1\", 0.1, temperature=1)"
   ]
  },
  {
   "cell_type": "code",
   "execution_count": 10,
   "metadata": {
    "tags": []
   },
   "outputs": [
    {
     "data": {
      "text/plain": [
       "tensor([0.1053, 0.1022, 0.0976, 0.1173, 0.0643, 0.0612, 0.0003, 0.0472, 0.0555,\n",
       "        0.0680, 0.0359, 0.0452, 0.0297, 0.0536, 0.0411, 0.0514, 0.0775, 0.0550,\n",
       "        0.0027, 0.0399, 0.0037, 0.0031, 0.0526, 0.0957, 0.0288, 0.0626, 0.0127,\n",
       "        0.0381, 0.0004, 0.0034, 0.2150, 0.0292], device='cuda:0')"
      ]
     },
     "execution_count": 10,
     "metadata": {},
     "output_type": "execute_result"
    }
   ],
   "source": [
    "anomaly"
   ]
  },
  {
   "cell_type": "code",
   "execution_count": 11,
   "metadata": {
    "tags": []
   },
   "outputs": [
    {
     "name": "stderr",
     "output_type": "stream",
     "text": [
      "Computing divergence: 100%|██████████| 192/192 [00:00<00:00, 218.21it/s] \n"
     ]
    }
   ],
   "source": [
    "anomaly_fr, _= model.anomaly_score(x_fr_train, 'Renyi', \"s1\", 0.1, temperature=1)"
   ]
  },
  {
   "cell_type": "code",
   "execution_count": 12,
   "metadata": {
    "tags": []
   },
   "outputs": [
    {
     "name": "stderr",
     "output_type": "stream",
     "text": [
      "Computing anomaly score for each data:   0%|          | 0/119 [00:00<?, ?it/s]\n",
      "Computing divergence:   0%|          | 0/192 [00:00<?, ?it/s]\u001b[A\n",
      "Computing divergence: 100%|██████████| 192/192 [00:00<00:00, 218.17it/s] \u001b[A\n",
      "Computing anomaly score for each data:   1%|          | 1/119 [00:03<05:54,  3.00s/it]"
     ]
    },
    {
     "name": "stdout",
     "output_type": "stream",
     "text": [
      "torch.Size([32])\n"
     ]
    },
    {
     "name": "stderr",
     "output_type": "stream",
     "text": [
      "\n",
      "Computing divergence:   0%|          | 0/192 [00:00<?, ?it/s]\u001b[A\n",
      "Computing divergence: 100%|██████████| 192/192 [00:00<00:00, 218.25it/s] \u001b[A\n",
      "Computing anomaly score for each data:   2%|▏         | 2/119 [00:05<05:13,  2.68s/it]"
     ]
    },
    {
     "name": "stdout",
     "output_type": "stream",
     "text": [
      "torch.Size([32])\n"
     ]
    },
    {
     "name": "stderr",
     "output_type": "stream",
     "text": [
      "\n",
      "Computing divergence:   0%|          | 0/192 [00:00<?, ?it/s]\u001b[A\n",
      "Computing divergence: 100%|██████████| 192/192 [00:00<00:00, 218.24it/s] \u001b[A\n",
      "Computing anomaly score for each data:   3%|▎         | 3/119 [00:07<04:56,  2.55s/it]"
     ]
    },
    {
     "name": "stdout",
     "output_type": "stream",
     "text": [
      "torch.Size([32])\n"
     ]
    },
    {
     "name": "stderr",
     "output_type": "stream",
     "text": [
      "\n",
      "Computing divergence:   0%|          | 0/192 [00:00<?, ?it/s]\u001b[A\n",
      "Computing divergence: 100%|██████████| 192/192 [00:00<00:00, 218.15it/s] \u001b[A\n",
      "Computing anomaly score for each data:   3%|▎         | 4/119 [00:10<05:10,  2.70s/it]"
     ]
    },
    {
     "name": "stdout",
     "output_type": "stream",
     "text": [
      "torch.Size([32])\n"
     ]
    },
    {
     "name": "stderr",
     "output_type": "stream",
     "text": [
      "\n",
      "Computing divergence:   0%|          | 0/192 [00:00<?, ?it/s]\u001b[A\n",
      "Computing divergence: 100%|██████████| 192/192 [00:00<00:00, 218.05it/s] \u001b[A\n",
      "Computing anomaly score for each data:   4%|▍         | 5/119 [00:13<04:56,  2.60s/it]"
     ]
    },
    {
     "name": "stdout",
     "output_type": "stream",
     "text": [
      "torch.Size([32])\n"
     ]
    },
    {
     "name": "stderr",
     "output_type": "stream",
     "text": [
      "\n",
      "Computing divergence:   0%|          | 0/192 [00:00<?, ?it/s]\u001b[A\n",
      "Computing divergence: 100%|██████████| 192/192 [00:00<00:00, 218.06it/s] \u001b[A\n",
      "Computing anomaly score for each data:   5%|▌         | 6/119 [00:15<04:47,  2.55s/it]"
     ]
    },
    {
     "name": "stdout",
     "output_type": "stream",
     "text": [
      "torch.Size([32])\n"
     ]
    },
    {
     "name": "stderr",
     "output_type": "stream",
     "text": [
      "\n",
      "Computing divergence:   0%|          | 0/192 [00:00<?, ?it/s]\u001b[A\n",
      "Computing divergence: 100%|██████████| 192/192 [00:00<00:00, 218.08it/s] \u001b[A\n",
      "Computing anomaly score for each data:   6%|▌         | 7/119 [00:18<04:41,  2.51s/it]"
     ]
    },
    {
     "name": "stdout",
     "output_type": "stream",
     "text": [
      "torch.Size([32])\n"
     ]
    },
    {
     "name": "stderr",
     "output_type": "stream",
     "text": [
      "\n",
      "Computing divergence:   0%|          | 0/192 [00:00<?, ?it/s]\u001b[A\n",
      "Computing divergence: 100%|██████████| 192/192 [00:00<00:00, 218.04it/s] \u001b[A\n",
      "Computing anomaly score for each data:   7%|▋         | 8/119 [00:20<04:46,  2.59s/it]"
     ]
    },
    {
     "name": "stdout",
     "output_type": "stream",
     "text": [
      "torch.Size([32])\n"
     ]
    },
    {
     "name": "stderr",
     "output_type": "stream",
     "text": [
      "\n",
      "Computing divergence:   0%|          | 0/192 [00:00<?, ?it/s]\u001b[A\n",
      "Computing divergence: 100%|██████████| 192/192 [00:00<00:00, 217.92it/s] \u001b[A\n",
      "Computing anomaly score for each data:   8%|▊         | 9/119 [00:23<04:50,  2.64s/it]"
     ]
    },
    {
     "name": "stdout",
     "output_type": "stream",
     "text": [
      "torch.Size([32])\n"
     ]
    },
    {
     "name": "stderr",
     "output_type": "stream",
     "text": [
      "\n",
      "Computing divergence:   0%|          | 0/192 [00:00<?, ?it/s]\u001b[A\n",
      "Computing divergence: 100%|██████████| 192/192 [00:00<00:00, 218.13it/s] \u001b[A\n",
      "Computing anomaly score for each data:   8%|▊         | 10/119 [00:26<04:49,  2.66s/it]"
     ]
    },
    {
     "name": "stdout",
     "output_type": "stream",
     "text": [
      "torch.Size([32])\n"
     ]
    },
    {
     "name": "stderr",
     "output_type": "stream",
     "text": [
      "\n",
      "Computing divergence:   0%|          | 0/192 [00:00<?, ?it/s]\u001b[A\n",
      "Computing divergence: 100%|██████████| 192/192 [00:00<00:00, 217.81it/s] \u001b[A\n",
      "Computing anomaly score for each data:   9%|▉         | 11/119 [00:28<04:40,  2.59s/it]"
     ]
    },
    {
     "name": "stdout",
     "output_type": "stream",
     "text": [
      "torch.Size([32])\n"
     ]
    },
    {
     "name": "stderr",
     "output_type": "stream",
     "text": [
      "Computing anomaly score for each data:   9%|▉         | 11/119 [00:34<05:35,  3.10s/it]\n"
     ]
    },
    {
     "ename": "OutOfMemoryError",
     "evalue": "CUDA out of memory. Tried to allocate 3.54 GiB (GPU 0; 10.91 GiB total capacity; 6.50 GiB already allocated; 2.53 GiB free; 7.65 GiB reserved in total by PyTorch) If reserved memory is >> allocated memory try setting max_split_size_mb to avoid fragmentation.  See documentation for Memory Management and PYTORCH_CUDA_ALLOC_CONF",
     "output_type": "error",
     "traceback": [
      "\u001b[0;31m---------------------------------------------------------------------------\u001b[0m",
      "\u001b[0;31mOutOfMemoryError\u001b[0m                          Traceback (most recent call last)",
      "Cell \u001b[0;32mIn[12], line 1\u001b[0m\n\u001b[0;32m----> 1\u001b[0m threshold \u001b[38;5;241m=\u001b[39m \u001b[43mmodel\u001b[49m\u001b[38;5;241;43m.\u001b[39;49m\u001b[43mdefine_threshold\u001b[49m\u001b[43m(\u001b[49m\u001b[43mloader_fr_test\u001b[49m\u001b[43m,\u001b[49m\u001b[43m \u001b[49m\u001b[38;5;241;43m0.95\u001b[39;49m\u001b[43m,\u001b[49m\u001b[43m \u001b[49m\u001b[38;5;124;43m'\u001b[39;49m\u001b[38;5;124;43mRenyi\u001b[39;49m\u001b[38;5;124;43m'\u001b[39;49m\u001b[43m,\u001b[49m\u001b[43m \u001b[49m\u001b[38;5;124;43m\"\u001b[39;49m\u001b[38;5;124;43ms1\u001b[39;49m\u001b[38;5;124;43m\"\u001b[39;49m\u001b[43m,\u001b[49m\u001b[43m \u001b[49m\u001b[38;5;241;43m0.1\u001b[39;49m\u001b[43m,\u001b[49m\u001b[43m \u001b[49m\u001b[43mtemperature\u001b[49m\u001b[38;5;241;43m=\u001b[39;49m\u001b[38;5;241;43m1\u001b[39;49m\u001b[43m)\u001b[49m\n",
      "File \u001b[0;32m~/workdir/ood_detection/utils_generator.py:107\u001b[0m, in \u001b[0;36mGenerationModel.define_threshold\u001b[0;34m(self, data_loader, r, divergence, scenario, alpha, temperature)\u001b[0m\n\u001b[1;32m    103\u001b[0m \u001b[38;5;28;01mfor\u001b[39;00m _, batch \u001b[38;5;129;01min\u001b[39;00m tqdm(\u001b[38;5;28menumerate\u001b[39m(data_loader), desc\u001b[38;5;241m=\u001b[39m\u001b[38;5;124m\"\u001b[39m\u001b[38;5;124mComputing anomaly score for each data\u001b[39m\u001b[38;5;124m\"\u001b[39m, \n\u001b[1;32m    104\u001b[0m                      total\u001b[38;5;241m=\u001b[39mdata_loader\u001b[38;5;241m.\u001b[39m\u001b[38;5;21m__len__\u001b[39m()):\n\u001b[1;32m    105\u001b[0m     x \u001b[38;5;241m=\u001b[39m \u001b[38;5;28mself\u001b[39m\u001b[38;5;241m.\u001b[39mtokenizer(batch[\u001b[38;5;124m\"\u001b[39m\u001b[38;5;124msourceString\u001b[39m\u001b[38;5;124m\"\u001b[39m], return_tensors\u001b[38;5;241m=\u001b[39m\u001b[38;5;124m\"\u001b[39m\u001b[38;5;124mpt\u001b[39m\u001b[38;5;124m\"\u001b[39m, \n\u001b[1;32m    106\u001b[0m                        padding\u001b[38;5;241m=\u001b[39m\u001b[38;5;28;01mTrue\u001b[39;00m)\u001b[38;5;241m.\u001b[39mto(\u001b[38;5;28mself\u001b[39m\u001b[38;5;241m.\u001b[39mdevice)\n\u001b[0;32m--> 107\u001b[0m     anomaly, _ \u001b[38;5;241m=\u001b[39m \u001b[38;5;28;43mself\u001b[39;49m\u001b[38;5;241;43m.\u001b[39;49m\u001b[43manomaly_score\u001b[49m\u001b[43m(\u001b[49m\u001b[43mx\u001b[49m\u001b[43m,\u001b[49m\u001b[43m \u001b[49m\u001b[43mdivergence\u001b[49m\u001b[43m,\u001b[49m\u001b[43m \u001b[49m\u001b[43mscenario\u001b[49m\u001b[43m,\u001b[49m\u001b[43m \u001b[49m\u001b[43malpha\u001b[49m\u001b[43m,\u001b[49m\u001b[43m \u001b[49m\u001b[43mtemperature\u001b[49m\u001b[43m)\u001b[49m\n\u001b[1;32m    108\u001b[0m     \u001b[38;5;28;01mdel\u001b[39;00m x\n\u001b[1;32m    109\u001b[0m     \u001b[38;5;28mprint\u001b[39m(anomaly\u001b[38;5;241m.\u001b[39mshape)\n",
      "File \u001b[0;32m~/workdir/ood_detection/utils_generator.py:53\u001b[0m, in \u001b[0;36mGenerationModel.anomaly_score\u001b[0;34m(self, x, divergence, scenario, alpha, temperature)\u001b[0m\n\u001b[1;32m     51\u001b[0m \u001b[38;5;28;01mdef\u001b[39;00m \u001b[38;5;21manomaly_score\u001b[39m(\u001b[38;5;28mself\u001b[39m,x:tokenization_utils_base\u001b[38;5;241m.\u001b[39mBatchEncoding, divergence:Literal[\u001b[38;5;124m\"\u001b[39m\u001b[38;5;124mRenyi\u001b[39m\u001b[38;5;124m\"\u001b[39m, \u001b[38;5;124m\"\u001b[39m\u001b[38;5;124mFR\u001b[39m\u001b[38;5;124m\"\u001b[39m], \n\u001b[1;32m     52\u001b[0m                   scenario:Literal[\u001b[38;5;124m\"\u001b[39m\u001b[38;5;124ms0\u001b[39m\u001b[38;5;124m\"\u001b[39m, \u001b[38;5;124m\"\u001b[39m\u001b[38;5;124ms1\u001b[39m\u001b[38;5;124m\"\u001b[39m], alpha:Optional[\u001b[38;5;28mfloat\u001b[39m], temperature:\u001b[38;5;28mfloat\u001b[39m\u001b[38;5;241m=\u001b[39m\u001b[38;5;241m1\u001b[39m):\n\u001b[0;32m---> 53\u001b[0m     set_proba, sequences \u001b[38;5;241m=\u001b[39m \u001b[38;5;28;43mself\u001b[39;49m\u001b[38;5;241;43m.\u001b[39;49m\u001b[43mgenerate_set\u001b[49m\u001b[43m(\u001b[49m\u001b[43mx\u001b[49m\u001b[38;5;241;43m.\u001b[39;49m\u001b[43mto\u001b[49m\u001b[43m(\u001b[49m\u001b[38;5;28;43mself\u001b[39;49m\u001b[38;5;241;43m.\u001b[39;49m\u001b[43mdevice\u001b[49m\u001b[43m)\u001b[49m\u001b[43m,\u001b[49m\u001b[43m \u001b[49m\u001b[43mtemperature\u001b[49m\u001b[38;5;241;43m=\u001b[39;49m\u001b[43mtemperature\u001b[49m\u001b[43m)\u001b[49m\n\u001b[1;32m     55\u001b[0m     \u001b[38;5;28;01mif\u001b[39;00m scenario\u001b[38;5;241m==\u001b[39m\u001b[38;5;124m\"\u001b[39m\u001b[38;5;124ms0\u001b[39m\u001b[38;5;124m\"\u001b[39m:\n\u001b[1;32m     56\u001b[0m         proba \u001b[38;5;241m=\u001b[39m torch\u001b[38;5;241m.\u001b[39mones(set_proba\u001b[38;5;241m.\u001b[39mshape)\u001b[38;5;241m/\u001b[39m\u001b[38;5;28mself\u001b[39m\u001b[38;5;241m.\u001b[39mvocab_size\n",
      "File \u001b[0;32m~/workdir/ood_detection/utils_generator.py:48\u001b[0m, in \u001b[0;36mGenerationModel.generate_set\u001b[0;34m(self, x, temperature)\u001b[0m\n\u001b[1;32m     45\u001b[0m \u001b[38;5;28;01mdef\u001b[39;00m \u001b[38;5;21mgenerate_set\u001b[39m(\u001b[38;5;28mself\u001b[39m, x:tokenization_utils_base\u001b[38;5;241m.\u001b[39mBatchEncoding, temperature:\u001b[38;5;28mfloat\u001b[39m\u001b[38;5;241m=\u001b[39m\u001b[38;5;241m1\u001b[39m):\n\u001b[1;32m     46\u001b[0m     outputs \u001b[38;5;241m=\u001b[39m \u001b[38;5;28mself\u001b[39m\u001b[38;5;241m.\u001b[39mmodel\u001b[38;5;241m.\u001b[39mgenerate(\u001b[38;5;241m*\u001b[39m\u001b[38;5;241m*\u001b[39mx\u001b[38;5;241m.\u001b[39mto(\u001b[38;5;28mself\u001b[39m\u001b[38;5;241m.\u001b[39mdevice), return_dict_in_generate\u001b[38;5;241m=\u001b[39m\u001b[38;5;28;01mTrue\u001b[39;00m,\n\u001b[1;32m     47\u001b[0m                                   output_scores\u001b[38;5;241m=\u001b[39m\u001b[38;5;28;01mTrue\u001b[39;00m, num_beams\u001b[38;5;241m=\u001b[39m\u001b[38;5;241m1\u001b[39m)\n\u001b[0;32m---> 48\u001b[0m     output_scores \u001b[38;5;241m=\u001b[39m \u001b[43mtorch\u001b[49m\u001b[38;5;241;43m.\u001b[39;49m\u001b[43mstack\u001b[49m\u001b[43m(\u001b[49m\u001b[38;5;28;43mlist\u001b[39;49m\u001b[43m(\u001b[49m\u001b[43moutputs\u001b[49m\u001b[38;5;241;43m.\u001b[39;49m\u001b[43mscores\u001b[49m\u001b[43m)\u001b[49m\u001b[43m,\u001b[49m\u001b[43m \u001b[49m\u001b[43mdim\u001b[49m\u001b[38;5;241;43m=\u001b[39;49m\u001b[38;5;241;43m0\u001b[39;49m\u001b[43m)\u001b[49m\u001b[38;5;241m.\u001b[39mpermute(\u001b[38;5;241m1\u001b[39m,\u001b[38;5;241m0\u001b[39m,\u001b[38;5;241m2\u001b[39m)\n\u001b[1;32m     49\u001b[0m     \u001b[38;5;28;01mreturn\u001b[39;00m \u001b[38;5;28mself\u001b[39m\u001b[38;5;241m.\u001b[39msoftmax(output_scores\u001b[38;5;241m/\u001b[39mtemperature)\u001b[38;5;241m.\u001b[39mto(\u001b[38;5;28mself\u001b[39m\u001b[38;5;241m.\u001b[39mdevice), outputs\u001b[38;5;241m.\u001b[39msequences\n",
      "\u001b[0;31mOutOfMemoryError\u001b[0m: CUDA out of memory. Tried to allocate 3.54 GiB (GPU 0; 10.91 GiB total capacity; 6.50 GiB already allocated; 2.53 GiB free; 7.65 GiB reserved in total by PyTorch) If reserved memory is >> allocated memory try setting max_split_size_mb to avoid fragmentation.  See documentation for Memory Management and PYTORCH_CUDA_ALLOC_CONF"
     ]
    }
   ],
   "source": [
    "threshold = model.define_threshold(loader_fr_test, 0.95, 'Renyi', \"s1\", 0.1, temperature=1)"
   ]
  },
  {
   "cell_type": "code",
   "execution_count": 9,
   "metadata": {
    "tags": []
   },
   "outputs": [
    {
     "data": {
      "text/plain": [
       "tensor(0.2076, device='cuda:0')"
      ]
     },
     "execution_count": 9,
     "metadata": {},
     "output_type": "execute_result"
    }
   ],
   "source": [
    "threshold"
   ]
  },
  {
   "cell_type": "code",
   "execution_count": 10,
   "metadata": {
    "tags": []
   },
   "outputs": [
    {
     "data": {
      "text/plain": [
       "tensor([True, True, True, True, True, True, True, True, True, True, True, True,\n",
       "        True, True, True, True], device='cuda:0')"
      ]
     },
     "execution_count": 10,
     "metadata": {},
     "output_type": "execute_result"
    }
   ],
   "source": [
    "model.classify(x_de_train, threshold, 'Renyi', \"s0\", 0.1, temperature=1)"
   ]
  },
  {
   "cell_type": "code",
   "execution_count": 27,
   "metadata": {
    "tags": []
   },
   "outputs": [
    {
     "data": {
      "text/plain": [
       "tensor([ True,  True,  True,  True,  True,  True,  True,  True,  True,  True,\n",
       "         True, False,  True,  True,  True,  True], device='cuda:0')"
      ]
     },
     "execution_count": 27,
     "metadata": {},
     "output_type": "execute_result"
    }
   ],
   "source": [
    "model.classify(x_fr_train, threshold, 'Renyi', \"s0\", 0.1, temperature=1)"
   ]
  },
  {
   "cell_type": "code",
   "execution_count": 11,
   "metadata": {
    "tags": []
   },
   "outputs": [],
   "source": [
    "anomaly, _ = model.anomaly_score(x_de_train, 'Renyi', \"s0\", 0.1, temperature=1)"
   ]
  },
  {
   "cell_type": "code",
   "execution_count": 12,
   "metadata": {
    "tags": []
   },
   "outputs": [
    {
     "data": {
      "text/plain": [
       "tensor([0.2623, 0.2500, 0.2557, 0.2670, 0.2444, 0.2570, 0.2797, 0.3035, 0.2568,\n",
       "        0.2556, 0.2404, 0.2580, 0.3005, 0.2573, 0.2630, 0.2653],\n",
       "       device='cuda:0')"
      ]
     },
     "execution_count": 12,
     "metadata": {},
     "output_type": "execute_result"
    }
   ],
   "source": [
    "anomaly"
   ]
  },
  {
   "cell_type": "code",
   "execution_count": 13,
   "metadata": {
    "tags": []
   },
   "outputs": [],
   "source": [
    "#out = model.model.generate(**x_de, return_dict_in_generate=True,output_scores=True, num_beams=1)"
   ]
  },
  {
   "cell_type": "code",
   "execution_count": 14,
   "metadata": {
    "tags": []
   },
   "outputs": [],
   "source": [
    "#out.scores[0].shape"
   ]
  },
  {
   "cell_type": "code",
   "execution_count": 15,
   "metadata": {
    "tags": []
   },
   "outputs": [],
   "source": [
    "#torch.stack(list(out.scores), dim=0).permute(1,0,2)"
   ]
  },
  {
   "cell_type": "code",
   "execution_count": 16,
   "metadata": {},
   "outputs": [],
   "source": [
    "#model.softmax(torch.stack(list(out.scores), dim=0).permute(1,0,2))"
   ]
  },
  {
   "cell_type": "code",
   "execution_count": 17,
   "metadata": {},
   "outputs": [],
   "source": [
    "# anomaly_score_de, sequences_de = model.anomaly_score(x_de, 'Renyi', 0.1, temperature=1)\n",
    "\n",
    "# anomaly_score_fr, sequences_fr = model.anomaly_score(x_fr, 'Renyi', 0.1, temperature=1)\n",
    "\n",
    "# anomaly_score_nld, sequences_nld = model.anomaly_score(x_nld, 'Renyi', 0.1, temperature=1)"
   ]
  },
  {
   "cell_type": "code",
   "execution_count": 18,
   "metadata": {},
   "outputs": [],
   "source": [
    "# anomaly_score_de"
   ]
  },
  {
   "cell_type": "code",
   "execution_count": 19,
   "metadata": {},
   "outputs": [],
   "source": [
    "# anomaly_score_fr"
   ]
  },
  {
   "cell_type": "code",
   "execution_count": 20,
   "metadata": {},
   "outputs": [],
   "source": [
    "# anomaly_score_nld"
   ]
  },
  {
   "cell_type": "code",
   "execution_count": 21,
   "metadata": {},
   "outputs": [],
   "source": [
    "# print(torch.mean(anomaly_score_de))\n",
    "# print(torch.std(anomaly_score_de))\n"
   ]
  },
  {
   "cell_type": "code",
   "execution_count": 22,
   "metadata": {},
   "outputs": [],
   "source": [
    "# print(torch.mean(anomaly_score_fr))\n",
    "# print(torch.std(anomaly_score_fr))"
   ]
  },
  {
   "cell_type": "code",
   "execution_count": 23,
   "metadata": {},
   "outputs": [],
   "source": [
    "# print(torch.mean(anomaly_score_nld))\n",
    "# print(torch.std(anomaly_score_nld))\n"
   ]
  },
  {
   "cell_type": "code",
   "execution_count": 24,
   "metadata": {},
   "outputs": [],
   "source": [
    "# tokenizer.batch_decode(generated_ids.sequences, skip_special_tokens=True)"
   ]
  },
  {
   "cell_type": "code",
   "execution_count": 25,
   "metadata": {
    "tags": []
   },
   "outputs": [],
   "source": [
    "# x = tokenizer(data_nld[0][\"targetString\"], return_tensors=\"pt\")\n",
    "\n",
    "# generated_ids = model.generate(**x)\n",
    "# tokenizer.batch_decode(generated_ids, skip_special_tokens=True)"
   ]
  }
 ],
 "metadata": {
  "kernelspec": {
   "display_name": "Python 3 (ipykernel)",
   "language": "python",
   "name": "python3"
  },
  "language_info": {
   "codemirror_mode": {
    "name": "ipython",
    "version": 3
   },
   "file_extension": ".py",
   "mimetype": "text/x-python",
   "name": "python",
   "nbconvert_exporter": "python",
   "pygments_lexer": "ipython3",
   "version": "3.8.10"
  },
  "vscode": {
   "interpreter": {
    "hash": "d4d1e4263499bec80672ea0156c357c1ee493ec2b1c70f0acce89fc37c4a6abe"
   }
  }
 },
 "nbformat": 4,
 "nbformat_minor": 4
}
