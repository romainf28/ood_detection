{
 "cells": [
  {
   "cell_type": "markdown",
   "metadata": {},
   "source": [
    "# OOD Detection for Machine Translation from German to English"
   ]
  },
  {
   "cell_type": "code",
   "execution_count": 1,
   "metadata": {
    "tags": []
   },
   "outputs": [
    {
     "name": "stderr",
     "output_type": "stream",
     "text": [
      "/usr/local/lib/python3.8/dist-packages/tqdm/auto.py:22: TqdmWarning: IProgress not found. Please update jupyter and ipywidgets. See https://ipywidgets.readthedocs.io/en/stable/user_install.html\n",
      "  from .autonotebook import tqdm as notebook_tqdm\n",
      "2023-04-18 13:09:22.728109: I tensorflow/core/platform/cpu_feature_guard.cc:193] This TensorFlow binary is optimized with oneAPI Deep Neural Network Library (oneDNN) to use the following CPU instructions in performance-critical operations:  AVX2 AVX512F FMA\n",
      "To enable them in other operations, rebuild TensorFlow with the appropriate compiler flags.\n",
      "2023-04-18 13:09:23.648763: W tensorflow/compiler/xla/stream_executor/platform/default/dso_loader.cc:64] Could not load dynamic library 'libnvinfer.so.7'; dlerror: libnvinfer.so.7: cannot open shared object file: No such file or directory\n",
      "2023-04-18 13:09:23.648861: W tensorflow/compiler/xla/stream_executor/platform/default/dso_loader.cc:64] Could not load dynamic library 'libnvinfer_plugin.so.7'; dlerror: libnvinfer_plugin.so.7: cannot open shared object file: No such file or directory\n",
      "2023-04-18 13:09:23.648872: W tensorflow/compiler/tf2tensorrt/utils/py_utils.cc:38] TF-TRT Warning: Cannot dlopen some TensorRT libraries. If you would like to use Nvidia GPU with TensorRT, please make sure the missing libraries mentioned above are installed properly.\n",
      "Matplotlib created a temporary config/cache directory at /tmp/matplotlib-maoznk1r because the default path (/home/funny_shannon/.config/matplotlib) is not a writable directory; it is highly recommended to set the MPLCONFIGDIR environment variable to a writable directory, in particular to speed up the import of Matplotlib and to better support multiprocessing.\n"
     ]
    },
    {
     "data": {
      "text/plain": [
       "<torch._C.Generator at 0x7fd624518cf0>"
      ]
     },
     "execution_count": 1,
     "metadata": {},
     "output_type": "execute_result"
    }
   ],
   "source": [
    "import torch\n",
    "from transformers import AutoTokenizer\n",
    "import datasets\n",
    "from utils_generator import GenerationModel, auroc, define_threshold, show_gaphs\n",
    "\n",
    "import matplotlib.pyplot as plt\n",
    "from torch.utils.data import DataLoader, random_split\n",
    "torch.manual_seed(9)"
   ]
  },
  {
   "cell_type": "code",
   "execution_count": 2,
   "metadata": {
    "tags": []
   },
   "outputs": [],
   "source": [
    "args = {\n",
    "    \"batch_size\":16,\n",
    "    \"num_workers\":0,\n",
    "    \"shuffle\":True,\n",
    "    \"drop_last\":False,\n",
    "    \"scenario\":\"s0\",\n",
    "    \"divergence\":\"Renyi\",\n",
    "    \"alpha\":0.1,\n",
    "    \"temperature\":1,\n",
    "    \"r\":0.95\n",
    "    }"
   ]
  },
  {
   "cell_type": "code",
   "execution_count": 3,
   "metadata": {
    "tags": []
   },
   "outputs": [
    {
     "name": "stderr",
     "output_type": "stream",
     "text": [
      "/home/funny_shannon/.local/lib/python3.8/site-packages/transformers/models/marian/tokenization_marian.py:194: UserWarning: Recommended: pip install sacremoses.\n",
      "  warnings.warn(\"Recommended: pip install sacremoses.\")\n"
     ]
    },
    {
     "name": "stdout",
     "output_type": "stream",
     "text": [
      "cpu\n"
     ]
    },
    {
     "name": "stderr",
     "output_type": "stream",
     "text": [
      "Found cached dataset tatoeba_mt (/home/funny_shannon/.cache/huggingface/datasets/Helsinki-NLP___tatoeba_mt/deu-eng/0.0.0/01e819f3f64a772a2ca70949061d295d3a2dc99d05183fe4776a3be23f75f619)\n"
     ]
    }
   ],
   "source": [
    "tokenizer = AutoTokenizer.from_pretrained(\"Helsinki-NLP/opus-mt-de-en\")\n",
    "\n",
    "model = GenerationModel(\"Helsinki-NLP/opus-mt-de-en\")\n",
    "\n",
    "data_de = datasets.load_dataset('Helsinki-NLP/tatoeba_mt','deu-eng',split=datasets.Split.TEST, \n",
    "                                verification_mode= datasets.VerificationMode.NO_CHECKS)\n",
    "\n",
    "# we use this split to compute the set of bag in second scenario\n",
    "data_de_train, data_de_test = random_split(data_de, [0.7, 0.3]) \n",
    "\n",
    "loader_de_train = DataLoader(data_de_train, batch_size=args['batch_size'], num_workers=args['num_workers'], \n",
    "                       shuffle=args['shuffle'], drop_last=args['drop_last'])\n",
    "\n",
    "loader_de_test = DataLoader(data_de_test, batch_size=args['batch_size'], num_workers=args['num_workers'], \n",
    "                       shuffle=args['shuffle'], drop_last=args['drop_last'])\n",
    "\n"
   ]
  },
  {
   "cell_type": "code",
   "execution_count": 4,
   "metadata": {
    "tags": []
   },
   "outputs": [
    {
     "data": {
      "text/plain": [
       "{'sourceLang': 'deu',\n",
       " 'targetlang': 'eng',\n",
       " 'sourceString': 'Schach ist schwer.',\n",
       " 'targetString': 'Chess is difficult.'}"
      ]
     },
     "execution_count": 4,
     "metadata": {},
     "output_type": "execute_result"
    }
   ],
   "source": [
    "data_de_test[0]"
   ]
  },
  {
   "cell_type": "markdown",
   "metadata": {},
   "source": [
    "## French OOD"
   ]
  },
  {
   "cell_type": "code",
   "execution_count": 5,
   "metadata": {
    "tags": []
   },
   "outputs": [
    {
     "name": "stderr",
     "output_type": "stream",
     "text": [
      "Found cached dataset tatoeba_mt (/home/funny_shannon/.cache/huggingface/datasets/Helsinki-NLP___tatoeba_mt/eng-fra/0.0.0/01e819f3f64a772a2ca70949061d295d3a2dc99d05183fe4776a3be23f75f619)\n"
     ]
    }
   ],
   "source": [
    "data_fr = datasets.load_dataset('Helsinki-NLP/tatoeba_mt','eng-fra', split=datasets.Split.TEST, \n",
    "                                verification_mode= datasets.VerificationMode.NO_CHECKS)\\\n",
    "                                    .rename_columns({'sourceLang': 'targetlang', 'targetlang': 'sourceLang', \n",
    "                                                     'sourceString': 'targetString', 'targetString': 'sourceString'})\n",
    "data_fr_train, data_fr_test = random_split(data_fr, [0.3, 0.7])"
   ]
  },
  {
   "cell_type": "code",
   "execution_count": 6,
   "metadata": {
    "tags": []
   },
   "outputs": [],
   "source": [
    "loader_fr_train = DataLoader(data_fr_train, batch_size=args['batch_size'], num_workers=args['num_workers'], \n",
    "                       shuffle=args['shuffle'], drop_last=args['drop_last'])\n",
    "\n",
    "loader_fr_test = DataLoader(data_fr_test, batch_size=args['batch_size'], num_workers=args['num_workers'], \n",
    "                       shuffle=args['shuffle'], drop_last=args['drop_last'])"
   ]
  },
  {
   "cell_type": "markdown",
   "metadata": {
    "tags": []
   },
   "source": [
    "### Without access to outputs of the in sample"
   ]
  },
  {
   "cell_type": "markdown",
   "metadata": {
    "tags": []
   },
   "source": [
    "#### Rényi"
   ]
  },
  {
   "cell_type": "code",
   "execution_count": 7,
   "metadata": {
    "tags": []
   },
   "outputs": [
    {
     "name": "stderr",
     "output_type": "stream",
     "text": [
      "Computing anomaly score for each data:   0%|          | 0/330 [00:00<?, ?it/s]/home/funny_shannon/.local/lib/python3.8/site-packages/transformers/generation/utils.py:1273: UserWarning: Neither `max_length` nor `max_new_tokens` has been set, `max_length` will default to 512 (`generation_config.max_length`). Controlling `max_length` via the config is deprecated and `max_length` will be removed from the config in v5 of Transformers -- we recommend using `max_new_tokens` to control the maximum length of the generation.\n",
      "  warnings.warn(\n",
      "Computing anomaly score for each data: 100%|██████████| 330/330 [05:45<00:00,  1.05s/it]\n",
      "Computing anomaly score for each data: 100%|██████████| 238/238 [06:58<00:00,  1.76s/it]\n",
      "No artists with labels found to put in legend.  Note that artists whose label start with an underscore are ignored when legend() is called with no argument.\n"
     ]
    },
    {
     "data": {
      "image/png": "[encoded data removed]",
      "text/plain": [
       "<Figure size 640x480 with 1 Axes>"
      ]
     },
     "metadata": {},
     "output_type": "display_data"
    },
    {
     "name": "stdout",
     "output_type": "stream",
     "text": [
      "0.8594335962757016 tensor(0.3201)\n"
     ]
    },
    {
     "data": {
      "image/png": "[encoded data removed]",
      "text/plain": [
       "<Figure size 640x480 with 1 Axes>"
      ]
     },
     "metadata": {},
     "output_type": "display_data"
    }
   ],
   "source": [
    "list_anomaly_in = model.anomaly_score_loader(loader_de_test, \"Renyi\", \"s0\", args[\"alpha\"], args[\"temperature\"])\n",
    "\n",
    "list_anomaly_out = model.anomaly_score_loader(loader_fr_train, \"Renyi\", \"s0\", args[\"alpha\"], args[\"temperature\"])\n",
    "\n",
    "show_gaphs(list_anomaly_in, list_anomaly_out, name = \"FR_Renyi_S0\")"
   ]
  },
  {
   "cell_type": "markdown",
   "metadata": {},
   "source": [
    "#### Fischer-Rao"
   ]
  },
  {
   "cell_type": "code",
   "execution_count": 9,
   "metadata": {
    "tags": []
   },
   "outputs": [
    {
     "name": "stderr",
     "output_type": "stream",
     "text": [
      "Computing anomaly score for each data: 100%|██████████| 330/330 [05:26<00:00,  1.01it/s]\n",
      "Computing anomaly score for each data: 100%|██████████| 238/238 [06:58<00:00,  1.76s/it]\n",
      "No artists with labels found to put in legend.  Note that artists whose label start with an underscore are ignored when legend() is called with no argument.\n"
     ]
    },
    {
     "data": {
      "image/png": "[encoded data removed]",
      "text/plain": [
       "<Figure size 640x480 with 1 Axes>"
      ]
     },
     "metadata": {},
     "output_type": "display_data"
    },
    {
     "name": "stdout",
     "output_type": "stream",
     "text": [
      "0.5908208433641375 tensor(0.7298)\n"
     ]
    },
    {
     "data": {
      "image/png": "[encoded data removed]",
      "text/plain": [
       "<Figure size 640x480 with 1 Axes>"
      ]
     },
     "metadata": {},
     "output_type": "display_data"
    }
   ],
   "source": [
    "list_anomaly_in = model.anomaly_score_loader(loader_de_test, \"FR\", \"s0\", args[\"alpha\"], args[\"temperature\"])\n",
    "\n",
    "list_anomaly_out = model.anomaly_score_loader(loader_fr_train, \"FR\", \"s0\", args[\"alpha\"], args[\"temperature\"])\n",
    "\n",
    "show_gaphs(list_anomaly_in, list_anomaly_out, name = \"FR_FR_S0\")"
   ]
  },
  {
   "cell_type": "markdown",
   "metadata": {
    "tags": []
   },
   "source": [
    "### With access to outputs of the in sample"
   ]
  },
  {
   "cell_type": "code",
   "execution_count": 10,
   "metadata": {
    "tags": []
   },
   "outputs": [
    {
     "name": "stderr",
     "output_type": "stream",
     "text": [
      "Generate bag of distribution:   0%|          | 0/769 [00:00<?, ?it/s]/home/funny_shannon/.local/lib/python3.8/site-packages/transformers/generation/utils.py:1273: UserWarning: Neither `max_length` nor `max_new_tokens` has been set, `max_length` will default to 512 (`generation_config.max_length`). Controlling `max_length` via the config is deprecated and `max_length` will be removed from the config in v5 of Transformers -- we recommend using `max_new_tokens` to control the maximum length of the generation.\n",
      "  warnings.warn(\n",
      "Generate bag of distribution: 100%|██████████| 769/769 [11:14<00:00,  1.14it/s]\n"
     ]
    },
    {
     "data": {
      "text/plain": [
       "tensor([[1.1287e-01, 1.3945e-06, 1.8689e-03,  ..., 1.3574e-06, 1.3507e-06,\n",
       "         0.0000e+00],\n",
       "        [8.0689e-02, 1.6203e-06, 1.3432e-03,  ..., 1.6464e-06, 1.6555e-06,\n",
       "         0.0000e+00],\n",
       "        [8.5700e-02, 1.5217e-06, 2.6532e-02,  ..., 1.5255e-06, 1.4952e-06,\n",
       "         0.0000e+00],\n",
       "        ...,\n",
       "        [1.2872e-01, 1.5306e-06, 8.9557e-04,  ..., 1.5589e-06, 1.5161e-06,\n",
       "         0.0000e+00],\n",
       "        [1.1243e-01, 1.6426e-06, 3.4819e-04,  ..., 1.6138e-06, 1.5914e-06,\n",
       "         0.0000e+00],\n",
       "        [9.0423e-02, 1.2974e-06, 2.4088e-03,  ..., 1.2805e-06, 1.2508e-06,\n",
       "         0.0000e+00]])"
      ]
     },
     "execution_count": 10,
     "metadata": {},
     "output_type": "execute_result"
    }
   ],
   "source": [
    "model.generate_bag(loader_de_train)"
   ]
  },
  {
   "cell_type": "markdown",
   "metadata": {},
   "source": [
    "#### Rényi"
   ]
  },
  {
   "cell_type": "code",
   "execution_count": null,
   "metadata": {
    "tags": []
   },
   "outputs": [
    {
     "name": "stderr",
     "output_type": "stream",
     "text": [
      "Computing anomaly score for each data:   1%|          | 3/330 [03:14<5:53:13, 64.81s/it]"
     ]
    }
   ],
   "source": [
    "list_anomaly_in = model.anomaly_score_loader(loader_de_test, \"Renyi\", \"s1\", args[\"alpha\"], args[\"temperature\"])\n",
    "\n",
    "list_anomaly_out = model.anomaly_score_loader(loader_fr_train, \"Renyi\", \"s1\", args[\"alpha\"], args[\"temperature\"])\n",
    "\n",
    "show_gaphs(list_anomaly_in, list_anomaly_out, name = \"FR_Renyi_S1\")"
   ]
  },
  {
   "cell_type": "markdown",
   "metadata": {},
   "source": [
    "#### Fischer-Rao"
   ]
  },
  {
   "cell_type": "code",
   "execution_count": null,
   "metadata": {
    "tags": []
   },
   "outputs": [],
   "source": [
    "list_anomaly_in = model.anomaly_score_loader(loader_de_test, \"FR\", \"s1\", args[\"alpha\"], args[\"temperature\"])\n",
    "\n",
    "list_anomaly_out = model.anomaly_score_loader(loader_fr_train, \"FR\", \"s1\", args[\"alpha\"], args[\"temperature\"])\n",
    "\n",
    "show_gaphs(list_anomaly_in, list_anomaly_out, name = \"FR_FR_S1\")"
   ]
  },
  {
   "cell_type": "markdown",
   "metadata": {},
   "source": [
    "## Dutch OOD"
   ]
  },
  {
   "cell_type": "code",
   "execution_count": null,
   "metadata": {
    "tags": []
   },
   "outputs": [],
   "source": [
    "del data_fr, data_fr_train, data_fr_test, loader_fr_train, loader_fr_test\n",
    "del list_anomaly_in, list_anomaly_out"
   ]
  },
  {
   "cell_type": "code",
   "execution_count": null,
   "metadata": {
    "tags": []
   },
   "outputs": [],
   "source": [
    "data_nld = datasets.load_dataset('Helsinki-NLP/tatoeba_mt','eng-nld',split=datasets.Split.TEST,\n",
    "                                 verification_mode= datasets.VerificationMode.NO_CHECKS)\\\n",
    "                                    .rename_columns({'sourceLang': 'targetlang', 'targetlang': 'sourceLang',\n",
    "                                                     'sourceString': 'targetString', 'targetString': 'sourceString'})\n",
    "\n",
    "data_nld_train, data_nld_test = random_split(data_nld, [0.3, 0.7])\n",
    "\n",
    "loader_nld_train = DataLoader(data_nld_train, batch_size=args['batch_size'], num_workers=args['num_workers'], \n",
    "                       shuffle=args['shuffle'], drop_last=args['drop_last'])\n",
    "\n",
    "loader_nld_test = DataLoader(data_nld_test, batch_size=args['batch_size'], num_workers=args['num_workers'], \n",
    "                       shuffle=args['shuffle'], drop_last=args['drop_last'])"
   ]
  },
  {
   "cell_type": "markdown",
   "metadata": {},
   "source": [
    "### With access to outputs of the in sample"
   ]
  },
  {
   "cell_type": "markdown",
   "metadata": {},
   "source": [
    "#### Rényi"
   ]
  },
  {
   "cell_type": "code",
   "execution_count": null,
   "metadata": {
    "tags": []
   },
   "outputs": [],
   "source": [
    "list_anomaly_in = model.anomaly_score_loader(loader_de_test, \"Renyi\", \"s0\", args[\"alpha\"], args[\"temperature\"])\n",
    "\n",
    "list_anomaly_out = model.anomaly_score_loader(loader_nld_train, \"Renyi\", \"s0\", args[\"alpha\"], args[\"temperature\"])\n",
    "\n",
    "show_gaphs(list_anomaly_in, list_anomaly_out, name = \"NLD_Renyi_S0\")"
   ]
  },
  {
   "cell_type": "markdown",
   "metadata": {},
   "source": [
    "#### Fischer-Rao"
   ]
  },
  {
   "cell_type": "code",
   "execution_count": null,
   "metadata": {
    "tags": []
   },
   "outputs": [],
   "source": [
    "list_anomaly_in = model.anomaly_score_loader(loader_de_test, \"FR\", \"s0\", args[\"alpha\"], args[\"temperature\"])\n",
    "\n",
    "list_anomaly_out = model.anomaly_score_loader(loader_nld_train, \"FR\", \"s0\", args[\"alpha\"], args[\"temperature\"])\n",
    "\n",
    "show_gaphs(list_anomaly_in, list_anomaly_out, name = \"NLD_FR_S0\")"
   ]
  },
  {
   "cell_type": "markdown",
   "metadata": {},
   "source": [
    "### With access to outputs of the in sample"
   ]
  },
  {
   "cell_type": "markdown",
   "metadata": {},
   "source": [
    "#### Rényi"
   ]
  },
  {
   "cell_type": "code",
   "execution_count": null,
   "metadata": {
    "tags": []
   },
   "outputs": [],
   "source": [
    "list_anomaly_in = model.anomaly_score_loader(loader_de_test, \"Renyi\", \"s1\", args[\"alpha\"], args[\"temperature\"])\n",
    "\n",
    "list_anomaly_out = model.anomaly_score_loader(loader_nld_train, \"Renyi\", \"s1\", args[\"alpha\"], args[\"temperature\"])\n",
    "\n",
    "show_gaphs(list_anomaly_in, list_anomaly_out, name = \"NLD_Renyi_S1\")"
   ]
  },
  {
   "cell_type": "markdown",
   "metadata": {},
   "source": [
    "#### Fischer-Rao"
   ]
  },
  {
   "cell_type": "code",
   "execution_count": null,
   "metadata": {
    "tags": []
   },
   "outputs": [],
   "source": [
    "list_anomaly_in = model.anomaly_score_loader(loader_de_test, \"FR\", \"s1\", args[\"alpha\"], args[\"temperature\"])\n",
    "\n",
    "list_anomaly_out = model.anomaly_score_loader(loader_nld_train, \"FR\", \"s1\", args[\"alpha\"], args[\"temperature\"])\n",
    "\n",
    "show_gaphs(list_anomaly_in, list_anomaly_out, name = \"NLD_FR_S1\")"
   ]
  }
 ],
 "metadata": {
  "kernelspec": {
   "display_name": "Python 3 (ipykernel)",
   "language": "python",
   "name": "python3"
  },
  "language_info": {
   "codemirror_mode": {
    "name": "ipython",
    "version": 3
   },
   "file_extension": ".py",
   "mimetype": "text/x-python",
   "name": "python",
   "nbconvert_exporter": "python",
   "pygments_lexer": "ipython3",
   "version": "3.8.10"
  },
  "vscode": {
   "interpreter": {
    "hash": "d4d1e4263499bec80672ea0156c357c1ee493ec2b1c70f0acce89fc37c4a6abe"
   }
  }
 },
 "nbformat": 4,
 "nbformat_minor": 4
}
